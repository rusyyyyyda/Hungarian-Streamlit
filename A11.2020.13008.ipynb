{
  "cells": [
    {
      "cell_type": "markdown",
      "metadata": {
        "id": "_Iyk6q2w0Q-i"
      },
      "source": [
        "### 1. Pengumpulan Data\n",
        "\n",
        "Dataset yang digunakan berasal dari link berikut ini :\n",
        "https://archive.ics.uci.edu/dataset/45/heart+disease\n",
        "Dataset yang digunakan dalam penelitian ini adalah dataset Hungarian heart-disease yang terdapat pada UCI Respository dengan nama file 'Hungarian.data'."
      ]
    },
    {
      "cell_type": "markdown",
      "metadata": {
        "id": "Hq3dEsTG0zNx"
      },
      "source": [
        "### 2. Menelaah Data"
      ]
    },
    {
      "cell_type": "markdown",
      "metadata": {
        "id": "xq3m3NBwSck1"
      },
      "source": [
        "Pilih dan masukkan library yang kita butuhkan untuk penelitian ini"
      ]
    },
    {
      "cell_type": "code",
      "execution_count": 1,
      "metadata": {
        "id": "jHavZ2QgXwu5"
      },
      "outputs": [],
      "source": [
        "import pandas as pd\n",
        "import numpy as np\n",
        "import matplotlib.pyplot as plt\n",
        "import seaborn as sns\n",
        "import itertools\n",
        "import re"
      ]
    },
    {
      "cell_type": "markdown",
      "metadata": {
        "id": "c4EVRa7QSoyr"
      },
      "source": [
        "#### Load Data"
      ]
    },
    {
      "cell_type": "markdown",
      "metadata": {
        "id": "E9o53MFqSy0M"
      },
      "source": [
        "Masukkan dataset yang dibutuhkan dengan alamat penyimpanan yang tepat dan simpan kedalam sebuah variabel"
      ]
    },
    {
      "cell_type": "code",
      "execution_count": 2,
      "metadata": {
        "id": "XOMMMx1Mq71G"
      },
      "outputs": [],
      "source": [
        "dir = 'hungarian.data'"
      ]
    },
    {
      "cell_type": "markdown",
      "metadata": {
        "id": "t4e_keeJS13s"
      },
      "source": [
        "Buatlah suatu iterasi untuk membaca dataset"
      ]
    },
    {
      "cell_type": "code",
      "execution_count": 3,
      "metadata": {
        "colab": {
          "base_uri": "https://localhost:8080/"
        },
        "id": "l09Z2cfGrAJ1",
        "outputId": "35dfd51e-09b2-4b8f-b9a1-c8d3924cf854"
      },
      "outputs": [
        {
          "data": {
            "text/plain": [
              "['1254 0 40 1 1 0 0',\n",
              " '-9 2 140 0 289 -9 -9 -9',\n",
              " '0 -9 -9 0 12 16 84 0',\n",
              " '0 0 0 0 150 18 -9 7',\n",
              " '172 86 200 110 140 86 0 0',\n",
              " '0 -9 26 20 -9 -9 -9 -9',\n",
              " '-9 -9 -9 -9 -9 -9 -9 12',\n",
              " '20 84 0 -9 -9 -9 -9 -9',\n",
              " '-9 -9 -9 -9 -9 1 1 1',\n",
              " '1 1 -9. -9. name']"
            ]
          },
          "execution_count": 3,
          "metadata": {},
          "output_type": "execute_result"
        }
      ],
      "source": [
        "with open(dir, encoding='Latin1') as file:\n",
        "  lines = [line.strip() for line in file]\n",
        "\n",
        "lines[0:10]"
      ]
    },
    {
      "cell_type": "markdown",
      "metadata": {
        "id": "Gb6N_hvwTDnt"
      },
      "source": [
        "Setelah membaca file dataset lakukan iterasi sesuai jumlah kolom dan baris yang ada pada dataset. Untuk keterangan kolom dan baris dapat dilihat melalui deskripsi dataset yang sudah dijelaskan sebelumnya"
      ]
    },
    {
      "cell_type": "code",
      "execution_count": 4,
      "metadata": {
        "colab": {
          "base_uri": "https://localhost:8080/",
          "height": 235
        },
        "id": "wUxPKmXEtY7M",
        "outputId": "ffb0780c-87d5-4c65-cc70-30da519588a9"
      },
      "outputs": [
        {
          "data": {
            "text/html": [
              "<div>\n",
              "<style scoped>\n",
              "    .dataframe tbody tr th:only-of-type {\n",
              "        vertical-align: middle;\n",
              "    }\n",
              "\n",
              "    .dataframe tbody tr th {\n",
              "        vertical-align: top;\n",
              "    }\n",
              "\n",
              "    .dataframe thead th {\n",
              "        text-align: right;\n",
              "    }\n",
              "</style>\n",
              "<table border=\"1\" class=\"dataframe\">\n",
              "  <thead>\n",
              "    <tr style=\"text-align: right;\">\n",
              "      <th></th>\n",
              "      <th>0</th>\n",
              "      <th>1</th>\n",
              "      <th>2</th>\n",
              "      <th>3</th>\n",
              "      <th>4</th>\n",
              "      <th>5</th>\n",
              "      <th>6</th>\n",
              "      <th>7</th>\n",
              "      <th>8</th>\n",
              "      <th>9</th>\n",
              "      <th>...</th>\n",
              "      <th>66</th>\n",
              "      <th>67</th>\n",
              "      <th>68</th>\n",
              "      <th>69</th>\n",
              "      <th>70</th>\n",
              "      <th>71</th>\n",
              "      <th>72</th>\n",
              "      <th>73</th>\n",
              "      <th>74</th>\n",
              "      <th>75</th>\n",
              "    </tr>\n",
              "  </thead>\n",
              "  <tbody>\n",
              "    <tr>\n",
              "      <th>0</th>\n",
              "      <td>1254</td>\n",
              "      <td>0</td>\n",
              "      <td>40</td>\n",
              "      <td>1</td>\n",
              "      <td>1</td>\n",
              "      <td>0</td>\n",
              "      <td>0</td>\n",
              "      <td>-9</td>\n",
              "      <td>2</td>\n",
              "      <td>140</td>\n",
              "      <td>...</td>\n",
              "      <td>-9</td>\n",
              "      <td>-9</td>\n",
              "      <td>1</td>\n",
              "      <td>1</td>\n",
              "      <td>1</td>\n",
              "      <td>1</td>\n",
              "      <td>1</td>\n",
              "      <td>-9.</td>\n",
              "      <td>-9.</td>\n",
              "      <td>name</td>\n",
              "    </tr>\n",
              "    <tr>\n",
              "      <th>1</th>\n",
              "      <td>1255</td>\n",
              "      <td>0</td>\n",
              "      <td>49</td>\n",
              "      <td>0</td>\n",
              "      <td>1</td>\n",
              "      <td>0</td>\n",
              "      <td>0</td>\n",
              "      <td>-9</td>\n",
              "      <td>3</td>\n",
              "      <td>160</td>\n",
              "      <td>...</td>\n",
              "      <td>-9</td>\n",
              "      <td>-9</td>\n",
              "      <td>1</td>\n",
              "      <td>1</td>\n",
              "      <td>1</td>\n",
              "      <td>1</td>\n",
              "      <td>1</td>\n",
              "      <td>-9.</td>\n",
              "      <td>-9.</td>\n",
              "      <td>name</td>\n",
              "    </tr>\n",
              "    <tr>\n",
              "      <th>2</th>\n",
              "      <td>1256</td>\n",
              "      <td>0</td>\n",
              "      <td>37</td>\n",
              "      <td>1</td>\n",
              "      <td>1</td>\n",
              "      <td>0</td>\n",
              "      <td>0</td>\n",
              "      <td>-9</td>\n",
              "      <td>2</td>\n",
              "      <td>130</td>\n",
              "      <td>...</td>\n",
              "      <td>-9</td>\n",
              "      <td>-9</td>\n",
              "      <td>1</td>\n",
              "      <td>1</td>\n",
              "      <td>1</td>\n",
              "      <td>1</td>\n",
              "      <td>1</td>\n",
              "      <td>-9.</td>\n",
              "      <td>-9.</td>\n",
              "      <td>name</td>\n",
              "    </tr>\n",
              "    <tr>\n",
              "      <th>3</th>\n",
              "      <td>1257</td>\n",
              "      <td>0</td>\n",
              "      <td>48</td>\n",
              "      <td>0</td>\n",
              "      <td>1</td>\n",
              "      <td>1</td>\n",
              "      <td>1</td>\n",
              "      <td>-9</td>\n",
              "      <td>4</td>\n",
              "      <td>138</td>\n",
              "      <td>...</td>\n",
              "      <td>2</td>\n",
              "      <td>-9</td>\n",
              "      <td>1</td>\n",
              "      <td>1</td>\n",
              "      <td>1</td>\n",
              "      <td>1</td>\n",
              "      <td>1</td>\n",
              "      <td>-9.</td>\n",
              "      <td>-9.</td>\n",
              "      <td>name</td>\n",
              "    </tr>\n",
              "    <tr>\n",
              "      <th>4</th>\n",
              "      <td>1258</td>\n",
              "      <td>0</td>\n",
              "      <td>54</td>\n",
              "      <td>1</td>\n",
              "      <td>1</td>\n",
              "      <td>0</td>\n",
              "      <td>1</td>\n",
              "      <td>-9</td>\n",
              "      <td>3</td>\n",
              "      <td>150</td>\n",
              "      <td>...</td>\n",
              "      <td>1</td>\n",
              "      <td>-9</td>\n",
              "      <td>1</td>\n",
              "      <td>1</td>\n",
              "      <td>1</td>\n",
              "      <td>1</td>\n",
              "      <td>1</td>\n",
              "      <td>-9.</td>\n",
              "      <td>-9.</td>\n",
              "      <td>name</td>\n",
              "    </tr>\n",
              "  </tbody>\n",
              "</table>\n",
              "<p>5 rows × 76 columns</p>\n",
              "</div>"
            ],
            "text/plain": [
              "     0  1   2  3  4  5  6   7  8    9   ...  66  67 68 69 70 71 72   73   74  \\\n",
              "0  1254  0  40  1  1  0  0  -9  2  140  ...  -9  -9  1  1  1  1  1  -9.  -9.   \n",
              "1  1255  0  49  0  1  0  0  -9  3  160  ...  -9  -9  1  1  1  1  1  -9.  -9.   \n",
              "2  1256  0  37  1  1  0  0  -9  2  130  ...  -9  -9  1  1  1  1  1  -9.  -9.   \n",
              "3  1257  0  48  0  1  1  1  -9  4  138  ...   2  -9  1  1  1  1  1  -9.  -9.   \n",
              "4  1258  0  54  1  1  0  1  -9  3  150  ...   1  -9  1  1  1  1  1  -9.  -9.   \n",
              "\n",
              "     75  \n",
              "0  name  \n",
              "1  name  \n",
              "2  name  \n",
              "3  name  \n",
              "4  name  \n",
              "\n",
              "[5 rows x 76 columns]"
            ]
          },
          "execution_count": 4,
          "metadata": {},
          "output_type": "execute_result"
        }
      ],
      "source": [
        "data = itertools.takewhile(\n",
        "  lambda x: len(x) == 76,\n",
        "  (' '.join(lines[i:(i + 10)]).split() for i in range(0, len(lines), 10))\n",
        ")\n",
        "\n",
        "df = pd.DataFrame.from_records(data)\n",
        "\n",
        "df.head()"
      ]
    },
    {
      "cell_type": "markdown",
      "metadata": {
        "id": "4ZGtD2uoTJ3B"
      },
      "source": [
        "Menampilkan informasi dataset ke dalam DataFrame"
      ]
    },
    {
      "cell_type": "code",
      "execution_count": 5,
      "metadata": {
        "colab": {
          "base_uri": "https://localhost:8080/"
        },
        "id": "4jpZQ8fLtlcN",
        "outputId": "b5d4057d-02fb-4913-f415-d53f8be7bef2"
      },
      "outputs": [
        {
          "name": "stdout",
          "output_type": "stream",
          "text": [
            "<class 'pandas.core.frame.DataFrame'>\n",
            "RangeIndex: 294 entries, 0 to 293\n",
            "Data columns (total 76 columns):\n",
            " #   Column  Non-Null Count  Dtype \n",
            "---  ------  --------------  ----- \n",
            " 0   0       294 non-null    object\n",
            " 1   1       294 non-null    object\n",
            " 2   2       294 non-null    object\n",
            " 3   3       294 non-null    object\n",
            " 4   4       294 non-null    object\n",
            " 5   5       294 non-null    object\n",
            " 6   6       294 non-null    object\n",
            " 7   7       294 non-null    object\n",
            " 8   8       294 non-null    object\n",
            " 9   9       294 non-null    object\n",
            " 10  10      294 non-null    object\n",
            " 11  11      294 non-null    object\n",
            " 12  12      294 non-null    object\n",
            " 13  13      294 non-null    object\n",
            " 14  14      294 non-null    object\n",
            " 15  15      294 non-null    object\n",
            " 16  16      294 non-null    object\n",
            " 17  17      294 non-null    object\n",
            " 18  18      294 non-null    object\n",
            " 19  19      294 non-null    object\n",
            " 20  20      294 non-null    object\n",
            " 21  21      294 non-null    object\n",
            " 22  22      294 non-null    object\n",
            " 23  23      294 non-null    object\n",
            " 24  24      294 non-null    object\n",
            " 25  25      294 non-null    object\n",
            " 26  26      294 non-null    object\n",
            " 27  27      294 non-null    object\n",
            " 28  28      294 non-null    object\n",
            " 29  29      294 non-null    object\n",
            " 30  30      294 non-null    object\n",
            " 31  31      294 non-null    object\n",
            " 32  32      294 non-null    object\n",
            " 33  33      294 non-null    object\n",
            " 34  34      294 non-null    object\n",
            " 35  35      294 non-null    object\n",
            " 36  36      294 non-null    object\n",
            " 37  37      294 non-null    object\n",
            " 38  38      294 non-null    object\n",
            " 39  39      294 non-null    object\n",
            " 40  40      294 non-null    object\n",
            " 41  41      294 non-null    object\n",
            " 42  42      294 non-null    object\n",
            " 43  43      294 non-null    object\n",
            " 44  44      294 non-null    object\n",
            " 45  45      294 non-null    object\n",
            " 46  46      294 non-null    object\n",
            " 47  47      294 non-null    object\n",
            " 48  48      294 non-null    object\n",
            " 49  49      294 non-null    object\n",
            " 50  50      294 non-null    object\n",
            " 51  51      294 non-null    object\n",
            " 52  52      294 non-null    object\n",
            " 53  53      294 non-null    object\n",
            " 54  54      294 non-null    object\n",
            " 55  55      294 non-null    object\n",
            " 56  56      294 non-null    object\n",
            " 57  57      294 non-null    object\n",
            " 58  58      294 non-null    object\n",
            " 59  59      294 non-null    object\n",
            " 60  60      294 non-null    object\n",
            " 61  61      294 non-null    object\n",
            " 62  62      294 non-null    object\n",
            " 63  63      294 non-null    object\n",
            " 64  64      294 non-null    object\n",
            " 65  65      294 non-null    object\n",
            " 66  66      294 non-null    object\n",
            " 67  67      294 non-null    object\n",
            " 68  68      294 non-null    object\n",
            " 69  69      294 non-null    object\n",
            " 70  70      294 non-null    object\n",
            " 71  71      294 non-null    object\n",
            " 72  72      294 non-null    object\n",
            " 73  73      294 non-null    object\n",
            " 74  74      294 non-null    object\n",
            " 75  75      294 non-null    object\n",
            "dtypes: object(76)\n",
            "memory usage: 174.7+ KB\n"
          ]
        }
      ],
      "source": [
        "df.info()"
      ]
    },
    {
      "cell_type": "markdown",
      "metadata": {
        "id": "ZFvZLFQwTbyN"
      },
      "source": [
        "Pada kondisi dataset yang kita gunakan terdapat kondisi khusus yang dimana sebelum memasuki tahap validasi data untuk tipe data object atau string perlu dilakukan tahapan penghapusan fitur dikarenakan pada dataset ini nilai null disimbolkan dengan angka -9.0"
      ]
    },
    {
      "cell_type": "code",
      "execution_count": 6,
      "metadata": {
        "id": "EZXMbtYwttmc"
      },
      "outputs": [],
      "source": [
        "df = df.iloc[:,:-1]\n",
        "df = df.drop(df.columns[0], axis=1)"
      ]
    },
    {
      "cell_type": "markdown",
      "metadata": {
        "id": "gkhO_DMTTqaY"
      },
      "source": [
        "Mengubah tipe dataset menjadi tipe data float dengan nilai null yaitu -9.0"
      ]
    },
    {
      "cell_type": "code",
      "execution_count": 7,
      "metadata": {
        "id": "XFNa7wuMuG78"
      },
      "outputs": [],
      "source": [
        "df = df.astype(float)"
      ]
    },
    {
      "cell_type": "code",
      "execution_count": 8,
      "metadata": {
        "colab": {
          "base_uri": "https://localhost:8080/"
        },
        "id": "-w3CyQDPuLvM",
        "outputId": "19e80609-b89b-47c0-85db-4c120f75d7a9"
      },
      "outputs": [
        {
          "name": "stdout",
          "output_type": "stream",
          "text": [
            "<class 'pandas.core.frame.DataFrame'>\n",
            "RangeIndex: 294 entries, 0 to 293\n",
            "Data columns (total 74 columns):\n",
            " #   Column  Non-Null Count  Dtype  \n",
            "---  ------  --------------  -----  \n",
            " 0   1       294 non-null    float64\n",
            " 1   2       294 non-null    float64\n",
            " 2   3       294 non-null    float64\n",
            " 3   4       294 non-null    float64\n",
            " 4   5       294 non-null    float64\n",
            " 5   6       294 non-null    float64\n",
            " 6   7       294 non-null    float64\n",
            " 7   8       294 non-null    float64\n",
            " 8   9       294 non-null    float64\n",
            " 9   10      294 non-null    float64\n",
            " 10  11      294 non-null    float64\n",
            " 11  12      294 non-null    float64\n",
            " 12  13      294 non-null    float64\n",
            " 13  14      294 non-null    float64\n",
            " 14  15      294 non-null    float64\n",
            " 15  16      294 non-null    float64\n",
            " 16  17      294 non-null    float64\n",
            " 17  18      294 non-null    float64\n",
            " 18  19      294 non-null    float64\n",
            " 19  20      294 non-null    float64\n",
            " 20  21      294 non-null    float64\n",
            " 21  22      294 non-null    float64\n",
            " 22  23      294 non-null    float64\n",
            " 23  24      294 non-null    float64\n",
            " 24  25      294 non-null    float64\n",
            " 25  26      294 non-null    float64\n",
            " 26  27      294 non-null    float64\n",
            " 27  28      294 non-null    float64\n",
            " 28  29      294 non-null    float64\n",
            " 29  30      294 non-null    float64\n",
            " 30  31      294 non-null    float64\n",
            " 31  32      294 non-null    float64\n",
            " 32  33      294 non-null    float64\n",
            " 33  34      294 non-null    float64\n",
            " 34  35      294 non-null    float64\n",
            " 35  36      294 non-null    float64\n",
            " 36  37      294 non-null    float64\n",
            " 37  38      294 non-null    float64\n",
            " 38  39      294 non-null    float64\n",
            " 39  40      294 non-null    float64\n",
            " 40  41      294 non-null    float64\n",
            " 41  42      294 non-null    float64\n",
            " 42  43      294 non-null    float64\n",
            " 43  44      294 non-null    float64\n",
            " 44  45      294 non-null    float64\n",
            " 45  46      294 non-null    float64\n",
            " 46  47      294 non-null    float64\n",
            " 47  48      294 non-null    float64\n",
            " 48  49      294 non-null    float64\n",
            " 49  50      294 non-null    float64\n",
            " 50  51      294 non-null    float64\n",
            " 51  52      294 non-null    float64\n",
            " 52  53      294 non-null    float64\n",
            " 53  54      294 non-null    float64\n",
            " 54  55      294 non-null    float64\n",
            " 55  56      294 non-null    float64\n",
            " 56  57      294 non-null    float64\n",
            " 57  58      294 non-null    float64\n",
            " 58  59      294 non-null    float64\n",
            " 59  60      294 non-null    float64\n",
            " 60  61      294 non-null    float64\n",
            " 61  62      294 non-null    float64\n",
            " 62  63      294 non-null    float64\n",
            " 63  64      294 non-null    float64\n",
            " 64  65      294 non-null    float64\n",
            " 65  66      294 non-null    float64\n",
            " 66  67      294 non-null    float64\n",
            " 67  68      294 non-null    float64\n",
            " 68  69      294 non-null    float64\n",
            " 69  70      294 non-null    float64\n",
            " 70  71      294 non-null    float64\n",
            " 71  72      294 non-null    float64\n",
            " 72  73      294 non-null    float64\n",
            " 73  74      294 non-null    float64\n",
            "dtypes: float64(74)\n",
            "memory usage: 170.1 KB\n"
          ]
        }
      ],
      "source": [
        "df.info()"
      ]
    },
    {
      "cell_type": "markdown",
      "metadata": {
        "id": "oGkibjPY1JtR"
      },
      "source": [
        "### 3. Validasi Data"
      ]
    },
    {
      "cell_type": "markdown",
      "metadata": {
        "id": "AJMLM1OE1QlI"
      },
      "source": [
        "Pada tahap ini bertujuan mengetahui dan memahami isi dari dataset agar dapat dilakukan penanganan sesuai dengan kondisinya\n",
        "\n",
        "Mengubah -9.0 menjadi nilai null value sesuai dengan deskripsi dataset"
      ]
    },
    {
      "cell_type": "code",
      "execution_count": 9,
      "metadata": {
        "id": "8hkL6FfCuOa0"
      },
      "outputs": [],
      "source": [
        "df.replace(-9.0, np.nan, inplace=True)"
      ]
    },
    {
      "cell_type": "markdown",
      "metadata": {
        "id": "-wEbcfDyUGZE"
      },
      "source": [
        "Menghitung jumlah nilai null pada dataset"
      ]
    },
    {
      "cell_type": "code",
      "execution_count": 10,
      "metadata": {
        "colab": {
          "base_uri": "https://localhost:8080/"
        },
        "id": "vfFMjV1wunDc",
        "outputId": "9e0c6870-5595-4dc6-8fa9-dd885dd851da"
      },
      "outputs": [
        {
          "data": {
            "text/plain": [
              "1       0\n",
              "2       0\n",
              "3       0\n",
              "4       0\n",
              "5       0\n",
              "     ... \n",
              "70      0\n",
              "71      0\n",
              "72      0\n",
              "73    266\n",
              "74    294\n",
              "Length: 74, dtype: int64"
            ]
          },
          "execution_count": 10,
          "metadata": {},
          "output_type": "execute_result"
        }
      ],
      "source": [
        "df.isnull().sum()"
      ]
    },
    {
      "cell_type": "code",
      "execution_count": 11,
      "metadata": {
        "colab": {
          "base_uri": "https://localhost:8080/",
          "height": 235
        },
        "id": "X_gDssePusOk",
        "outputId": "c53f4993-771c-4a1a-ea16-dfa366e25cbd"
      },
      "outputs": [
        {
          "data": {
            "text/html": [
              "<div>\n",
              "<style scoped>\n",
              "    .dataframe tbody tr th:only-of-type {\n",
              "        vertical-align: middle;\n",
              "    }\n",
              "\n",
              "    .dataframe tbody tr th {\n",
              "        vertical-align: top;\n",
              "    }\n",
              "\n",
              "    .dataframe thead th {\n",
              "        text-align: right;\n",
              "    }\n",
              "</style>\n",
              "<table border=\"1\" class=\"dataframe\">\n",
              "  <thead>\n",
              "    <tr style=\"text-align: right;\">\n",
              "      <th></th>\n",
              "      <th>1</th>\n",
              "      <th>2</th>\n",
              "      <th>3</th>\n",
              "      <th>4</th>\n",
              "      <th>5</th>\n",
              "      <th>6</th>\n",
              "      <th>7</th>\n",
              "      <th>8</th>\n",
              "      <th>9</th>\n",
              "      <th>10</th>\n",
              "      <th>...</th>\n",
              "      <th>65</th>\n",
              "      <th>66</th>\n",
              "      <th>67</th>\n",
              "      <th>68</th>\n",
              "      <th>69</th>\n",
              "      <th>70</th>\n",
              "      <th>71</th>\n",
              "      <th>72</th>\n",
              "      <th>73</th>\n",
              "      <th>74</th>\n",
              "    </tr>\n",
              "  </thead>\n",
              "  <tbody>\n",
              "    <tr>\n",
              "      <th>0</th>\n",
              "      <td>0.0</td>\n",
              "      <td>40.0</td>\n",
              "      <td>1.0</td>\n",
              "      <td>1.0</td>\n",
              "      <td>0.0</td>\n",
              "      <td>0.0</td>\n",
              "      <td>NaN</td>\n",
              "      <td>2.0</td>\n",
              "      <td>140.0</td>\n",
              "      <td>0.0</td>\n",
              "      <td>...</td>\n",
              "      <td>NaN</td>\n",
              "      <td>NaN</td>\n",
              "      <td>NaN</td>\n",
              "      <td>1.0</td>\n",
              "      <td>1.0</td>\n",
              "      <td>1.0</td>\n",
              "      <td>1.0</td>\n",
              "      <td>1.0</td>\n",
              "      <td>NaN</td>\n",
              "      <td>NaN</td>\n",
              "    </tr>\n",
              "    <tr>\n",
              "      <th>1</th>\n",
              "      <td>0.0</td>\n",
              "      <td>49.0</td>\n",
              "      <td>0.0</td>\n",
              "      <td>1.0</td>\n",
              "      <td>0.0</td>\n",
              "      <td>0.0</td>\n",
              "      <td>NaN</td>\n",
              "      <td>3.0</td>\n",
              "      <td>160.0</td>\n",
              "      <td>1.0</td>\n",
              "      <td>...</td>\n",
              "      <td>NaN</td>\n",
              "      <td>NaN</td>\n",
              "      <td>NaN</td>\n",
              "      <td>1.0</td>\n",
              "      <td>1.0</td>\n",
              "      <td>1.0</td>\n",
              "      <td>1.0</td>\n",
              "      <td>1.0</td>\n",
              "      <td>NaN</td>\n",
              "      <td>NaN</td>\n",
              "    </tr>\n",
              "    <tr>\n",
              "      <th>2</th>\n",
              "      <td>0.0</td>\n",
              "      <td>37.0</td>\n",
              "      <td>1.0</td>\n",
              "      <td>1.0</td>\n",
              "      <td>0.0</td>\n",
              "      <td>0.0</td>\n",
              "      <td>NaN</td>\n",
              "      <td>2.0</td>\n",
              "      <td>130.0</td>\n",
              "      <td>0.0</td>\n",
              "      <td>...</td>\n",
              "      <td>NaN</td>\n",
              "      <td>NaN</td>\n",
              "      <td>NaN</td>\n",
              "      <td>1.0</td>\n",
              "      <td>1.0</td>\n",
              "      <td>1.0</td>\n",
              "      <td>1.0</td>\n",
              "      <td>1.0</td>\n",
              "      <td>NaN</td>\n",
              "      <td>NaN</td>\n",
              "    </tr>\n",
              "    <tr>\n",
              "      <th>3</th>\n",
              "      <td>0.0</td>\n",
              "      <td>48.0</td>\n",
              "      <td>0.0</td>\n",
              "      <td>1.0</td>\n",
              "      <td>1.0</td>\n",
              "      <td>1.0</td>\n",
              "      <td>NaN</td>\n",
              "      <td>4.0</td>\n",
              "      <td>138.0</td>\n",
              "      <td>0.0</td>\n",
              "      <td>...</td>\n",
              "      <td>NaN</td>\n",
              "      <td>2.0</td>\n",
              "      <td>NaN</td>\n",
              "      <td>1.0</td>\n",
              "      <td>1.0</td>\n",
              "      <td>1.0</td>\n",
              "      <td>1.0</td>\n",
              "      <td>1.0</td>\n",
              "      <td>NaN</td>\n",
              "      <td>NaN</td>\n",
              "    </tr>\n",
              "    <tr>\n",
              "      <th>4</th>\n",
              "      <td>0.0</td>\n",
              "      <td>54.0</td>\n",
              "      <td>1.0</td>\n",
              "      <td>1.0</td>\n",
              "      <td>0.0</td>\n",
              "      <td>1.0</td>\n",
              "      <td>NaN</td>\n",
              "      <td>3.0</td>\n",
              "      <td>150.0</td>\n",
              "      <td>0.0</td>\n",
              "      <td>...</td>\n",
              "      <td>NaN</td>\n",
              "      <td>1.0</td>\n",
              "      <td>NaN</td>\n",
              "      <td>1.0</td>\n",
              "      <td>1.0</td>\n",
              "      <td>1.0</td>\n",
              "      <td>1.0</td>\n",
              "      <td>1.0</td>\n",
              "      <td>NaN</td>\n",
              "      <td>NaN</td>\n",
              "    </tr>\n",
              "  </tbody>\n",
              "</table>\n",
              "<p>5 rows × 74 columns</p>\n",
              "</div>"
            ],
            "text/plain": [
              "    1     2    3    4    5    6   7    8      9    10  ...  65   66  67   68  \\\n",
              "0  0.0  40.0  1.0  1.0  0.0  0.0 NaN  2.0  140.0  0.0  ... NaN  NaN NaN  1.0   \n",
              "1  0.0  49.0  0.0  1.0  0.0  0.0 NaN  3.0  160.0  1.0  ... NaN  NaN NaN  1.0   \n",
              "2  0.0  37.0  1.0  1.0  0.0  0.0 NaN  2.0  130.0  0.0  ... NaN  NaN NaN  1.0   \n",
              "3  0.0  48.0  0.0  1.0  1.0  1.0 NaN  4.0  138.0  0.0  ... NaN  2.0 NaN  1.0   \n",
              "4  0.0  54.0  1.0  1.0  0.0  1.0 NaN  3.0  150.0  0.0  ... NaN  1.0 NaN  1.0   \n",
              "\n",
              "    69   70   71   72  73  74  \n",
              "0  1.0  1.0  1.0  1.0 NaN NaN  \n",
              "1  1.0  1.0  1.0  1.0 NaN NaN  \n",
              "2  1.0  1.0  1.0  1.0 NaN NaN  \n",
              "3  1.0  1.0  1.0  1.0 NaN NaN  \n",
              "4  1.0  1.0  1.0  1.0 NaN NaN  \n",
              "\n",
              "[5 rows x 74 columns]"
            ]
          },
          "execution_count": 11,
          "metadata": {},
          "output_type": "execute_result"
        }
      ],
      "source": [
        "df.head()"
      ]
    },
    {
      "cell_type": "code",
      "execution_count": 12,
      "metadata": {
        "colab": {
          "base_uri": "https://localhost:8080/"
        },
        "id": "MIU9_WvWuyar",
        "outputId": "ec840c3e-f22e-45e2-c7df-ec83f979fae4"
      },
      "outputs": [
        {
          "name": "stdout",
          "output_type": "stream",
          "text": [
            "<class 'pandas.core.frame.DataFrame'>\n",
            "RangeIndex: 294 entries, 0 to 293\n",
            "Data columns (total 74 columns):\n",
            " #   Column  Non-Null Count  Dtype  \n",
            "---  ------  --------------  -----  \n",
            " 0   1       294 non-null    float64\n",
            " 1   2       294 non-null    float64\n",
            " 2   3       294 non-null    float64\n",
            " 3   4       294 non-null    float64\n",
            " 4   5       294 non-null    float64\n",
            " 5   6       294 non-null    float64\n",
            " 6   7       0 non-null      float64\n",
            " 7   8       294 non-null    float64\n",
            " 8   9       293 non-null    float64\n",
            " 9   10      293 non-null    float64\n",
            " 10  11      271 non-null    float64\n",
            " 11  12      12 non-null     float64\n",
            " 12  13      1 non-null      float64\n",
            " 13  14      0 non-null      float64\n",
            " 14  15      286 non-null    float64\n",
            " 15  16      21 non-null     float64\n",
            " 16  17      1 non-null      float64\n",
            " 17  18      293 non-null    float64\n",
            " 18  19      294 non-null    float64\n",
            " 19  20      294 non-null    float64\n",
            " 20  21      294 non-null    float64\n",
            " 21  22      293 non-null    float64\n",
            " 22  23      292 non-null    float64\n",
            " 23  24      293 non-null    float64\n",
            " 24  25      293 non-null    float64\n",
            " 25  26      293 non-null    float64\n",
            " 26  27      285 non-null    float64\n",
            " 27  28      292 non-null    float64\n",
            " 28  29      104 non-null    float64\n",
            " 29  30      292 non-null    float64\n",
            " 30  31      293 non-null    float64\n",
            " 31  32      293 non-null    float64\n",
            " 32  33      293 non-null    float64\n",
            " 33  34      293 non-null    float64\n",
            " 34  35      293 non-null    float64\n",
            " 35  36      293 non-null    float64\n",
            " 36  37      293 non-null    float64\n",
            " 37  38      292 non-null    float64\n",
            " 38  39      294 non-null    float64\n",
            " 39  40      104 non-null    float64\n",
            " 40  41      293 non-null    float64\n",
            " 41  42      294 non-null    float64\n",
            " 42  43      4 non-null      float64\n",
            " 43  44      0 non-null      float64\n",
            " 44  45      0 non-null      float64\n",
            " 45  46      0 non-null      float64\n",
            " 46  47      3 non-null      float64\n",
            " 47  48      0 non-null      float64\n",
            " 48  49      2 non-null      float64\n",
            " 49  50      28 non-null     float64\n",
            " 50  51      27 non-null     float64\n",
            " 51  52      17 non-null     float64\n",
            " 52  53      0 non-null      float64\n",
            " 53  54      294 non-null    float64\n",
            " 54  55      294 non-null    float64\n",
            " 55  56      294 non-null    float64\n",
            " 56  57      294 non-null    float64\n",
            " 57  58      19 non-null     float64\n",
            " 58  59      58 non-null     float64\n",
            " 59  60      48 non-null     float64\n",
            " 60  61      18 non-null     float64\n",
            " 61  62      59 non-null     float64\n",
            " 62  63      9 non-null      float64\n",
            " 63  64      23 non-null     float64\n",
            " 64  65      5 non-null      float64\n",
            " 65  66      50 non-null     float64\n",
            " 66  67      25 non-null     float64\n",
            " 67  68      294 non-null    float64\n",
            " 68  69      294 non-null    float64\n",
            " 69  70      294 non-null    float64\n",
            " 70  71      294 non-null    float64\n",
            " 71  72      294 non-null    float64\n",
            " 72  73      28 non-null     float64\n",
            " 73  74      0 non-null      float64\n",
            "dtypes: float64(74)\n",
            "memory usage: 170.1 KB\n"
          ]
        }
      ],
      "source": [
        "df.info()"
      ]
    },
    {
      "cell_type": "markdown",
      "metadata": {
        "id": "H7-y_xvs2DCI"
      },
      "source": [
        "### 4. Menentukan Object Data"
      ]
    },
    {
      "cell_type": "markdown",
      "metadata": {
        "id": "Sjb8JPy5USO1"
      },
      "source": [
        "Memilih 14 fitur yang akan digunakan sesuai dengan ketentuan pada UCI Machine Learning"
      ]
    },
    {
      "cell_type": "code",
      "execution_count": 13,
      "metadata": {
        "id": "7c8dxZuzveg7"
      },
      "outputs": [],
      "source": [
        "df_selected = df.iloc[:, [1, 2, 7, 8, 10, 14, 17, 30, 36, 38, 39, 42, 49, 56]]"
      ]
    },
    {
      "cell_type": "code",
      "execution_count": 14,
      "metadata": {
        "colab": {
          "base_uri": "https://localhost:8080/",
          "height": 206
        },
        "id": "KpPwf1V6wWQt",
        "outputId": "6b902792-8cb0-4bb8-b51f-2e6534a88f30"
      },
      "outputs": [
        {
          "data": {
            "text/html": [
              "<div>\n",
              "<style scoped>\n",
              "    .dataframe tbody tr th:only-of-type {\n",
              "        vertical-align: middle;\n",
              "    }\n",
              "\n",
              "    .dataframe tbody tr th {\n",
              "        vertical-align: top;\n",
              "    }\n",
              "\n",
              "    .dataframe thead th {\n",
              "        text-align: right;\n",
              "    }\n",
              "</style>\n",
              "<table border=\"1\" class=\"dataframe\">\n",
              "  <thead>\n",
              "    <tr style=\"text-align: right;\">\n",
              "      <th></th>\n",
              "      <th>2</th>\n",
              "      <th>3</th>\n",
              "      <th>8</th>\n",
              "      <th>9</th>\n",
              "      <th>11</th>\n",
              "      <th>15</th>\n",
              "      <th>18</th>\n",
              "      <th>31</th>\n",
              "      <th>37</th>\n",
              "      <th>39</th>\n",
              "      <th>40</th>\n",
              "      <th>43</th>\n",
              "      <th>50</th>\n",
              "      <th>57</th>\n",
              "    </tr>\n",
              "  </thead>\n",
              "  <tbody>\n",
              "    <tr>\n",
              "      <th>0</th>\n",
              "      <td>40.0</td>\n",
              "      <td>1.0</td>\n",
              "      <td>2.0</td>\n",
              "      <td>140.0</td>\n",
              "      <td>289.0</td>\n",
              "      <td>0.0</td>\n",
              "      <td>0.0</td>\n",
              "      <td>172.0</td>\n",
              "      <td>0.0</td>\n",
              "      <td>0.0</td>\n",
              "      <td>NaN</td>\n",
              "      <td>NaN</td>\n",
              "      <td>NaN</td>\n",
              "      <td>0.0</td>\n",
              "    </tr>\n",
              "    <tr>\n",
              "      <th>1</th>\n",
              "      <td>49.0</td>\n",
              "      <td>0.0</td>\n",
              "      <td>3.0</td>\n",
              "      <td>160.0</td>\n",
              "      <td>180.0</td>\n",
              "      <td>0.0</td>\n",
              "      <td>0.0</td>\n",
              "      <td>156.0</td>\n",
              "      <td>0.0</td>\n",
              "      <td>1.0</td>\n",
              "      <td>2.0</td>\n",
              "      <td>NaN</td>\n",
              "      <td>NaN</td>\n",
              "      <td>1.0</td>\n",
              "    </tr>\n",
              "    <tr>\n",
              "      <th>2</th>\n",
              "      <td>37.0</td>\n",
              "      <td>1.0</td>\n",
              "      <td>2.0</td>\n",
              "      <td>130.0</td>\n",
              "      <td>283.0</td>\n",
              "      <td>0.0</td>\n",
              "      <td>1.0</td>\n",
              "      <td>98.0</td>\n",
              "      <td>0.0</td>\n",
              "      <td>0.0</td>\n",
              "      <td>NaN</td>\n",
              "      <td>NaN</td>\n",
              "      <td>NaN</td>\n",
              "      <td>0.0</td>\n",
              "    </tr>\n",
              "    <tr>\n",
              "      <th>3</th>\n",
              "      <td>48.0</td>\n",
              "      <td>0.0</td>\n",
              "      <td>4.0</td>\n",
              "      <td>138.0</td>\n",
              "      <td>214.0</td>\n",
              "      <td>0.0</td>\n",
              "      <td>0.0</td>\n",
              "      <td>108.0</td>\n",
              "      <td>1.0</td>\n",
              "      <td>1.5</td>\n",
              "      <td>2.0</td>\n",
              "      <td>NaN</td>\n",
              "      <td>NaN</td>\n",
              "      <td>3.0</td>\n",
              "    </tr>\n",
              "    <tr>\n",
              "      <th>4</th>\n",
              "      <td>54.0</td>\n",
              "      <td>1.0</td>\n",
              "      <td>3.0</td>\n",
              "      <td>150.0</td>\n",
              "      <td>NaN</td>\n",
              "      <td>0.0</td>\n",
              "      <td>0.0</td>\n",
              "      <td>122.0</td>\n",
              "      <td>0.0</td>\n",
              "      <td>0.0</td>\n",
              "      <td>NaN</td>\n",
              "      <td>NaN</td>\n",
              "      <td>NaN</td>\n",
              "      <td>0.0</td>\n",
              "    </tr>\n",
              "  </tbody>\n",
              "</table>\n",
              "</div>"
            ],
            "text/plain": [
              "     2    3    8      9      11   15   18     31   37   39   40  43  50   57\n",
              "0  40.0  1.0  2.0  140.0  289.0  0.0  0.0  172.0  0.0  0.0  NaN NaN NaN  0.0\n",
              "1  49.0  0.0  3.0  160.0  180.0  0.0  0.0  156.0  0.0  1.0  2.0 NaN NaN  1.0\n",
              "2  37.0  1.0  2.0  130.0  283.0  0.0  1.0   98.0  0.0  0.0  NaN NaN NaN  0.0\n",
              "3  48.0  0.0  4.0  138.0  214.0  0.0  0.0  108.0  1.0  1.5  2.0 NaN NaN  3.0\n",
              "4  54.0  1.0  3.0  150.0    NaN  0.0  0.0  122.0  0.0  0.0  NaN NaN NaN  0.0"
            ]
          },
          "execution_count": 14,
          "metadata": {},
          "output_type": "execute_result"
        }
      ],
      "source": [
        "df_selected.head()"
      ]
    },
    {
      "cell_type": "code",
      "execution_count": 15,
      "metadata": {
        "colab": {
          "base_uri": "https://localhost:8080/"
        },
        "id": "Fx60-YW0wZaz",
        "outputId": "d226c9dd-02ff-4cf0-96cd-ef622dcf246f"
      },
      "outputs": [
        {
          "name": "stdout",
          "output_type": "stream",
          "text": [
            "<class 'pandas.core.frame.DataFrame'>\n",
            "RangeIndex: 294 entries, 0 to 293\n",
            "Data columns (total 14 columns):\n",
            " #   Column  Non-Null Count  Dtype  \n",
            "---  ------  --------------  -----  \n",
            " 0   2       294 non-null    float64\n",
            " 1   3       294 non-null    float64\n",
            " 2   8       294 non-null    float64\n",
            " 3   9       293 non-null    float64\n",
            " 4   11      271 non-null    float64\n",
            " 5   15      286 non-null    float64\n",
            " 6   18      293 non-null    float64\n",
            " 7   31      293 non-null    float64\n",
            " 8   37      293 non-null    float64\n",
            " 9   39      294 non-null    float64\n",
            " 10  40      104 non-null    float64\n",
            " 11  43      4 non-null      float64\n",
            " 12  50      28 non-null     float64\n",
            " 13  57      294 non-null    float64\n",
            "dtypes: float64(14)\n",
            "memory usage: 32.3 KB\n"
          ]
        }
      ],
      "source": [
        "df_selected.info()"
      ]
    },
    {
      "cell_type": "markdown",
      "metadata": {
        "id": "AnIyvSFgUcj7"
      },
      "source": [
        "Mengganti nama 14 kolom sesuai dengan deskripsi pada dataset"
      ]
    },
    {
      "cell_type": "code",
      "execution_count": 16,
      "metadata": {
        "colab": {
          "base_uri": "https://localhost:8080/"
        },
        "id": "cFSDHyiCyPBC",
        "outputId": "35e0f72d-0887-48f7-810e-edafbdffe934"
      },
      "outputs": [
        {
          "name": "stderr",
          "output_type": "stream",
          "text": [
            "C:\\Users\\Lenovo\\AppData\\Local\\Temp\\ipykernel_12212\\2105507912.py:18: SettingWithCopyWarning: \n",
            "A value is trying to be set on a copy of a slice from a DataFrame\n",
            "\n",
            "See the caveats in the documentation: https://pandas.pydata.org/pandas-docs/stable/user_guide/indexing.html#returning-a-view-versus-a-copy\n",
            "  df_selected.rename(columns=column_mapping, inplace=True)\n"
          ]
        }
      ],
      "source": [
        "column_mapping = {\n",
        "    2: 'age',\n",
        "    3: 'sex',\n",
        "    8: 'cp',\n",
        "    9: 'trestbps',\n",
        "    11: 'chol',\n",
        "    15: 'fbs',\n",
        "    18: 'restecg',\n",
        "    31: 'thalach',\n",
        "    37: 'exang',\n",
        "    39: 'oldpeak',\n",
        "    40: 'slope',\n",
        "    43: 'ca',\n",
        "    50: 'thal',\n",
        "    57: 'target'\n",
        "}\n",
        "\n",
        "df_selected.rename(columns=column_mapping, inplace=True)"
      ]
    },
    {
      "cell_type": "code",
      "execution_count": 17,
      "metadata": {
        "colab": {
          "base_uri": "https://localhost:8080/"
        },
        "id": "VsPTrNjGyVET",
        "outputId": "1382ffe3-1e1e-4e12-f1b2-56583456f751"
      },
      "outputs": [
        {
          "name": "stdout",
          "output_type": "stream",
          "text": [
            "<class 'pandas.core.frame.DataFrame'>\n",
            "RangeIndex: 294 entries, 0 to 293\n",
            "Data columns (total 14 columns):\n",
            " #   Column    Non-Null Count  Dtype  \n",
            "---  ------    --------------  -----  \n",
            " 0   age       294 non-null    float64\n",
            " 1   sex       294 non-null    float64\n",
            " 2   cp        294 non-null    float64\n",
            " 3   trestbps  293 non-null    float64\n",
            " 4   chol      271 non-null    float64\n",
            " 5   fbs       286 non-null    float64\n",
            " 6   restecg   293 non-null    float64\n",
            " 7   thalach   293 non-null    float64\n",
            " 8   exang     293 non-null    float64\n",
            " 9   oldpeak   294 non-null    float64\n",
            " 10  slope     104 non-null    float64\n",
            " 11  ca        4 non-null      float64\n",
            " 12  thal      28 non-null     float64\n",
            " 13  target    294 non-null    float64\n",
            "dtypes: float64(14)\n",
            "memory usage: 32.3 KB\n"
          ]
        }
      ],
      "source": [
        "df_selected.info()"
      ]
    },
    {
      "cell_type": "markdown",
      "metadata": {
        "id": "7iCZaVj-UlQf"
      },
      "source": [
        "Menghitung jumlah fitur yang ada pada dataset"
      ]
    },
    {
      "cell_type": "code",
      "execution_count": 18,
      "metadata": {
        "colab": {
          "base_uri": "https://localhost:8080/"
        },
        "id": "JnG6Kv4x3swZ",
        "outputId": "29b91c4c-394e-460d-eff4-cd48fa0e4447"
      },
      "outputs": [
        {
          "data": {
            "text/plain": [
              "age   sex  cp   trestbps  chol   fbs  restecg  thalach  exang  oldpeak  slope  ca   thal  target\n",
              "47.0  1.0  4.0  150.0     226.0  0.0  0.0      98.0     1.0    1.5      2.0    0.0  7.0   1.0       1\n",
              "Name: count, dtype: int64"
            ]
          },
          "execution_count": 18,
          "metadata": {},
          "output_type": "execute_result"
        }
      ],
      "source": [
        "df_selected.value_counts()"
      ]
    },
    {
      "cell_type": "markdown",
      "metadata": {
        "id": "gz5JSeCiK2SQ"
      },
      "source": [
        "### 5. Membersihkan Data"
      ]
    },
    {
      "cell_type": "markdown",
      "metadata": {
        "id": "ffQczt-PUwWW"
      },
      "source": [
        "Sebelum melakukan pemodelan dilakukan pembersihan data agar model yang dihasilkan lebih akurat\n",
        "\n",
        "\n",
        "Menghitung jumlah null values yang ada diddalam dataset"
      ]
    },
    {
      "cell_type": "code",
      "execution_count": 19,
      "metadata": {
        "colab": {
          "base_uri": "https://localhost:8080/"
        },
        "id": "zGnVEdjP3xFY",
        "outputId": "bb057af5-8f1e-4ea4-df3e-7ef685675f45"
      },
      "outputs": [
        {
          "data": {
            "text/plain": [
              "age           0\n",
              "sex           0\n",
              "cp            0\n",
              "trestbps      1\n",
              "chol         23\n",
              "fbs           8\n",
              "restecg       1\n",
              "thalach       1\n",
              "exang         1\n",
              "oldpeak       0\n",
              "slope       190\n",
              "ca          290\n",
              "thal        266\n",
              "target        0\n",
              "dtype: int64"
            ]
          },
          "execution_count": 19,
          "metadata": {},
          "output_type": "execute_result"
        }
      ],
      "source": [
        "df_selected.isnull().sum()"
      ]
    },
    {
      "cell_type": "markdown",
      "metadata": {
        "id": "MkB7sUpPU7EA"
      },
      "source": [
        "Berdasarkan output kode program diatas ada beberapa fitur yang hampir 90% datanya memiliki nilai null sehingga perlu dilakukan penghapusan fitur menggunakan fungsi drop"
      ]
    },
    {
      "cell_type": "code",
      "execution_count": 20,
      "metadata": {
        "id": "xoyQT2ZA37uQ"
      },
      "outputs": [],
      "source": [
        "columns_to_drop = ['ca', 'slope','thal']\n",
        "df_selected = df_selected.drop(columns_to_drop, axis=1)"
      ]
    },
    {
      "cell_type": "code",
      "execution_count": 21,
      "metadata": {
        "colab": {
          "base_uri": "https://localhost:8080/"
        },
        "id": "jqV9EAWM4SDo",
        "outputId": "b6eec359-d167-4aec-94da-5c014b0574aa"
      },
      "outputs": [
        {
          "data": {
            "text/plain": [
              "age          0\n",
              "sex          0\n",
              "cp           0\n",
              "trestbps     1\n",
              "chol        23\n",
              "fbs          8\n",
              "restecg      1\n",
              "thalach      1\n",
              "exang        1\n",
              "oldpeak      0\n",
              "target       0\n",
              "dtype: int64"
            ]
          },
          "execution_count": 21,
          "metadata": {},
          "output_type": "execute_result"
        }
      ],
      "source": [
        "df_selected.isnull().sum()"
      ]
    },
    {
      "cell_type": "markdown",
      "metadata": {
        "id": "os7dzY2SVAYk"
      },
      "source": [
        "Dikarenakan masih ada nilai null dibeberapa kolom fitur maka akan dilakukan pengisian nilai null menggunakan nilai mean di setiap kolomnya. Namun, ada beberapa cara lain yang dapat dilakukan untuk pengisian nilai null yaitu menggunakan nilai yang paling sering muncul (modus) atau nilai tengah (median)"
      ]
    },
    {
      "cell_type": "code",
      "execution_count": 22,
      "metadata": {
        "id": "qvjTIb_K4eVQ"
      },
      "outputs": [],
      "source": [
        "meanTBPS = df_selected['trestbps'].dropna()\n",
        "meanChol = df_selected['chol'].dropna()\n",
        "meanfbs = df_selected['fbs'].dropna()\n",
        "meanRestCG = df_selected['restecg'].dropna()\n",
        "meanthalach = df_selected['thalach'].dropna()\n",
        "meanexang = df_selected['exang'].dropna()"
      ]
    },
    {
      "cell_type": "code",
      "execution_count": 23,
      "metadata": {
        "id": "lZBc2E-X4h14"
      },
      "outputs": [],
      "source": [
        "meanTBPS = meanTBPS.astype(float)\n",
        "meanChol = meanChol.astype(float)\n",
        "meanfbs = meanfbs.astype(float)\n",
        "meanthalach = meanthalach.astype(float)\n",
        "meanexang = meanexang.astype(float)\n",
        "meanRestCG = meanRestCG.astype(float)"
      ]
    },
    {
      "cell_type": "code",
      "execution_count": 24,
      "metadata": {
        "id": "V-vq3ANY4kYg"
      },
      "outputs": [],
      "source": [
        "meanTBPS = round(meanTBPS.mean())\n",
        "meanChol = round(meanChol.mean())\n",
        "meanfbs = round(meanfbs.mean())\n",
        "meanthalach = round(meanthalach.mean())\n",
        "meanexang = round(meanexang.mean())\n",
        "meanRestCG = round(meanRestCG.mean())"
      ]
    },
    {
      "cell_type": "markdown",
      "metadata": {
        "id": "LLoD_cQpVPvI"
      },
      "source": [
        "Mengubah nilai null menjadi nilai mean yang telah ditentukan sebelumnya"
      ]
    },
    {
      "cell_type": "code",
      "execution_count": 25,
      "metadata": {
        "id": "lqp919Vl4psA"
      },
      "outputs": [],
      "source": [
        "fill_values = {'trestbps': meanTBPS, 'chol': meanChol, 'fbs': meanfbs,\n",
        "              'thalach':meanthalach,'exang':meanexang,'restecg':meanRestCG}\n",
        "df_cleaned = df_selected.fillna(value=fill_values)"
      ]
    },
    {
      "cell_type": "code",
      "execution_count": 26,
      "metadata": {
        "colab": {
          "base_uri": "https://localhost:8080/"
        },
        "id": "JCF8p_Vx4vMQ",
        "outputId": "1f7e30eb-257d-4361-a502-c957c21674be"
      },
      "outputs": [
        {
          "name": "stdout",
          "output_type": "stream",
          "text": [
            "<class 'pandas.core.frame.DataFrame'>\n",
            "RangeIndex: 294 entries, 0 to 293\n",
            "Data columns (total 11 columns):\n",
            " #   Column    Non-Null Count  Dtype  \n",
            "---  ------    --------------  -----  \n",
            " 0   age       294 non-null    float64\n",
            " 1   sex       294 non-null    float64\n",
            " 2   cp        294 non-null    float64\n",
            " 3   trestbps  294 non-null    float64\n",
            " 4   chol      294 non-null    float64\n",
            " 5   fbs       294 non-null    float64\n",
            " 6   restecg   294 non-null    float64\n",
            " 7   thalach   294 non-null    float64\n",
            " 8   exang     294 non-null    float64\n",
            " 9   oldpeak   294 non-null    float64\n",
            " 10  target    294 non-null    float64\n",
            "dtypes: float64(11)\n",
            "memory usage: 25.4 KB\n"
          ]
        }
      ],
      "source": [
        "df_cleaned.info()"
      ]
    },
    {
      "cell_type": "code",
      "execution_count": 27,
      "metadata": {
        "colab": {
          "base_uri": "https://localhost:8080/"
        },
        "id": "2b7LEAoy9Pqd",
        "outputId": "2f729d2c-43db-406f-f6b1-840f27cd0453"
      },
      "outputs": [
        {
          "data": {
            "text/plain": [
              "age         0\n",
              "sex         0\n",
              "cp          0\n",
              "trestbps    0\n",
              "chol        0\n",
              "fbs         0\n",
              "restecg     0\n",
              "thalach     0\n",
              "exang       0\n",
              "oldpeak     0\n",
              "target      0\n",
              "dtype: int64"
            ]
          },
          "execution_count": 27,
          "metadata": {},
          "output_type": "execute_result"
        }
      ],
      "source": [
        "df_cleaned.isnull().sum()"
      ]
    },
    {
      "cell_type": "markdown",
      "metadata": {
        "id": "TGn9PdnwVXwa"
      },
      "source": [
        "Melakukan pengecekan duplikasi data"
      ]
    },
    {
      "cell_type": "code",
      "execution_count": 28,
      "metadata": {
        "colab": {
          "base_uri": "https://localhost:8080/",
          "height": 80
        },
        "id": "rQ6--WTYEpLQ",
        "outputId": "896e4220-a9b5-47a1-ea9f-6cd310141421"
      },
      "outputs": [
        {
          "data": {
            "text/html": [
              "<div>\n",
              "<style scoped>\n",
              "    .dataframe tbody tr th:only-of-type {\n",
              "        vertical-align: middle;\n",
              "    }\n",
              "\n",
              "    .dataframe tbody tr th {\n",
              "        vertical-align: top;\n",
              "    }\n",
              "\n",
              "    .dataframe thead th {\n",
              "        text-align: right;\n",
              "    }\n",
              "</style>\n",
              "<table border=\"1\" class=\"dataframe\">\n",
              "  <thead>\n",
              "    <tr style=\"text-align: right;\">\n",
              "      <th></th>\n",
              "      <th>age</th>\n",
              "      <th>sex</th>\n",
              "      <th>cp</th>\n",
              "      <th>trestbps</th>\n",
              "      <th>chol</th>\n",
              "      <th>fbs</th>\n",
              "      <th>restecg</th>\n",
              "      <th>thalach</th>\n",
              "      <th>exang</th>\n",
              "      <th>oldpeak</th>\n",
              "      <th>target</th>\n",
              "    </tr>\n",
              "  </thead>\n",
              "  <tbody>\n",
              "    <tr>\n",
              "      <th>163</th>\n",
              "      <td>49.0</td>\n",
              "      <td>0.0</td>\n",
              "      <td>2.0</td>\n",
              "      <td>110.0</td>\n",
              "      <td>251.0</td>\n",
              "      <td>0.0</td>\n",
              "      <td>0.0</td>\n",
              "      <td>160.0</td>\n",
              "      <td>0.0</td>\n",
              "      <td>0.0</td>\n",
              "      <td>0.0</td>\n",
              "    </tr>\n",
              "  </tbody>\n",
              "</table>\n",
              "</div>"
            ],
            "text/plain": [
              "      age  sex   cp  trestbps   chol  fbs  restecg  thalach  exang  oldpeak  \\\n",
              "163  49.0  0.0  2.0     110.0  251.0  0.0      0.0    160.0    0.0      0.0   \n",
              "\n",
              "     target  \n",
              "163     0.0  "
            ]
          },
          "execution_count": 28,
          "metadata": {},
          "output_type": "execute_result"
        }
      ],
      "source": [
        "duplicate_rows = df_cleaned.duplicated()\n",
        "df_cleaned[duplicate_rows]"
      ]
    },
    {
      "cell_type": "code",
      "execution_count": 29,
      "metadata": {
        "colab": {
          "base_uri": "https://localhost:8080/",
          "height": 130
        },
        "id": "1th5NJ2GEzQZ",
        "outputId": "1bfb92df-e8da-4cb6-d6b3-8b15cf6f3fc1"
      },
      "outputs": [
        {
          "name": "stdout",
          "output_type": "stream",
          "text": [
            "All Duplicate Rows:\n"
          ]
        },
        {
          "data": {
            "text/html": [
              "<div>\n",
              "<style scoped>\n",
              "    .dataframe tbody tr th:only-of-type {\n",
              "        vertical-align: middle;\n",
              "    }\n",
              "\n",
              "    .dataframe tbody tr th {\n",
              "        vertical-align: top;\n",
              "    }\n",
              "\n",
              "    .dataframe thead th {\n",
              "        text-align: right;\n",
              "    }\n",
              "</style>\n",
              "<table border=\"1\" class=\"dataframe\">\n",
              "  <thead>\n",
              "    <tr style=\"text-align: right;\">\n",
              "      <th></th>\n",
              "      <th>age</th>\n",
              "      <th>sex</th>\n",
              "      <th>cp</th>\n",
              "      <th>trestbps</th>\n",
              "      <th>chol</th>\n",
              "      <th>fbs</th>\n",
              "      <th>restecg</th>\n",
              "      <th>thalach</th>\n",
              "      <th>exang</th>\n",
              "      <th>oldpeak</th>\n",
              "      <th>target</th>\n",
              "    </tr>\n",
              "  </thead>\n",
              "  <tbody>\n",
              "    <tr>\n",
              "      <th>90</th>\n",
              "      <td>49.0</td>\n",
              "      <td>0.0</td>\n",
              "      <td>2.0</td>\n",
              "      <td>110.0</td>\n",
              "      <td>251.0</td>\n",
              "      <td>0.0</td>\n",
              "      <td>0.0</td>\n",
              "      <td>160.0</td>\n",
              "      <td>0.0</td>\n",
              "      <td>0.0</td>\n",
              "      <td>0.0</td>\n",
              "    </tr>\n",
              "    <tr>\n",
              "      <th>163</th>\n",
              "      <td>49.0</td>\n",
              "      <td>0.0</td>\n",
              "      <td>2.0</td>\n",
              "      <td>110.0</td>\n",
              "      <td>251.0</td>\n",
              "      <td>0.0</td>\n",
              "      <td>0.0</td>\n",
              "      <td>160.0</td>\n",
              "      <td>0.0</td>\n",
              "      <td>0.0</td>\n",
              "      <td>0.0</td>\n",
              "    </tr>\n",
              "  </tbody>\n",
              "</table>\n",
              "</div>"
            ],
            "text/plain": [
              "      age  sex   cp  trestbps   chol  fbs  restecg  thalach  exang  oldpeak  \\\n",
              "90   49.0  0.0  2.0     110.0  251.0  0.0      0.0    160.0    0.0      0.0   \n",
              "163  49.0  0.0  2.0     110.0  251.0  0.0      0.0    160.0    0.0      0.0   \n",
              "\n",
              "     target  \n",
              "90      0.0  \n",
              "163     0.0  "
            ]
          },
          "execution_count": 29,
          "metadata": {},
          "output_type": "execute_result"
        }
      ],
      "source": [
        "print(\"All Duplicate Rows:\")\n",
        "df_cleaned[df_cleaned.duplicated(keep=False)]"
      ]
    },
    {
      "cell_type": "markdown",
      "metadata": {
        "id": "YCisE3uAVePU"
      },
      "source": [
        "Menghapus data yang memiliki duplikat"
      ]
    },
    {
      "cell_type": "code",
      "execution_count": 30,
      "metadata": {
        "colab": {
          "base_uri": "https://localhost:8080/",
          "height": 71
        },
        "id": "5bz-7RbBFlpN",
        "outputId": "bd4e346f-09dc-4eb7-d8e0-637406f8c559"
      },
      "outputs": [
        {
          "name": "stdout",
          "output_type": "stream",
          "text": [
            "All Duplicate Rows:\n"
          ]
        },
        {
          "data": {
            "text/html": [
              "<div>\n",
              "<style scoped>\n",
              "    .dataframe tbody tr th:only-of-type {\n",
              "        vertical-align: middle;\n",
              "    }\n",
              "\n",
              "    .dataframe tbody tr th {\n",
              "        vertical-align: top;\n",
              "    }\n",
              "\n",
              "    .dataframe thead th {\n",
              "        text-align: right;\n",
              "    }\n",
              "</style>\n",
              "<table border=\"1\" class=\"dataframe\">\n",
              "  <thead>\n",
              "    <tr style=\"text-align: right;\">\n",
              "      <th></th>\n",
              "      <th>age</th>\n",
              "      <th>sex</th>\n",
              "      <th>cp</th>\n",
              "      <th>trestbps</th>\n",
              "      <th>chol</th>\n",
              "      <th>fbs</th>\n",
              "      <th>restecg</th>\n",
              "      <th>thalach</th>\n",
              "      <th>exang</th>\n",
              "      <th>oldpeak</th>\n",
              "      <th>target</th>\n",
              "    </tr>\n",
              "  </thead>\n",
              "  <tbody>\n",
              "  </tbody>\n",
              "</table>\n",
              "</div>"
            ],
            "text/plain": [
              "Empty DataFrame\n",
              "Columns: [age, sex, cp, trestbps, chol, fbs, restecg, thalach, exang, oldpeak, target]\n",
              "Index: []"
            ]
          },
          "execution_count": 30,
          "metadata": {},
          "output_type": "execute_result"
        }
      ],
      "source": [
        "df_cleaned = df_cleaned.drop_duplicates()\n",
        "print(\"All Duplicate Rows:\")\n",
        "df_cleaned[df_cleaned.duplicated(keep=False)]"
      ]
    },
    {
      "cell_type": "code",
      "execution_count": 31,
      "metadata": {
        "colab": {
          "base_uri": "https://localhost:8080/",
          "height": 206
        },
        "id": "zrYT39zLGLWZ",
        "outputId": "2e4775a2-c319-4bb9-e4b5-fd1e4ee09743"
      },
      "outputs": [
        {
          "data": {
            "text/html": [
              "<div>\n",
              "<style scoped>\n",
              "    .dataframe tbody tr th:only-of-type {\n",
              "        vertical-align: middle;\n",
              "    }\n",
              "\n",
              "    .dataframe tbody tr th {\n",
              "        vertical-align: top;\n",
              "    }\n",
              "\n",
              "    .dataframe thead th {\n",
              "        text-align: right;\n",
              "    }\n",
              "</style>\n",
              "<table border=\"1\" class=\"dataframe\">\n",
              "  <thead>\n",
              "    <tr style=\"text-align: right;\">\n",
              "      <th></th>\n",
              "      <th>age</th>\n",
              "      <th>sex</th>\n",
              "      <th>cp</th>\n",
              "      <th>trestbps</th>\n",
              "      <th>chol</th>\n",
              "      <th>fbs</th>\n",
              "      <th>restecg</th>\n",
              "      <th>thalach</th>\n",
              "      <th>exang</th>\n",
              "      <th>oldpeak</th>\n",
              "      <th>target</th>\n",
              "    </tr>\n",
              "  </thead>\n",
              "  <tbody>\n",
              "    <tr>\n",
              "      <th>0</th>\n",
              "      <td>40.0</td>\n",
              "      <td>1.0</td>\n",
              "      <td>2.0</td>\n",
              "      <td>140.0</td>\n",
              "      <td>289.0</td>\n",
              "      <td>0.0</td>\n",
              "      <td>0.0</td>\n",
              "      <td>172.0</td>\n",
              "      <td>0.0</td>\n",
              "      <td>0.0</td>\n",
              "      <td>0.0</td>\n",
              "    </tr>\n",
              "    <tr>\n",
              "      <th>1</th>\n",
              "      <td>49.0</td>\n",
              "      <td>0.0</td>\n",
              "      <td>3.0</td>\n",
              "      <td>160.0</td>\n",
              "      <td>180.0</td>\n",
              "      <td>0.0</td>\n",
              "      <td>0.0</td>\n",
              "      <td>156.0</td>\n",
              "      <td>0.0</td>\n",
              "      <td>1.0</td>\n",
              "      <td>1.0</td>\n",
              "    </tr>\n",
              "    <tr>\n",
              "      <th>2</th>\n",
              "      <td>37.0</td>\n",
              "      <td>1.0</td>\n",
              "      <td>2.0</td>\n",
              "      <td>130.0</td>\n",
              "      <td>283.0</td>\n",
              "      <td>0.0</td>\n",
              "      <td>1.0</td>\n",
              "      <td>98.0</td>\n",
              "      <td>0.0</td>\n",
              "      <td>0.0</td>\n",
              "      <td>0.0</td>\n",
              "    </tr>\n",
              "    <tr>\n",
              "      <th>3</th>\n",
              "      <td>48.0</td>\n",
              "      <td>0.0</td>\n",
              "      <td>4.0</td>\n",
              "      <td>138.0</td>\n",
              "      <td>214.0</td>\n",
              "      <td>0.0</td>\n",
              "      <td>0.0</td>\n",
              "      <td>108.0</td>\n",
              "      <td>1.0</td>\n",
              "      <td>1.5</td>\n",
              "      <td>3.0</td>\n",
              "    </tr>\n",
              "    <tr>\n",
              "      <th>4</th>\n",
              "      <td>54.0</td>\n",
              "      <td>1.0</td>\n",
              "      <td>3.0</td>\n",
              "      <td>150.0</td>\n",
              "      <td>251.0</td>\n",
              "      <td>0.0</td>\n",
              "      <td>0.0</td>\n",
              "      <td>122.0</td>\n",
              "      <td>0.0</td>\n",
              "      <td>0.0</td>\n",
              "      <td>0.0</td>\n",
              "    </tr>\n",
              "  </tbody>\n",
              "</table>\n",
              "</div>"
            ],
            "text/plain": [
              "    age  sex   cp  trestbps   chol  fbs  restecg  thalach  exang  oldpeak  \\\n",
              "0  40.0  1.0  2.0     140.0  289.0  0.0      0.0    172.0    0.0      0.0   \n",
              "1  49.0  0.0  3.0     160.0  180.0  0.0      0.0    156.0    0.0      1.0   \n",
              "2  37.0  1.0  2.0     130.0  283.0  0.0      1.0     98.0    0.0      0.0   \n",
              "3  48.0  0.0  4.0     138.0  214.0  0.0      0.0    108.0    1.0      1.5   \n",
              "4  54.0  1.0  3.0     150.0  251.0  0.0      0.0    122.0    0.0      0.0   \n",
              "\n",
              "   target  \n",
              "0     0.0  \n",
              "1     1.0  \n",
              "2     0.0  \n",
              "3     3.0  \n",
              "4     0.0  "
            ]
          },
          "execution_count": 31,
          "metadata": {},
          "output_type": "execute_result"
        }
      ],
      "source": [
        "df_cleaned.head()"
      ]
    },
    {
      "cell_type": "code",
      "execution_count": 32,
      "metadata": {
        "colab": {
          "base_uri": "https://localhost:8080/"
        },
        "id": "VIJn1-zCGOz0",
        "outputId": "4fb86dc8-893d-459d-dcff-9dadf4b1de21"
      },
      "outputs": [
        {
          "data": {
            "text/plain": [
              "target\n",
              "0.0    187\n",
              "1.0     37\n",
              "3.0     28\n",
              "2.0     26\n",
              "4.0     15\n",
              "Name: count, dtype: int64"
            ]
          },
          "execution_count": 32,
          "metadata": {},
          "output_type": "execute_result"
        }
      ],
      "source": [
        "df_cleaned['target'].value_counts()"
      ]
    },
    {
      "cell_type": "markdown",
      "metadata": {
        "id": "dhStz2f7Vk6E"
      },
      "source": [
        "Mencari korelasi antar fitur"
      ]
    },
    {
      "cell_type": "code",
      "execution_count": 33,
      "metadata": {
        "colab": {
          "base_uri": "https://localhost:8080/",
          "height": 1000
        },
        "id": "CDQSUzzQKBkl",
        "outputId": "05280926-8b2b-4fe9-bdfb-a6e7020f5e44"
      },
      "outputs": [
        {
          "name": "stdout",
          "output_type": "stream",
          "text": [
            "               age       sex        cp  trestbps      chol       fbs  \\\n",
            "age       1.000000  0.014516  0.146616  0.246571  0.087101  0.181130   \n",
            "sex       0.014516  1.000000  0.245769  0.082064  0.027695  0.044372   \n",
            "cp        0.146616  0.245769  1.000000  0.081293  0.134697  0.031930   \n",
            "trestbps  0.246571  0.082064  0.081293  1.000000  0.080818  0.096222   \n",
            "chol      0.087101  0.027695  0.134697  0.080818  1.000000  0.107686   \n",
            "fbs       0.181130  0.044372  0.031930  0.096222  0.107686  1.000000   \n",
            "restecg   0.050672 -0.108656 -0.016372  0.011256  0.048081  0.047988   \n",
            "thalach  -0.460514 -0.106959 -0.367819 -0.181824 -0.122038 -0.069722   \n",
            "exang     0.239223  0.154925  0.494674  0.211507  0.161055  0.115503   \n",
            "oldpeak   0.178172  0.115959  0.351735  0.204000  0.106743  0.063179   \n",
            "target    0.210429  0.220732  0.427536  0.214898  0.256027  0.154319   \n",
            "\n",
            "           restecg   thalach     exang   oldpeak    target  \n",
            "age       0.050672 -0.460514  0.239223  0.178172  0.210429  \n",
            "sex      -0.108656 -0.106959  0.154925  0.115959  0.220732  \n",
            "cp       -0.016372 -0.367819  0.494674  0.351735  0.427536  \n",
            "trestbps  0.011256 -0.181824  0.211507  0.204000  0.214898  \n",
            "chol      0.048081 -0.122038  0.161055  0.106743  0.256027  \n",
            "fbs       0.047988 -0.069722  0.115503  0.063179  0.154319  \n",
            "restecg   1.000000  0.006084  0.041290  0.042193  0.042643  \n",
            "thalach   0.006084  1.000000 -0.400508 -0.300458 -0.367525  \n",
            "exang     0.041290 -0.400508  1.000000  0.624965  0.571710  \n",
            "oldpeak   0.042193 -0.300458  0.624965  1.000000  0.580732  \n",
            "target    0.042643 -0.367525  0.571710  0.580732  1.000000  \n",
            "age         0.210429\n",
            "sex         0.220732\n",
            "cp          0.427536\n",
            "trestbps    0.214898\n",
            "chol        0.256027\n",
            "fbs         0.154319\n",
            "restecg     0.042643\n",
            "thalach    -0.367525\n",
            "exang       0.571710\n",
            "oldpeak     0.580732\n",
            "target      1.000000\n",
            "Name: target, dtype: float64\n"
          ]
        },
        {
          "data": {
            "image/png": "[encoded data removed]",
            "text/plain": [
              "<Figure size 1200x800 with 2 Axes>"
            ]
          },
          "metadata": {},
          "output_type": "display_data"
        }
      ],
      "source": [
        "correlation_matrix = df_cleaned.corr()\n",
        "\n",
        "# Menampilkan matriks korelasi\n",
        "print(correlation_matrix)\n",
        "\n",
        "# Anda juga dapat memilih untuk hanya menampilkan korelasi dengan target (kolom 'target')\n",
        "correlation_with_target = correlation_matrix['target']\n",
        "print(correlation_with_target)\n",
        "\n",
        "plt.figure(figsize=(12, 8))\n",
        "sns.heatmap(correlation_matrix, annot=True, cmap=\"coolwarm\", fmt=\".2f\")\n",
        "plt.title(\"Matriks Korelasi Pearson\")\n",
        "plt.show()"
      ]
    },
    {
      "cell_type": "markdown",
      "metadata": {
        "id": "KoTp0ctJLCXA"
      },
      "source": [
        "### 6. Konstruksi Data"
      ]
    },
    {
      "cell_type": "markdown",
      "metadata": {
        "id": "safvtf0LV2LL"
      },
      "source": [
        "Dalam tahap ini Konstruksi data salah satu tujuannya yaitu untuk menyesuaikan semua tipe data yang ada di dalam dataset. Namun pada tahap ini dataset sudah memiliki tipe data yang sesuai sehingga tidak perlu dilakukan penyesuaian kembali"
      ]
    },
    {
      "cell_type": "code",
      "execution_count": 34,
      "metadata": {
        "colab": {
          "base_uri": "https://localhost:8080/"
        },
        "id": "4fYHiiGkV8WM",
        "outputId": "83b06399-140f-48bf-cbe3-25db400b30da"
      },
      "outputs": [
        {
          "name": "stdout",
          "output_type": "stream",
          "text": [
            "<class 'pandas.core.frame.DataFrame'>\n",
            "Index: 293 entries, 0 to 293\n",
            "Data columns (total 11 columns):\n",
            " #   Column    Non-Null Count  Dtype  \n",
            "---  ------    --------------  -----  \n",
            " 0   age       293 non-null    float64\n",
            " 1   sex       293 non-null    float64\n",
            " 2   cp        293 non-null    float64\n",
            " 3   trestbps  293 non-null    float64\n",
            " 4   chol      293 non-null    float64\n",
            " 5   fbs       293 non-null    float64\n",
            " 6   restecg   293 non-null    float64\n",
            " 7   thalach   293 non-null    float64\n",
            " 8   exang     293 non-null    float64\n",
            " 9   oldpeak   293 non-null    float64\n",
            " 10  target    293 non-null    float64\n",
            "dtypes: float64(11)\n",
            "memory usage: 27.5 KB\n"
          ]
        }
      ],
      "source": [
        "df_cleaned.info()"
      ]
    },
    {
      "cell_type": "markdown",
      "metadata": {
        "id": "mr_OwUB95GbZ"
      },
      "source": [
        "menampilkan 5 data teratas"
      ]
    },
    {
      "cell_type": "code",
      "execution_count": 35,
      "metadata": {
        "colab": {
          "base_uri": "https://localhost:8080/",
          "height": 206
        },
        "id": "kR5pE8JlWAaE",
        "outputId": "610cf3d4-dbb7-4676-db97-b215e7245b8a"
      },
      "outputs": [
        {
          "data": {
            "text/html": [
              "<div>\n",
              "<style scoped>\n",
              "    .dataframe tbody tr th:only-of-type {\n",
              "        vertical-align: middle;\n",
              "    }\n",
              "\n",
              "    .dataframe tbody tr th {\n",
              "        vertical-align: top;\n",
              "    }\n",
              "\n",
              "    .dataframe thead th {\n",
              "        text-align: right;\n",
              "    }\n",
              "</style>\n",
              "<table border=\"1\" class=\"dataframe\">\n",
              "  <thead>\n",
              "    <tr style=\"text-align: right;\">\n",
              "      <th></th>\n",
              "      <th>age</th>\n",
              "      <th>sex</th>\n",
              "      <th>cp</th>\n",
              "      <th>trestbps</th>\n",
              "      <th>chol</th>\n",
              "      <th>fbs</th>\n",
              "      <th>restecg</th>\n",
              "      <th>thalach</th>\n",
              "      <th>exang</th>\n",
              "      <th>oldpeak</th>\n",
              "      <th>target</th>\n",
              "    </tr>\n",
              "  </thead>\n",
              "  <tbody>\n",
              "    <tr>\n",
              "      <th>0</th>\n",
              "      <td>40.0</td>\n",
              "      <td>1.0</td>\n",
              "      <td>2.0</td>\n",
              "      <td>140.0</td>\n",
              "      <td>289.0</td>\n",
              "      <td>0.0</td>\n",
              "      <td>0.0</td>\n",
              "      <td>172.0</td>\n",
              "      <td>0.0</td>\n",
              "      <td>0.0</td>\n",
              "      <td>0.0</td>\n",
              "    </tr>\n",
              "    <tr>\n",
              "      <th>1</th>\n",
              "      <td>49.0</td>\n",
              "      <td>0.0</td>\n",
              "      <td>3.0</td>\n",
              "      <td>160.0</td>\n",
              "      <td>180.0</td>\n",
              "      <td>0.0</td>\n",
              "      <td>0.0</td>\n",
              "      <td>156.0</td>\n",
              "      <td>0.0</td>\n",
              "      <td>1.0</td>\n",
              "      <td>1.0</td>\n",
              "    </tr>\n",
              "    <tr>\n",
              "      <th>2</th>\n",
              "      <td>37.0</td>\n",
              "      <td>1.0</td>\n",
              "      <td>2.0</td>\n",
              "      <td>130.0</td>\n",
              "      <td>283.0</td>\n",
              "      <td>0.0</td>\n",
              "      <td>1.0</td>\n",
              "      <td>98.0</td>\n",
              "      <td>0.0</td>\n",
              "      <td>0.0</td>\n",
              "      <td>0.0</td>\n",
              "    </tr>\n",
              "    <tr>\n",
              "      <th>3</th>\n",
              "      <td>48.0</td>\n",
              "      <td>0.0</td>\n",
              "      <td>4.0</td>\n",
              "      <td>138.0</td>\n",
              "      <td>214.0</td>\n",
              "      <td>0.0</td>\n",
              "      <td>0.0</td>\n",
              "      <td>108.0</td>\n",
              "      <td>1.0</td>\n",
              "      <td>1.5</td>\n",
              "      <td>3.0</td>\n",
              "    </tr>\n",
              "    <tr>\n",
              "      <th>4</th>\n",
              "      <td>54.0</td>\n",
              "      <td>1.0</td>\n",
              "      <td>3.0</td>\n",
              "      <td>150.0</td>\n",
              "      <td>251.0</td>\n",
              "      <td>0.0</td>\n",
              "      <td>0.0</td>\n",
              "      <td>122.0</td>\n",
              "      <td>0.0</td>\n",
              "      <td>0.0</td>\n",
              "      <td>0.0</td>\n",
              "    </tr>\n",
              "  </tbody>\n",
              "</table>\n",
              "</div>"
            ],
            "text/plain": [
              "    age  sex   cp  trestbps   chol  fbs  restecg  thalach  exang  oldpeak  \\\n",
              "0  40.0  1.0  2.0     140.0  289.0  0.0      0.0    172.0    0.0      0.0   \n",
              "1  49.0  0.0  3.0     160.0  180.0  0.0      0.0    156.0    0.0      1.0   \n",
              "2  37.0  1.0  2.0     130.0  283.0  0.0      1.0     98.0    0.0      0.0   \n",
              "3  48.0  0.0  4.0     138.0  214.0  0.0      0.0    108.0    1.0      1.5   \n",
              "4  54.0  1.0  3.0     150.0  251.0  0.0      0.0    122.0    0.0      0.0   \n",
              "\n",
              "   target  \n",
              "0     0.0  \n",
              "1     1.0  \n",
              "2     0.0  \n",
              "3     3.0  \n",
              "4     0.0  "
            ]
          },
          "execution_count": 35,
          "metadata": {},
          "output_type": "execute_result"
        }
      ],
      "source": [
        "df_cleaned.head(5)"
      ]
    },
    {
      "cell_type": "markdown",
      "metadata": {
        "id": "ACUDP5bMWQjA"
      },
      "source": [
        "Setelah menyesuaikan dataset yang kita gunakan, langkah selanjutnya adalah membagi dataset menjadi X dan y."
      ]
    },
    {
      "cell_type": "code",
      "execution_count": 36,
      "metadata": {
        "id": "iaGxCa8FGXvX"
      },
      "outputs": [],
      "source": [
        "X = df_cleaned.drop(\"target\", axis=1)\n",
        "y = df_cleaned[\"target\"]"
      ]
    },
    {
      "cell_type": "code",
      "execution_count": 37,
      "metadata": {
        "colab": {
          "base_uri": "https://localhost:8080/",
          "height": 423
        },
        "id": "-KYVrRaSG3YZ",
        "outputId": "ae4a05c2-3d77-4d96-c22d-bc2a2875b254"
      },
      "outputs": [
        {
          "data": {
            "text/html": [
              "<div>\n",
              "<style scoped>\n",
              "    .dataframe tbody tr th:only-of-type {\n",
              "        vertical-align: middle;\n",
              "    }\n",
              "\n",
              "    .dataframe tbody tr th {\n",
              "        vertical-align: top;\n",
              "    }\n",
              "\n",
              "    .dataframe thead th {\n",
              "        text-align: right;\n",
              "    }\n",
              "</style>\n",
              "<table border=\"1\" class=\"dataframe\">\n",
              "  <thead>\n",
              "    <tr style=\"text-align: right;\">\n",
              "      <th></th>\n",
              "      <th>age</th>\n",
              "      <th>sex</th>\n",
              "      <th>cp</th>\n",
              "      <th>trestbps</th>\n",
              "      <th>chol</th>\n",
              "      <th>fbs</th>\n",
              "      <th>restecg</th>\n",
              "      <th>thalach</th>\n",
              "      <th>exang</th>\n",
              "      <th>oldpeak</th>\n",
              "    </tr>\n",
              "  </thead>\n",
              "  <tbody>\n",
              "    <tr>\n",
              "      <th>0</th>\n",
              "      <td>40.0</td>\n",
              "      <td>1.0</td>\n",
              "      <td>2.0</td>\n",
              "      <td>140.0</td>\n",
              "      <td>289.0</td>\n",
              "      <td>0.0</td>\n",
              "      <td>0.0</td>\n",
              "      <td>172.0</td>\n",
              "      <td>0.0</td>\n",
              "      <td>0.0</td>\n",
              "    </tr>\n",
              "    <tr>\n",
              "      <th>1</th>\n",
              "      <td>49.0</td>\n",
              "      <td>0.0</td>\n",
              "      <td>3.0</td>\n",
              "      <td>160.0</td>\n",
              "      <td>180.0</td>\n",
              "      <td>0.0</td>\n",
              "      <td>0.0</td>\n",
              "      <td>156.0</td>\n",
              "      <td>0.0</td>\n",
              "      <td>1.0</td>\n",
              "    </tr>\n",
              "    <tr>\n",
              "      <th>2</th>\n",
              "      <td>37.0</td>\n",
              "      <td>1.0</td>\n",
              "      <td>2.0</td>\n",
              "      <td>130.0</td>\n",
              "      <td>283.0</td>\n",
              "      <td>0.0</td>\n",
              "      <td>1.0</td>\n",
              "      <td>98.0</td>\n",
              "      <td>0.0</td>\n",
              "      <td>0.0</td>\n",
              "    </tr>\n",
              "    <tr>\n",
              "      <th>3</th>\n",
              "      <td>48.0</td>\n",
              "      <td>0.0</td>\n",
              "      <td>4.0</td>\n",
              "      <td>138.0</td>\n",
              "      <td>214.0</td>\n",
              "      <td>0.0</td>\n",
              "      <td>0.0</td>\n",
              "      <td>108.0</td>\n",
              "      <td>1.0</td>\n",
              "      <td>1.5</td>\n",
              "    </tr>\n",
              "    <tr>\n",
              "      <th>4</th>\n",
              "      <td>54.0</td>\n",
              "      <td>1.0</td>\n",
              "      <td>3.0</td>\n",
              "      <td>150.0</td>\n",
              "      <td>251.0</td>\n",
              "      <td>0.0</td>\n",
              "      <td>0.0</td>\n",
              "      <td>122.0</td>\n",
              "      <td>0.0</td>\n",
              "      <td>0.0</td>\n",
              "    </tr>\n",
              "    <tr>\n",
              "      <th>...</th>\n",
              "      <td>...</td>\n",
              "      <td>...</td>\n",
              "      <td>...</td>\n",
              "      <td>...</td>\n",
              "      <td>...</td>\n",
              "      <td>...</td>\n",
              "      <td>...</td>\n",
              "      <td>...</td>\n",
              "      <td>...</td>\n",
              "      <td>...</td>\n",
              "    </tr>\n",
              "    <tr>\n",
              "      <th>289</th>\n",
              "      <td>48.0</td>\n",
              "      <td>0.0</td>\n",
              "      <td>2.0</td>\n",
              "      <td>133.0</td>\n",
              "      <td>308.0</td>\n",
              "      <td>0.0</td>\n",
              "      <td>1.0</td>\n",
              "      <td>139.0</td>\n",
              "      <td>0.0</td>\n",
              "      <td>2.0</td>\n",
              "    </tr>\n",
              "    <tr>\n",
              "      <th>290</th>\n",
              "      <td>36.0</td>\n",
              "      <td>1.0</td>\n",
              "      <td>2.0</td>\n",
              "      <td>120.0</td>\n",
              "      <td>166.0</td>\n",
              "      <td>0.0</td>\n",
              "      <td>0.0</td>\n",
              "      <td>180.0</td>\n",
              "      <td>0.0</td>\n",
              "      <td>0.0</td>\n",
              "    </tr>\n",
              "    <tr>\n",
              "      <th>291</th>\n",
              "      <td>48.0</td>\n",
              "      <td>1.0</td>\n",
              "      <td>3.0</td>\n",
              "      <td>110.0</td>\n",
              "      <td>211.0</td>\n",
              "      <td>0.0</td>\n",
              "      <td>0.0</td>\n",
              "      <td>138.0</td>\n",
              "      <td>0.0</td>\n",
              "      <td>0.0</td>\n",
              "    </tr>\n",
              "    <tr>\n",
              "      <th>292</th>\n",
              "      <td>47.0</td>\n",
              "      <td>0.0</td>\n",
              "      <td>2.0</td>\n",
              "      <td>140.0</td>\n",
              "      <td>257.0</td>\n",
              "      <td>0.0</td>\n",
              "      <td>0.0</td>\n",
              "      <td>135.0</td>\n",
              "      <td>0.0</td>\n",
              "      <td>1.0</td>\n",
              "    </tr>\n",
              "    <tr>\n",
              "      <th>293</th>\n",
              "      <td>53.0</td>\n",
              "      <td>1.0</td>\n",
              "      <td>4.0</td>\n",
              "      <td>130.0</td>\n",
              "      <td>182.0</td>\n",
              "      <td>0.0</td>\n",
              "      <td>0.0</td>\n",
              "      <td>148.0</td>\n",
              "      <td>0.0</td>\n",
              "      <td>0.0</td>\n",
              "    </tr>\n",
              "  </tbody>\n",
              "</table>\n",
              "<p>293 rows × 10 columns</p>\n",
              "</div>"
            ],
            "text/plain": [
              "      age  sex   cp  trestbps   chol  fbs  restecg  thalach  exang  oldpeak\n",
              "0    40.0  1.0  2.0     140.0  289.0  0.0      0.0    172.0    0.0      0.0\n",
              "1    49.0  0.0  3.0     160.0  180.0  0.0      0.0    156.0    0.0      1.0\n",
              "2    37.0  1.0  2.0     130.0  283.0  0.0      1.0     98.0    0.0      0.0\n",
              "3    48.0  0.0  4.0     138.0  214.0  0.0      0.0    108.0    1.0      1.5\n",
              "4    54.0  1.0  3.0     150.0  251.0  0.0      0.0    122.0    0.0      0.0\n",
              "..    ...  ...  ...       ...    ...  ...      ...      ...    ...      ...\n",
              "289  48.0  0.0  2.0     133.0  308.0  0.0      1.0    139.0    0.0      2.0\n",
              "290  36.0  1.0  2.0     120.0  166.0  0.0      0.0    180.0    0.0      0.0\n",
              "291  48.0  1.0  3.0     110.0  211.0  0.0      0.0    138.0    0.0      0.0\n",
              "292  47.0  0.0  2.0     140.0  257.0  0.0      0.0    135.0    0.0      1.0\n",
              "293  53.0  1.0  4.0     130.0  182.0  0.0      0.0    148.0    0.0      0.0\n",
              "\n",
              "[293 rows x 10 columns]"
            ]
          },
          "execution_count": 37,
          "metadata": {},
          "output_type": "execute_result"
        }
      ],
      "source": [
        "X"
      ]
    },
    {
      "cell_type": "markdown",
      "metadata": {
        "id": "Y48XbmJ3WjKH"
      },
      "source": [
        "Karena pada dataset memiliki 5 kelas label yaitu 0, 1, 2, 3, dan 4, untuk memudahkan dalam penelitian maka nilai kelas label kemudian direduksi  atau bisa kita sebut dengan value mapping menjadi 2 kelas saja yaitu 0 dan 1. Jadi nilai 1, 2, 3, dan 4 akan berubah menjadi 1 (Sakit Jantung) dan 0 (Sehat)."
      ]
    },
    {
      "cell_type": "code",
      "execution_count": 38,
      "metadata": {
        "colab": {
          "base_uri": "https://localhost:8080/"
        },
        "id": "NL_sAtA4HEXW",
        "outputId": "65bdf469-ef01-4b99-ba5a-6416dd907039"
      },
      "outputs": [
        {
          "data": {
            "text/plain": [
              "0     0\n",
              "1     1\n",
              "2     0\n",
              "3     1\n",
              "4     0\n",
              "5     0\n",
              "6     0\n",
              "7     0\n",
              "8     1\n",
              "9     0\n",
              "10    0\n",
              "11    1\n",
              "12    0\n",
              "13    1\n",
              "14    0\n",
              "15    0\n",
              "16    1\n",
              "17    0\n",
              "18    1\n",
              "19    1\n",
              "20    0\n",
              "21    0\n",
              "22    0\n",
              "23    1\n",
              "24    0\n",
              "25    0\n",
              "26    0\n",
              "27    0\n",
              "28    0\n",
              "29    0\n",
              "30    1\n",
              "31    0\n",
              "32    1\n",
              "33    1\n",
              "34    0\n",
              "35    0\n",
              "36    1\n",
              "37    0\n",
              "38    0\n",
              "39    0\n",
              "40    0\n",
              "41    1\n",
              "42    0\n",
              "43    0\n",
              "44    1\n",
              "45    0\n",
              "46    0\n",
              "47    0\n",
              "48    0\n",
              "49    1\n",
              "Name: target, dtype: int64"
            ]
          },
          "execution_count": 38,
          "metadata": {},
          "output_type": "execute_result"
        }
      ],
      "source": [
        "y = y.map({0: 0, 1: 1, 2: 1, 3: 1, 4: 1})\n",
        "y.head(50)"
      ]
    },
    {
      "cell_type": "markdown",
      "metadata": {
        "id": "_VRh-YlOXBxW"
      },
      "source": [
        "Setelah dilakukan Value Mapping, langkah selanjutnya adalah kita akan memasukan nilai tersebut ke dalam data frame yang baru agar dapat kita simpan."
      ]
    },
    {
      "cell_type": "code",
      "execution_count": 39,
      "metadata": {
        "colab": {
          "base_uri": "https://localhost:8080/"
        },
        "id": "rGgzSrwKHVFm",
        "outputId": "5106db59-662e-4d6e-d968-716414e87ba8"
      },
      "outputs": [
        {
          "name": "stdout",
          "output_type": "stream",
          "text": [
            "      age  sex   cp  trestbps   chol  fbs  restecg  thalach  exang  oldpeak  \\\n",
            "0    40.0  1.0  2.0     140.0  289.0  0.0      0.0    172.0    0.0      0.0   \n",
            "1    49.0  0.0  3.0     160.0  180.0  0.0      0.0    156.0    0.0      1.0   \n",
            "2    37.0  1.0  2.0     130.0  283.0  0.0      1.0     98.0    0.0      0.0   \n",
            "3    48.0  0.0  4.0     138.0  214.0  0.0      0.0    108.0    1.0      1.5   \n",
            "4    54.0  1.0  3.0     150.0  251.0  0.0      0.0    122.0    0.0      0.0   \n",
            "..    ...  ...  ...       ...    ...  ...      ...      ...    ...      ...   \n",
            "289  48.0  0.0  2.0     133.0  308.0  0.0      1.0    139.0    0.0      2.0   \n",
            "290  36.0  1.0  2.0     120.0  166.0  0.0      0.0    180.0    0.0      0.0   \n",
            "291  48.0  1.0  3.0     110.0  211.0  0.0      0.0    138.0    0.0      0.0   \n",
            "292  47.0  0.0  2.0     140.0  257.0  0.0      0.0    135.0    0.0      1.0   \n",
            "293  53.0  1.0  4.0     130.0  182.0  0.0      0.0    148.0    0.0      0.0   \n",
            "\n",
            "     target  \n",
            "0       0.0  \n",
            "1       1.0  \n",
            "2       0.0  \n",
            "3       3.0  \n",
            "4       0.0  \n",
            "..      ...  \n",
            "289     0.0  \n",
            "290     0.0  \n",
            "291     0.0  \n",
            "292     0.0  \n",
            "293     0.0  \n",
            "\n",
            "[293 rows x 11 columns]\n"
          ]
        }
      ],
      "source": [
        "df1 = pd.DataFrame(df_cleaned)\n",
        "\n",
        "# Create a dictionary to map values to the new category\n",
        "value_mapping = {0: 0, 1: 1, 2: 1, 3: 1, 4: 1}\n",
        "\n",
        "# Alternatively, you can use the 'map' function:\n",
        "df_cleaned['target'] = df_cleaned['target'].map(value_mapping)\n",
        "\n",
        "# Now, the 'target' column contains values 0 and 1\n",
        "print(df1)\n",
        "\n",
        "# Simpan DataFrame ke dalam file CSV\n",
        "df1.to_csv('dataset_mapped.csv', index=False)"
      ]
    },
    {
      "cell_type": "markdown",
      "metadata": {
        "id": "G-_19aOuXXXF"
      },
      "source": [
        "Pada tahapan ini kita mencoba untuk menampilkan hasil Value Mapping dalam bentuk bar chart."
      ]
    },
    {
      "cell_type": "code",
      "execution_count": 40,
      "metadata": {
        "colab": {
          "base_uri": "https://localhost:8080/",
          "height": 410
        },
        "id": "XnaUD_ZDHx0R",
        "outputId": "fb307c8e-98d0-4425-ca32-0b9da4b08e2b"
      },
      "outputs": [
        {
          "data": {
            "image/png": "[encoded data removed]",
            "text/plain": [
              "<Figure size 600x400 with 1 Axes>"
            ]
          },
          "metadata": {},
          "output_type": "display_data"
        }
      ],
      "source": [
        "# Buat DataFrame dari data\n",
        "df_cleaned = pd.DataFrame(df_cleaned)\n",
        "\n",
        "# Create a dictionary to map values to the new category\n",
        "value_mapping = {0: 0, 1: 1, 2: 1, 3: 1, 4: 1}\n",
        "\n",
        "# Alternatively, you can use the 'map' function:\n",
        "df_cleaned['target'] = df_cleaned['target'].map(value_mapping)\n",
        "\n",
        "# Buat bar chart dengan Matplotlib\n",
        "plt.figure(figsize=(6, 4))  # Opsional: Sesuaikan ukuran gambar\n",
        "\n",
        "# Hitung frekuensi masing-masing kategori\n",
        "value_counts = df_cleaned['target'].value_counts()\n",
        "\n",
        "# Plot bar chart\n",
        "plt.bar(value_counts.index, value_counts)\n",
        "\n",
        "# Tambahkan label dan judul\n",
        "plt.xlabel('Category')\n",
        "plt.ylabel('Count')\n",
        "plt.title('Bar Chart After Value Mapping')\n",
        "\n",
        "# Sesuaikan label sumbu x\n",
        "#plt.xticks(value_counts.index, value_mapping.values())\n",
        "plt.xticks(value_counts.index, value_counts.index)\n",
        "\n",
        "# Tampilkan plot\n",
        "plt.show()"
      ]
    },
    {
      "cell_type": "markdown",
      "metadata": {
        "id": "-OauVG_sXvj_"
      },
      "source": [
        "Dikarenakan pada kelas label datanya tidak seimbang, maka diperlukan tahapan untuk menyeimbangkan kelas label tersebut.\n",
        "\n",
        "Untuk menyeimbangkan dataset tersebut digunakanlah teknik SMOTE."
      ]
    },
    {
      "cell_type": "code",
      "execution_count": 41,
      "metadata": {
        "id": "GuxXAmZZKj00"
      },
      "outputs": [],
      "source": [
        "from imblearn.over_sampling import SMOTE\n",
        "\n",
        "#Oversampling\n",
        "smote = SMOTE(random_state=42)\n",
        "X_resampled, y_resampled = smote.fit_resample(X,y)"
      ]
    },
    {
      "cell_type": "code",
      "execution_count": 42,
      "metadata": {
        "colab": {
          "base_uri": "https://localhost:8080/"
        },
        "id": "qoBTzz-6LuTY",
        "outputId": "a507b6fc-4bdb-4bfe-f44c-fc72481a70f7"
      },
      "outputs": [
        {
          "data": {
            "text/plain": [
              "target\n",
              "0    187\n",
              "1    187\n",
              "Name: count, dtype: int64"
            ]
          },
          "execution_count": 42,
          "metadata": {},
          "output_type": "execute_result"
        }
      ],
      "source": [
        "y_resampled.value_counts()"
      ]
    },
    {
      "cell_type": "markdown",
      "metadata": {
        "id": "PBNGeNos5RHt"
      },
      "source": [
        "Menampilkan informasi statistik pada dataset"
      ]
    },
    {
      "cell_type": "code",
      "execution_count": 43,
      "metadata": {
        "colab": {
          "base_uri": "https://localhost:8080/",
          "height": 300
        },
        "id": "RjIABSC1MI_N",
        "outputId": "9c7f000c-557c-4c54-b96c-699868cb82d8"
      },
      "outputs": [
        {
          "data": {
            "text/html": [
              "<div>\n",
              "<style scoped>\n",
              "    .dataframe tbody tr th:only-of-type {\n",
              "        vertical-align: middle;\n",
              "    }\n",
              "\n",
              "    .dataframe tbody tr th {\n",
              "        vertical-align: top;\n",
              "    }\n",
              "\n",
              "    .dataframe thead th {\n",
              "        text-align: right;\n",
              "    }\n",
              "</style>\n",
              "<table border=\"1\" class=\"dataframe\">\n",
              "  <thead>\n",
              "    <tr style=\"text-align: right;\">\n",
              "      <th></th>\n",
              "      <th>age</th>\n",
              "      <th>sex</th>\n",
              "      <th>cp</th>\n",
              "      <th>trestbps</th>\n",
              "      <th>chol</th>\n",
              "      <th>fbs</th>\n",
              "      <th>restecg</th>\n",
              "      <th>thalach</th>\n",
              "      <th>exang</th>\n",
              "      <th>oldpeak</th>\n",
              "      <th>target</th>\n",
              "    </tr>\n",
              "  </thead>\n",
              "  <tbody>\n",
              "    <tr>\n",
              "      <th>count</th>\n",
              "      <td>293.000000</td>\n",
              "      <td>293.000000</td>\n",
              "      <td>293.000000</td>\n",
              "      <td>293.000000</td>\n",
              "      <td>293.000000</td>\n",
              "      <td>293.000000</td>\n",
              "      <td>293.000000</td>\n",
              "      <td>293.000000</td>\n",
              "      <td>293.000000</td>\n",
              "      <td>293.000000</td>\n",
              "      <td>293.000000</td>\n",
              "    </tr>\n",
              "    <tr>\n",
              "      <th>mean</th>\n",
              "      <td>47.822526</td>\n",
              "      <td>0.726962</td>\n",
              "      <td>2.986348</td>\n",
              "      <td>132.662116</td>\n",
              "      <td>250.860068</td>\n",
              "      <td>0.068259</td>\n",
              "      <td>0.218430</td>\n",
              "      <td>139.058020</td>\n",
              "      <td>0.303754</td>\n",
              "      <td>0.588055</td>\n",
              "      <td>0.795222</td>\n",
              "    </tr>\n",
              "    <tr>\n",
              "      <th>std</th>\n",
              "      <td>7.824875</td>\n",
              "      <td>0.446282</td>\n",
              "      <td>0.965049</td>\n",
              "      <td>17.576793</td>\n",
              "      <td>65.059069</td>\n",
              "      <td>0.252622</td>\n",
              "      <td>0.460868</td>\n",
              "      <td>23.558003</td>\n",
              "      <td>0.460665</td>\n",
              "      <td>0.909554</td>\n",
              "      <td>1.238251</td>\n",
              "    </tr>\n",
              "    <tr>\n",
              "      <th>min</th>\n",
              "      <td>28.000000</td>\n",
              "      <td>0.000000</td>\n",
              "      <td>1.000000</td>\n",
              "      <td>92.000000</td>\n",
              "      <td>85.000000</td>\n",
              "      <td>0.000000</td>\n",
              "      <td>0.000000</td>\n",
              "      <td>82.000000</td>\n",
              "      <td>0.000000</td>\n",
              "      <td>0.000000</td>\n",
              "      <td>0.000000</td>\n",
              "    </tr>\n",
              "    <tr>\n",
              "      <th>25%</th>\n",
              "      <td>42.000000</td>\n",
              "      <td>0.000000</td>\n",
              "      <td>2.000000</td>\n",
              "      <td>120.000000</td>\n",
              "      <td>211.000000</td>\n",
              "      <td>0.000000</td>\n",
              "      <td>0.000000</td>\n",
              "      <td>122.000000</td>\n",
              "      <td>0.000000</td>\n",
              "      <td>0.000000</td>\n",
              "      <td>0.000000</td>\n",
              "    </tr>\n",
              "    <tr>\n",
              "      <th>50%</th>\n",
              "      <td>49.000000</td>\n",
              "      <td>1.000000</td>\n",
              "      <td>3.000000</td>\n",
              "      <td>130.000000</td>\n",
              "      <td>248.000000</td>\n",
              "      <td>0.000000</td>\n",
              "      <td>0.000000</td>\n",
              "      <td>140.000000</td>\n",
              "      <td>0.000000</td>\n",
              "      <td>0.000000</td>\n",
              "      <td>0.000000</td>\n",
              "    </tr>\n",
              "    <tr>\n",
              "      <th>75%</th>\n",
              "      <td>54.000000</td>\n",
              "      <td>1.000000</td>\n",
              "      <td>4.000000</td>\n",
              "      <td>140.000000</td>\n",
              "      <td>277.000000</td>\n",
              "      <td>0.000000</td>\n",
              "      <td>0.000000</td>\n",
              "      <td>155.000000</td>\n",
              "      <td>1.000000</td>\n",
              "      <td>1.000000</td>\n",
              "      <td>1.000000</td>\n",
              "    </tr>\n",
              "    <tr>\n",
              "      <th>max</th>\n",
              "      <td>66.000000</td>\n",
              "      <td>1.000000</td>\n",
              "      <td>4.000000</td>\n",
              "      <td>200.000000</td>\n",
              "      <td>603.000000</td>\n",
              "      <td>1.000000</td>\n",
              "      <td>2.000000</td>\n",
              "      <td>190.000000</td>\n",
              "      <td>1.000000</td>\n",
              "      <td>5.000000</td>\n",
              "      <td>4.000000</td>\n",
              "    </tr>\n",
              "  </tbody>\n",
              "</table>\n",
              "</div>"
            ],
            "text/plain": [
              "              age         sex          cp    trestbps        chol         fbs  \\\n",
              "count  293.000000  293.000000  293.000000  293.000000  293.000000  293.000000   \n",
              "mean    47.822526    0.726962    2.986348  132.662116  250.860068    0.068259   \n",
              "std      7.824875    0.446282    0.965049   17.576793   65.059069    0.252622   \n",
              "min     28.000000    0.000000    1.000000   92.000000   85.000000    0.000000   \n",
              "25%     42.000000    0.000000    2.000000  120.000000  211.000000    0.000000   \n",
              "50%     49.000000    1.000000    3.000000  130.000000  248.000000    0.000000   \n",
              "75%     54.000000    1.000000    4.000000  140.000000  277.000000    0.000000   \n",
              "max     66.000000    1.000000    4.000000  200.000000  603.000000    1.000000   \n",
              "\n",
              "          restecg     thalach       exang     oldpeak      target  \n",
              "count  293.000000  293.000000  293.000000  293.000000  293.000000  \n",
              "mean     0.218430  139.058020    0.303754    0.588055    0.795222  \n",
              "std      0.460868   23.558003    0.460665    0.909554    1.238251  \n",
              "min      0.000000   82.000000    0.000000    0.000000    0.000000  \n",
              "25%      0.000000  122.000000    0.000000    0.000000    0.000000  \n",
              "50%      0.000000  140.000000    0.000000    0.000000    0.000000  \n",
              "75%      0.000000  155.000000    1.000000    1.000000    1.000000  \n",
              "max      2.000000  190.000000    1.000000    5.000000    4.000000  "
            ]
          },
          "execution_count": 43,
          "metadata": {},
          "output_type": "execute_result"
        }
      ],
      "source": [
        "df1.describe()"
      ]
    },
    {
      "cell_type": "markdown",
      "metadata": {
        "id": "qSRzTec_YHDC"
      },
      "source": [
        "Sebelum dilakukan modeling alangkah baiknya dilakukan normalisasi fitur terlebih dahulu. Pada tahapan ini menggunakan MinMaxScaler untuk normalisasi fitur."
      ]
    },
    {
      "cell_type": "code",
      "execution_count": 44,
      "metadata": {
        "id": "CqHIeShfMhqZ"
      },
      "outputs": [],
      "source": [
        "from sklearn.preprocessing import MinMaxScaler\n",
        "\n",
        "scaler = MinMaxScaler()\n",
        "\n",
        "X_resampled_normal = scaler.fit_transform(X_resampled)"
      ]
    },
    {
      "cell_type": "code",
      "execution_count": 45,
      "metadata": {
        "colab": {
          "base_uri": "https://localhost:8080/"
        },
        "id": "qBXylUx3M3pC",
        "outputId": "e25abbb2-0b7c-4ebe-f5cf-d6a7a52c175c"
      },
      "outputs": [
        {
          "data": {
            "text/plain": [
              "374"
            ]
          },
          "execution_count": 45,
          "metadata": {},
          "output_type": "execute_result"
        }
      ],
      "source": [
        "len(X_resampled_normal)"
      ]
    },
    {
      "cell_type": "code",
      "execution_count": 46,
      "metadata": {
        "colab": {
          "base_uri": "https://localhost:8080/",
          "height": 300
        },
        "id": "kIa_OV6DNCdu",
        "outputId": "9d67e7e8-e32d-4ce4-9ba4-2f7a5fb2c51f"
      },
      "outputs": [
        {
          "data": {
            "text/html": [
              "<div>\n",
              "<style scoped>\n",
              "    .dataframe tbody tr th:only-of-type {\n",
              "        vertical-align: middle;\n",
              "    }\n",
              "\n",
              "    .dataframe tbody tr th {\n",
              "        vertical-align: top;\n",
              "    }\n",
              "\n",
              "    .dataframe thead th {\n",
              "        text-align: right;\n",
              "    }\n",
              "</style>\n",
              "<table border=\"1\" class=\"dataframe\">\n",
              "  <thead>\n",
              "    <tr style=\"text-align: right;\">\n",
              "      <th></th>\n",
              "      <th>0</th>\n",
              "      <th>1</th>\n",
              "      <th>2</th>\n",
              "      <th>3</th>\n",
              "      <th>4</th>\n",
              "      <th>5</th>\n",
              "      <th>6</th>\n",
              "      <th>7</th>\n",
              "      <th>8</th>\n",
              "      <th>9</th>\n",
              "    </tr>\n",
              "  </thead>\n",
              "  <tbody>\n",
              "    <tr>\n",
              "      <th>count</th>\n",
              "      <td>374.000000</td>\n",
              "      <td>374.000000</td>\n",
              "      <td>374.000000</td>\n",
              "      <td>374.000000</td>\n",
              "      <td>374.000000</td>\n",
              "      <td>374.000000</td>\n",
              "      <td>374.000000</td>\n",
              "      <td>374.000000</td>\n",
              "      <td>374.000000</td>\n",
              "      <td>374.000000</td>\n",
              "    </tr>\n",
              "    <tr>\n",
              "      <th>mean</th>\n",
              "      <td>0.527852</td>\n",
              "      <td>0.765898</td>\n",
              "      <td>0.715742</td>\n",
              "      <td>0.382253</td>\n",
              "      <td>0.328499</td>\n",
              "      <td>0.080507</td>\n",
              "      <td>0.115910</td>\n",
              "      <td>0.505635</td>\n",
              "      <td>0.381266</td>\n",
              "      <td>0.149701</td>\n",
              "    </tr>\n",
              "    <tr>\n",
              "      <th>std</th>\n",
              "      <td>0.196473</td>\n",
              "      <td>0.415161</td>\n",
              "      <td>0.313278</td>\n",
              "      <td>0.160740</td>\n",
              "      <td>0.131850</td>\n",
              "      <td>0.259507</td>\n",
              "      <td>0.226293</td>\n",
              "      <td>0.215431</td>\n",
              "      <td>0.469618</td>\n",
              "      <td>0.194251</td>\n",
              "    </tr>\n",
              "    <tr>\n",
              "      <th>min</th>\n",
              "      <td>0.000000</td>\n",
              "      <td>0.000000</td>\n",
              "      <td>0.000000</td>\n",
              "      <td>0.000000</td>\n",
              "      <td>0.000000</td>\n",
              "      <td>0.000000</td>\n",
              "      <td>0.000000</td>\n",
              "      <td>0.000000</td>\n",
              "      <td>0.000000</td>\n",
              "      <td>0.000000</td>\n",
              "    </tr>\n",
              "    <tr>\n",
              "      <th>25%</th>\n",
              "      <td>0.394737</td>\n",
              "      <td>0.871306</td>\n",
              "      <td>0.333333</td>\n",
              "      <td>0.259259</td>\n",
              "      <td>0.250599</td>\n",
              "      <td>0.000000</td>\n",
              "      <td>0.000000</td>\n",
              "      <td>0.351852</td>\n",
              "      <td>0.000000</td>\n",
              "      <td>0.000000</td>\n",
              "    </tr>\n",
              "    <tr>\n",
              "      <th>50%</th>\n",
              "      <td>0.552632</td>\n",
              "      <td>1.000000</td>\n",
              "      <td>0.820222</td>\n",
              "      <td>0.351852</td>\n",
              "      <td>0.316685</td>\n",
              "      <td>0.000000</td>\n",
              "      <td>0.000000</td>\n",
              "      <td>0.518519</td>\n",
              "      <td>0.000000</td>\n",
              "      <td>0.000000</td>\n",
              "    </tr>\n",
              "    <tr>\n",
              "      <th>75%</th>\n",
              "      <td>0.684211</td>\n",
              "      <td>1.000000</td>\n",
              "      <td>1.000000</td>\n",
              "      <td>0.449035</td>\n",
              "      <td>0.379583</td>\n",
              "      <td>0.000000</td>\n",
              "      <td>0.000000</td>\n",
              "      <td>0.633223</td>\n",
              "      <td>1.000000</td>\n",
              "      <td>0.300000</td>\n",
              "    </tr>\n",
              "    <tr>\n",
              "      <th>max</th>\n",
              "      <td>1.000000</td>\n",
              "      <td>1.000000</td>\n",
              "      <td>1.000000</td>\n",
              "      <td>1.000000</td>\n",
              "      <td>1.000000</td>\n",
              "      <td>1.000000</td>\n",
              "      <td>1.000000</td>\n",
              "      <td>1.000000</td>\n",
              "      <td>1.000000</td>\n",
              "      <td>1.000000</td>\n",
              "    </tr>\n",
              "  </tbody>\n",
              "</table>\n",
              "</div>"
            ],
            "text/plain": [
              "                0           1           2           3           4           5  \\\n",
              "count  374.000000  374.000000  374.000000  374.000000  374.000000  374.000000   \n",
              "mean     0.527852    0.765898    0.715742    0.382253    0.328499    0.080507   \n",
              "std      0.196473    0.415161    0.313278    0.160740    0.131850    0.259507   \n",
              "min      0.000000    0.000000    0.000000    0.000000    0.000000    0.000000   \n",
              "25%      0.394737    0.871306    0.333333    0.259259    0.250599    0.000000   \n",
              "50%      0.552632    1.000000    0.820222    0.351852    0.316685    0.000000   \n",
              "75%      0.684211    1.000000    1.000000    0.449035    0.379583    0.000000   \n",
              "max      1.000000    1.000000    1.000000    1.000000    1.000000    1.000000   \n",
              "\n",
              "                6           7           8           9  \n",
              "count  374.000000  374.000000  374.000000  374.000000  \n",
              "mean     0.115910    0.505635    0.381266    0.149701  \n",
              "std      0.226293    0.215431    0.469618    0.194251  \n",
              "min      0.000000    0.000000    0.000000    0.000000  \n",
              "25%      0.000000    0.351852    0.000000    0.000000  \n",
              "50%      0.000000    0.518519    0.000000    0.000000  \n",
              "75%      0.000000    0.633223    1.000000    0.300000  \n",
              "max      1.000000    1.000000    1.000000    1.000000  "
            ]
          },
          "execution_count": 46,
          "metadata": {},
          "output_type": "execute_result"
        }
      ],
      "source": [
        "df_checked1 = pd.DataFrame(X_resampled_normal)\n",
        "df_checked1.describe()"
      ]
    },
    {
      "cell_type": "markdown",
      "metadata": {
        "id": "sR6Vzj0u_cmY"
      },
      "source": [
        "### 7. Menentukan Label Data"
      ]
    },
    {
      "cell_type": "markdown",
      "metadata": {
        "id": "ccXcLVHm_ijn"
      },
      "source": [
        "Sebelum di Oversample"
      ]
    },
    {
      "cell_type": "code",
      "execution_count": 47,
      "metadata": {
        "colab": {
          "base_uri": "https://localhost:8080/",
          "height": 428
        },
        "id": "b5KMkeBp_bBz",
        "outputId": "00e75867-d098-4fbb-da6f-41d6f73918ca"
      },
      "outputs": [
        {
          "data": {
            "image/png": "[encoded data removed]",
            "text/plain": [
              "<Figure size 640x480 with 1 Axes>"
            ]
          },
          "metadata": {},
          "output_type": "display_data"
        }
      ],
      "source": [
        "# Melakukan univariat analysis pada target\n",
        "target_counts = y.value_counts()\n",
        "labels = ['Healthy', 'Heart Disease']\n",
        "colors = ['lightskyblue', 'lightcoral']\n",
        "\n",
        "# Membuat pie chart\n",
        "plt.pie(target_counts, labels=labels, colors=colors, autopct='%1.1f%%', startangle=90)\n",
        "plt.axis('equal')\n",
        "plt.title('Distribution of Heart Disease Labels')\n",
        "plt.show()"
      ]
    },
    {
      "cell_type": "markdown",
      "metadata": {
        "id": "UjCjqeuY_rlY"
      },
      "source": [
        "Setelah di SMOTE"
      ]
    },
    {
      "cell_type": "code",
      "execution_count": 48,
      "metadata": {
        "colab": {
          "base_uri": "https://localhost:8080/",
          "height": 428
        },
        "id": "Tbljl78S_meM",
        "outputId": "689dbf0d-bac0-46f9-fd78-3377bc6abfef"
      },
      "outputs": [
        {
          "data": {
            "image/png": "[encoded data removed]",
            "text/plain": [
              "<Figure size 640x480 with 1 Axes>"
            ]
          },
          "metadata": {},
          "output_type": "display_data"
        }
      ],
      "source": [
        "# Melakukan penyesuaian variabel target\n",
        "target_counts = y_resampled.value_counts()\n",
        "labels = ['Healthy', 'Heart Disease']\n",
        "colors = ['lightskyblue', 'lightcoral']\n",
        "\n",
        "# Membuat pie chart\n",
        "plt.pie(target_counts, labels=labels, colors=colors, autopct='%1.1f%%', startangle=90)\n",
        "plt.axis('equal')\n",
        "plt.title('Distribution of Heart Disease Labels')\n",
        "plt.show()"
      ]
    },
    {
      "cell_type": "markdown",
      "metadata": {
        "id": "sAjGhR-05v_c"
      },
      "source": [
        "Mulai pembagi dataset menjadi data latih dan data uji disini menggunakan persentase 80:20\n",
        "\n",
        "Selanjutnya dipisahkan menjadi yang setelah dilakukan oversample dan oversample + normalisasi"
      ]
    },
    {
      "cell_type": "code",
      "execution_count": 49,
      "metadata": {
        "colab": {
          "base_uri": "https://localhost:8080/"
        },
        "id": "Luth-NgdNUJh",
        "outputId": "4cf8cceb-b4f8-4712-c0cf-512c5a696c64"
      },
      "outputs": [
        {
          "name": "stdout",
          "output_type": "stream",
          "text": [
            "shape X_train:  (299, 10)\n",
            "shape X_test:  (75, 10)\n",
            "shape y_train:  (299,)\n",
            "shape y_test:  (75,)\n"
          ]
        }
      ],
      "source": [
        "from sklearn.model_selection import train_test_split\n",
        "\n",
        "#Membagi fitur dan target menjadi data train dan test (untuk yang oversample saja)\n",
        "X_train, X_test, y_train, y_test = train_test_split(X_resampled, y_resampled, test_size=0.2, random_state=42,stratify=y_resampled)\n",
        "print('shape X_train: ', X_train.shape)\n",
        "print('shape X_test: ', X_test.shape)\n",
        "print('shape y_train: ', y_train.shape)\n",
        "print('shape y_test: ', y_test.shape)"
      ]
    },
    {
      "cell_type": "code",
      "execution_count": 50,
      "metadata": {
        "colab": {
          "base_uri": "https://localhost:8080/"
        },
        "id": "-ksu1SKRNwJ3",
        "outputId": "9dd2bf4e-6585-49e0-9a67-7629e07db28b"
      },
      "outputs": [
        {
          "name": "stdout",
          "output_type": "stream",
          "text": [
            "shape X_train_normal:  (299, 10)\n",
            "shape X_test_normal:  (75, 10)\n",
            "shape y_train_normal:  (299,)\n",
            "shape y_test_normal:  (75,)\n"
          ]
        }
      ],
      "source": [
        "# membagi fitur dan target menjadi data train dan test (untuk yang oversample + normalization)\n",
        "X_train_normal, X_test_normal, y_train_normal, y_test_normal = train_test_split(X_resampled_normal, y_resampled, test_size=0.2, random_state=42,stratify = y_resampled)\n",
        "print('shape X_train_normal: ', X_train_normal.shape)\n",
        "print('shape X_test_normal: ', X_test_normal.shape)\n",
        "print('shape y_train_normal: ', y_train_normal.shape)\n",
        "print('shape y_test_normal: ', y_test_normal.shape)"
      ]
    },
    {
      "cell_type": "markdown",
      "metadata": {
        "id": "-cufdOJFPEGt"
      },
      "source": [
        "### 8. Model"
      ]
    },
    {
      "cell_type": "markdown",
      "metadata": {
        "id": "ADuhc0fy6YkQ"
      },
      "source": [
        "Sebelum kita melatih model alangkah baiknya kita memmbuat fungsi yang akan digunakan untuk evaluasi model nantinya, yaitu Accuracy, Recall, F1 Score, Precision"
      ]
    },
    {
      "cell_type": "code",
      "execution_count": 51,
      "metadata": {
        "id": "lPZeW0rzO5ex"
      },
      "outputs": [],
      "source": [
        "from sklearn.metrics import accuracy_score,recall_score,f1_score,precision_score,roc_auc_score,confusion_matrix,precision_score\n",
        "\n",
        "def evaluation(Y_test,Y_pred):\n",
        "    acc = accuracy_score(Y_test,Y_pred)\n",
        "    rcl = recall_score(Y_test,Y_pred,average = 'weighted')\n",
        "    f1 = f1_score(Y_test,Y_pred,average = 'weighted')\n",
        "    ps = precision_score(Y_test,Y_pred,average = 'weighted')\n",
        "\n",
        "    metric_dict={'accuracy': round(acc,3),\n",
        "               'recall': round(rcl,3),\n",
        "               'F1 score': round(f1,3),\n",
        "               'Precision score': round(ps,3)\n",
        "              }\n",
        "\n",
        "    return print(metric_dict)"
      ]
    },
    {
      "cell_type": "markdown",
      "metadata": {
        "id": "faWur7C76n7K"
      },
      "source": [
        "Mengimport beberapa library penting untuk tahap modeling"
      ]
    },
    {
      "cell_type": "code",
      "execution_count": 52,
      "metadata": {
        "id": "jcXblhniPWGF"
      },
      "outputs": [],
      "source": [
        "from sklearn.neighbors import KNeighborsClassifier\n",
        "from sklearn.ensemble import RandomForestClassifier\n",
        "from xgboost import XGBClassifier\n",
        "from sklearn.metrics import accuracy_score, classification_report"
      ]
    },
    {
      "cell_type": "markdown",
      "metadata": {
        "id": "8arV6Iax2-ul"
      },
      "source": [
        "### Oversample"
      ]
    },
    {
      "cell_type": "markdown",
      "metadata": {
        "id": "0Sp8ji_1T_c-"
      },
      "source": [
        "### KNN"
      ]
    },
    {
      "cell_type": "markdown",
      "metadata": {
        "id": "CF5WNY4_62ud"
      },
      "source": [
        "Melatih model KNN"
      ]
    },
    {
      "cell_type": "code",
      "execution_count": 53,
      "metadata": {
        "colab": {
          "base_uri": "https://localhost:8080/",
          "height": 74
        },
        "id": "7JYQMPgePxpe",
        "outputId": "2c3f9e4b-cdc2-4cdf-b7c1-f00826c31c6c"
      },
      "outputs": [
        {
          "data": {
            "text/html": [
              "<style>#sk-container-id-1 {color: black;background-color: white;}#sk-container-id-1 pre{padding: 0;}#sk-container-id-1 div.sk-toggleable {background-color: white;}#sk-container-id-1 label.sk-toggleable__label {cursor: pointer;display: block;width: 100%;margin-bottom: 0;padding: 0.3em;box-sizing: border-box;text-align: center;}#sk-container-id-1 label.sk-toggleable__label-arrow:before {content: \"▸\";float: left;margin-right: 0.25em;color: #696969;}#sk-container-id-1 label.sk-toggleable__label-arrow:hover:before {color: black;}#sk-container-id-1 div.sk-estimator:hover label.sk-toggleable__label-arrow:before {color: black;}#sk-container-id-1 div.sk-toggleable__content {max-height: 0;max-width: 0;overflow: hidden;text-align: left;background-color: #f0f8ff;}#sk-container-id-1 div.sk-toggleable__content pre {margin: 0.2em;color: black;border-radius: 0.25em;background-color: #f0f8ff;}#sk-container-id-1 input.sk-toggleable__control:checked~div.sk-toggleable__content {max-height: 200px;max-width: 100%;overflow: auto;}#sk-container-id-1 input.sk-toggleable__control:checked~label.sk-toggleable__label-arrow:before {content: \"▾\";}#sk-container-id-1 div.sk-estimator input.sk-toggleable__control:checked~label.sk-toggleable__label {background-color: #d4ebff;}#sk-container-id-1 div.sk-label input.sk-toggleable__control:checked~label.sk-toggleable__label {background-color: #d4ebff;}#sk-container-id-1 input.sk-hidden--visually {border: 0;clip: rect(1px 1px 1px 1px);clip: rect(1px, 1px, 1px, 1px);height: 1px;margin: -1px;overflow: hidden;padding: 0;position: absolute;width: 1px;}#sk-container-id-1 div.sk-estimator {font-family: monospace;background-color: #f0f8ff;border: 1px dotted black;border-radius: 0.25em;box-sizing: border-box;margin-bottom: 0.5em;}#sk-container-id-1 div.sk-estimator:hover {background-color: #d4ebff;}#sk-container-id-1 div.sk-parallel-item::after {content: \"\";width: 100%;border-bottom: 1px solid gray;flex-grow: 1;}#sk-container-id-1 div.sk-label:hover label.sk-toggleable__label {background-color: #d4ebff;}#sk-container-id-1 div.sk-serial::before {content: \"\";position: absolute;border-left: 1px solid gray;box-sizing: border-box;top: 0;bottom: 0;left: 50%;z-index: 0;}#sk-container-id-1 div.sk-serial {display: flex;flex-direction: column;align-items: center;background-color: white;padding-right: 0.2em;padding-left: 0.2em;position: relative;}#sk-container-id-1 div.sk-item {position: relative;z-index: 1;}#sk-container-id-1 div.sk-parallel {display: flex;align-items: stretch;justify-content: center;background-color: white;position: relative;}#sk-container-id-1 div.sk-item::before, #sk-container-id-1 div.sk-parallel-item::before {content: \"\";position: absolute;border-left: 1px solid gray;box-sizing: border-box;top: 0;bottom: 0;left: 50%;z-index: -1;}#sk-container-id-1 div.sk-parallel-item {display: flex;flex-direction: column;z-index: 1;position: relative;background-color: white;}#sk-container-id-1 div.sk-parallel-item:first-child::after {align-self: flex-end;width: 50%;}#sk-container-id-1 div.sk-parallel-item:last-child::after {align-self: flex-start;width: 50%;}#sk-container-id-1 div.sk-parallel-item:only-child::after {width: 0;}#sk-container-id-1 div.sk-dashed-wrapped {border: 1px dashed gray;margin: 0 0.4em 0.5em 0.4em;box-sizing: border-box;padding-bottom: 0.4em;background-color: white;}#sk-container-id-1 div.sk-label label {font-family: monospace;font-weight: bold;display: inline-block;line-height: 1.2em;}#sk-container-id-1 div.sk-label-container {text-align: center;}#sk-container-id-1 div.sk-container {/* jupyter's `normalize.less` sets `[hidden] { display: none; }` but bootstrap.min.css set `[hidden] { display: none !important; }` so we also need the `!important` here to be able to override the default hidden behavior on the sphinx rendered scikit-learn.org. See: https://github.com/scikit-learn/scikit-learn/issues/21755 */display: inline-block !important;position: relative;}#sk-container-id-1 div.sk-text-repr-fallback {display: none;}</style><div id=\"sk-container-id-1\" class=\"sk-top-container\"><div class=\"sk-text-repr-fallback\"><pre>KNeighborsClassifier(n_neighbors=3)</pre><b>In a Jupyter environment, please rerun this cell to show the HTML representation or trust the notebook. <br />On GitHub, the HTML representation is unable to render, please try loading this page with nbviewer.org.</b></div><div class=\"sk-container\" hidden><div class=\"sk-item\"><div class=\"sk-estimator sk-toggleable\"><input class=\"sk-toggleable__control sk-hidden--visually\" id=\"sk-estimator-id-1\" type=\"checkbox\" checked><label for=\"sk-estimator-id-1\" class=\"sk-toggleable__label sk-toggleable__label-arrow\">KNeighborsClassifier</label><div class=\"sk-toggleable__content\"><pre>KNeighborsClassifier(n_neighbors=3)</pre></div></div></div></div></div>"
            ],
            "text/plain": [
              "KNeighborsClassifier(n_neighbors=3)"
            ]
          },
          "execution_count": 53,
          "metadata": {},
          "output_type": "execute_result"
        }
      ],
      "source": [
        "knn_model = KNeighborsClassifier(n_neighbors = 3)\n",
        "knn_model.fit(X_train, y_train)"
      ]
    },
    {
      "cell_type": "code",
      "execution_count": 54,
      "metadata": {
        "colab": {
          "base_uri": "https://localhost:8080/"
        },
        "id": "MAHtYiesP-M7",
        "outputId": "feeb32ad-c901-426d-fec4-4b41476cec2b"
      },
      "outputs": [
        {
          "name": "stdout",
          "output_type": "stream",
          "text": [
            "K-Nearest Neighbors (KNN) Model:\n",
            "Accuracy: 0.76\n",
            "Classification Report:\n",
            "              precision    recall  f1-score   support\n",
            "\n",
            "           0       0.81      0.68      0.74        38\n",
            "           1       0.72      0.84      0.77        37\n",
            "\n",
            "    accuracy                           0.76        75\n",
            "   macro avg       0.77      0.76      0.76        75\n",
            "weighted avg       0.77      0.76      0.76        75\n",
            "\n"
          ]
        }
      ],
      "source": [
        "y_pred_knn = knn_model.predict(X_test)\n",
        "\n",
        "# Evaluate the KNN model\n",
        "print(\"K-Nearest Neighbors (KNN) Model:\")\n",
        "accuracy_knn_smote = round(accuracy_score(y_test,y_pred_knn),3)\n",
        "print(\"Accuracy:\", accuracy_knn_smote)\n",
        "print(\"Classification Report:\")\n",
        "print(classification_report(y_test, y_pred_knn))"
      ]
    },
    {
      "cell_type": "code",
      "execution_count": 55,
      "metadata": {
        "colab": {
          "base_uri": "https://localhost:8080/"
        },
        "id": "FwlgODO5RzjC",
        "outputId": "e4312b8f-0456-448f-ce4d-b8ad7ff0284f"
      },
      "outputs": [
        {
          "name": "stdout",
          "output_type": "stream",
          "text": [
            "{'accuracy': 0.76, 'recall': 0.76, 'F1 score': 0.759, 'Precision score': 0.767}\n"
          ]
        }
      ],
      "source": [
        "evaluation(y_test,y_pred_knn)"
      ]
    },
    {
      "cell_type": "code",
      "execution_count": 56,
      "metadata": {
        "colab": {
          "base_uri": "https://localhost:8080/",
          "height": 564
        },
        "id": "M5qp0iYBT4uN",
        "outputId": "3527781f-6e8f-43f5-ec52-f665deb14a8a"
      },
      "outputs": [
        {
          "data": {
            "image/png": "[encoded data removed]",
            "text/plain": [
              "<Figure size 800x600 with 2 Axes>"
            ]
          },
          "metadata": {},
          "output_type": "display_data"
        }
      ],
      "source": [
        "cm = confusion_matrix(y_test, y_pred_knn)\n",
        "\n",
        "plt.figure(figsize=(8, 6))\n",
        "sns.heatmap(cm, annot=True, fmt=\"d\", cmap=\"Reds\")\n",
        "plt.title('Confusion Matrix')\n",
        "plt.xlabel('True')\n",
        "plt.ylabel('Predict')\n",
        "plt.show()"
      ]
    },
    {
      "cell_type": "markdown",
      "metadata": {
        "id": "6bL3YjJu7DUh"
      },
      "source": [
        "Berdasarkan pelatihan model menggunakan data yang sudah dioversample, algoritma KNN memperoleh akurasi sebesar 76% dengan evaluasi model yang dihasilkan pada Recall 76%, Precision 75.9%, dan F1 score 76.7%\n",
        "\n",
        "Pada Confusion Matrix dapat dilihat bahwa:\n",
        "\n",
        "True Positive:26\n",
        "\n",
        "True Negative:31\n",
        "\n",
        "False Positive:12\n",
        "\n",
        "False Negative:6"
      ]
    },
    {
      "cell_type": "markdown",
      "metadata": {
        "id": "qFnYjpHyUEe-"
      },
      "source": [
        "### Random Forest"
      ]
    },
    {
      "cell_type": "markdown",
      "metadata": {
        "id": "tQI3x0K97-cH"
      },
      "source": [
        "Melatih model Random Forest"
      ]
    },
    {
      "cell_type": "code",
      "execution_count": 57,
      "metadata": {
        "colab": {
          "base_uri": "https://localhost:8080/",
          "height": 74
        },
        "id": "4XDcUDEnUHOM",
        "outputId": "a1d6eb10-311f-46ba-9d40-166616f25a9f"
      },
      "outputs": [
        {
          "data": {
            "text/html": [
              "<style>#sk-container-id-2 {color: black;background-color: white;}#sk-container-id-2 pre{padding: 0;}#sk-container-id-2 div.sk-toggleable {background-color: white;}#sk-container-id-2 label.sk-toggleable__label {cursor: pointer;display: block;width: 100%;margin-bottom: 0;padding: 0.3em;box-sizing: border-box;text-align: center;}#sk-container-id-2 label.sk-toggleable__label-arrow:before {content: \"▸\";float: left;margin-right: 0.25em;color: #696969;}#sk-container-id-2 label.sk-toggleable__label-arrow:hover:before {color: black;}#sk-container-id-2 div.sk-estimator:hover label.sk-toggleable__label-arrow:before {color: black;}#sk-container-id-2 div.sk-toggleable__content {max-height: 0;max-width: 0;overflow: hidden;text-align: left;background-color: #f0f8ff;}#sk-container-id-2 div.sk-toggleable__content pre {margin: 0.2em;color: black;border-radius: 0.25em;background-color: #f0f8ff;}#sk-container-id-2 input.sk-toggleable__control:checked~div.sk-toggleable__content {max-height: 200px;max-width: 100%;overflow: auto;}#sk-container-id-2 input.sk-toggleable__control:checked~label.sk-toggleable__label-arrow:before {content: \"▾\";}#sk-container-id-2 div.sk-estimator input.sk-toggleable__control:checked~label.sk-toggleable__label {background-color: #d4ebff;}#sk-container-id-2 div.sk-label input.sk-toggleable__control:checked~label.sk-toggleable__label {background-color: #d4ebff;}#sk-container-id-2 input.sk-hidden--visually {border: 0;clip: rect(1px 1px 1px 1px);clip: rect(1px, 1px, 1px, 1px);height: 1px;margin: -1px;overflow: hidden;padding: 0;position: absolute;width: 1px;}#sk-container-id-2 div.sk-estimator {font-family: monospace;background-color: #f0f8ff;border: 1px dotted black;border-radius: 0.25em;box-sizing: border-box;margin-bottom: 0.5em;}#sk-container-id-2 div.sk-estimator:hover {background-color: #d4ebff;}#sk-container-id-2 div.sk-parallel-item::after {content: \"\";width: 100%;border-bottom: 1px solid gray;flex-grow: 1;}#sk-container-id-2 div.sk-label:hover label.sk-toggleable__label {background-color: #d4ebff;}#sk-container-id-2 div.sk-serial::before {content: \"\";position: absolute;border-left: 1px solid gray;box-sizing: border-box;top: 0;bottom: 0;left: 50%;z-index: 0;}#sk-container-id-2 div.sk-serial {display: flex;flex-direction: column;align-items: center;background-color: white;padding-right: 0.2em;padding-left: 0.2em;position: relative;}#sk-container-id-2 div.sk-item {position: relative;z-index: 1;}#sk-container-id-2 div.sk-parallel {display: flex;align-items: stretch;justify-content: center;background-color: white;position: relative;}#sk-container-id-2 div.sk-item::before, #sk-container-id-2 div.sk-parallel-item::before {content: \"\";position: absolute;border-left: 1px solid gray;box-sizing: border-box;top: 0;bottom: 0;left: 50%;z-index: -1;}#sk-container-id-2 div.sk-parallel-item {display: flex;flex-direction: column;z-index: 1;position: relative;background-color: white;}#sk-container-id-2 div.sk-parallel-item:first-child::after {align-self: flex-end;width: 50%;}#sk-container-id-2 div.sk-parallel-item:last-child::after {align-self: flex-start;width: 50%;}#sk-container-id-2 div.sk-parallel-item:only-child::after {width: 0;}#sk-container-id-2 div.sk-dashed-wrapped {border: 1px dashed gray;margin: 0 0.4em 0.5em 0.4em;box-sizing: border-box;padding-bottom: 0.4em;background-color: white;}#sk-container-id-2 div.sk-label label {font-family: monospace;font-weight: bold;display: inline-block;line-height: 1.2em;}#sk-container-id-2 div.sk-label-container {text-align: center;}#sk-container-id-2 div.sk-container {/* jupyter's `normalize.less` sets `[hidden] { display: none; }` but bootstrap.min.css set `[hidden] { display: none !important; }` so we also need the `!important` here to be able to override the default hidden behavior on the sphinx rendered scikit-learn.org. See: https://github.com/scikit-learn/scikit-learn/issues/21755 */display: inline-block !important;position: relative;}#sk-container-id-2 div.sk-text-repr-fallback {display: none;}</style><div id=\"sk-container-id-2\" class=\"sk-top-container\"><div class=\"sk-text-repr-fallback\"><pre>RandomForestClassifier(random_state=42)</pre><b>In a Jupyter environment, please rerun this cell to show the HTML representation or trust the notebook. <br />On GitHub, the HTML representation is unable to render, please try loading this page with nbviewer.org.</b></div><div class=\"sk-container\" hidden><div class=\"sk-item\"><div class=\"sk-estimator sk-toggleable\"><input class=\"sk-toggleable__control sk-hidden--visually\" id=\"sk-estimator-id-2\" type=\"checkbox\" checked><label for=\"sk-estimator-id-2\" class=\"sk-toggleable__label sk-toggleable__label-arrow\">RandomForestClassifier</label><div class=\"sk-toggleable__content\"><pre>RandomForestClassifier(random_state=42)</pre></div></div></div></div></div>"
            ],
            "text/plain": [
              "RandomForestClassifier(random_state=42)"
            ]
          },
          "execution_count": 57,
          "metadata": {},
          "output_type": "execute_result"
        }
      ],
      "source": [
        "rf_model = RandomForestClassifier(n_estimators=100, random_state=42)\n",
        "rf_model.fit(X_train, y_train)"
      ]
    },
    {
      "cell_type": "code",
      "execution_count": 58,
      "metadata": {
        "colab": {
          "base_uri": "https://localhost:8080/"
        },
        "id": "wppEl0MDU072",
        "outputId": "f3f70c08-1a70-405f-8ba6-3a9afb8721d3"
      },
      "outputs": [
        {
          "name": "stdout",
          "output_type": "stream",
          "text": [
            "\n",
            "Random Forest Model:\n",
            "Accuracy: 0.933\n",
            "Classification Report:\n",
            "              precision    recall  f1-score   support\n",
            "\n",
            "           0       0.92      0.95      0.94        38\n",
            "           1       0.94      0.92      0.93        37\n",
            "\n",
            "    accuracy                           0.93        75\n",
            "   macro avg       0.93      0.93      0.93        75\n",
            "weighted avg       0.93      0.93      0.93        75\n",
            "\n"
          ]
        }
      ],
      "source": [
        "y_pred_rf = rf_model.predict(X_test)\n",
        "\n",
        "# Evaluate the Random Forest model\n",
        "print(\"\\nRandom Forest Model:\")\n",
        "accuracy_rf_smote = round(accuracy_score(y_test, y_pred_rf),3)\n",
        "print(\"Accuracy:\",accuracy_rf_smote)\n",
        "print(\"Classification Report:\")\n",
        "print(classification_report(y_test, y_pred_rf))"
      ]
    },
    {
      "cell_type": "code",
      "execution_count": 59,
      "metadata": {
        "colab": {
          "base_uri": "https://localhost:8080/"
        },
        "id": "UUfvgjG_U-tp",
        "outputId": "018435c6-392f-414c-a8e9-363dca943944"
      },
      "outputs": [
        {
          "name": "stdout",
          "output_type": "stream",
          "text": [
            "{'accuracy': 0.933, 'recall': 0.933, 'F1 score': 0.933, 'Precision score': 0.934}\n"
          ]
        }
      ],
      "source": [
        "evaluation(y_test,y_pred_rf)"
      ]
    },
    {
      "cell_type": "code",
      "execution_count": 60,
      "metadata": {
        "colab": {
          "base_uri": "https://localhost:8080/",
          "height": 564
        },
        "id": "1ozTDeCn12jD",
        "outputId": "26d48cc2-6859-426b-97f0-a84eb94e27ee"
      },
      "outputs": [
        {
          "data": {
            "image/png": "[encoded data removed]",
            "text/plain": [
              "<Figure size 800x600 with 2 Axes>"
            ]
          },
          "metadata": {},
          "output_type": "display_data"
        }
      ],
      "source": [
        "cm = confusion_matrix(y_test, y_pred_rf)\n",
        "\n",
        "plt.figure(figsize=(8, 6))\n",
        "sns.heatmap(cm, annot=True, fmt=\"d\", cmap=\"Reds\")\n",
        "plt.title('Confusion Matrix')\n",
        "plt.xlabel('True')\n",
        "plt.ylabel('Predict')\n",
        "plt.show()"
      ]
    },
    {
      "cell_type": "markdown",
      "metadata": {
        "id": "5gZ55ftL8QYr"
      },
      "source": [
        "Berdasarkan pelatihan model menggunakan data yang sudah dioversample, algoritma Random Forest  memperoleh akurasi sebesar 93.3%% dengan evaluasi model yang dihasilkan pada Recall 93.3, Precision 93.4%, dan F1 score 93.3%\n",
        "\n",
        "Pada Confusion Matrix dapat dilihat bahwa:\n",
        "\n",
        "True Positive:36\n",
        "\n",
        "True Negative:34\n",
        "\n",
        "False Positive:2\n",
        "\n",
        "False Negative:3"
      ]
    },
    {
      "cell_type": "markdown",
      "metadata": {
        "id": "tOKCZx5I1-ll"
      },
      "source": [
        "### XGBoost"
      ]
    },
    {
      "cell_type": "markdown",
      "metadata": {
        "id": "eHoPLLHB8xar"
      },
      "source": [
        "Melatih model XGBoost Classifier"
      ]
    },
    {
      "cell_type": "code",
      "execution_count": 61,
      "metadata": {
        "colab": {
          "base_uri": "https://localhost:8080/",
          "height": 248
        },
        "id": "RsqkPwoG2Dmh",
        "outputId": "833cdbcb-b086-49af-f9fa-81f1f81b0a5a"
      },
      "outputs": [
        {
          "data": {
            "text/html": [
              "<style>#sk-container-id-3 {color: black;background-color: white;}#sk-container-id-3 pre{padding: 0;}#sk-container-id-3 div.sk-toggleable {background-color: white;}#sk-container-id-3 label.sk-toggleable__label {cursor: pointer;display: block;width: 100%;margin-bottom: 0;padding: 0.3em;box-sizing: border-box;text-align: center;}#sk-container-id-3 label.sk-toggleable__label-arrow:before {content: \"▸\";float: left;margin-right: 0.25em;color: #696969;}#sk-container-id-3 label.sk-toggleable__label-arrow:hover:before {color: black;}#sk-container-id-3 div.sk-estimator:hover label.sk-toggleable__label-arrow:before {color: black;}#sk-container-id-3 div.sk-toggleable__content {max-height: 0;max-width: 0;overflow: hidden;text-align: left;background-color: #f0f8ff;}#sk-container-id-3 div.sk-toggleable__content pre {margin: 0.2em;color: black;border-radius: 0.25em;background-color: #f0f8ff;}#sk-container-id-3 input.sk-toggleable__control:checked~div.sk-toggleable__content {max-height: 200px;max-width: 100%;overflow: auto;}#sk-container-id-3 input.sk-toggleable__control:checked~label.sk-toggleable__label-arrow:before {content: \"▾\";}#sk-container-id-3 div.sk-estimator input.sk-toggleable__control:checked~label.sk-toggleable__label {background-color: #d4ebff;}#sk-container-id-3 div.sk-label input.sk-toggleable__control:checked~label.sk-toggleable__label {background-color: #d4ebff;}#sk-container-id-3 input.sk-hidden--visually {border: 0;clip: rect(1px 1px 1px 1px);clip: rect(1px, 1px, 1px, 1px);height: 1px;margin: -1px;overflow: hidden;padding: 0;position: absolute;width: 1px;}#sk-container-id-3 div.sk-estimator {font-family: monospace;background-color: #f0f8ff;border: 1px dotted black;border-radius: 0.25em;box-sizing: border-box;margin-bottom: 0.5em;}#sk-container-id-3 div.sk-estimator:hover {background-color: #d4ebff;}#sk-container-id-3 div.sk-parallel-item::after {content: \"\";width: 100%;border-bottom: 1px solid gray;flex-grow: 1;}#sk-container-id-3 div.sk-label:hover label.sk-toggleable__label {background-color: #d4ebff;}#sk-container-id-3 div.sk-serial::before {content: \"\";position: absolute;border-left: 1px solid gray;box-sizing: border-box;top: 0;bottom: 0;left: 50%;z-index: 0;}#sk-container-id-3 div.sk-serial {display: flex;flex-direction: column;align-items: center;background-color: white;padding-right: 0.2em;padding-left: 0.2em;position: relative;}#sk-container-id-3 div.sk-item {position: relative;z-index: 1;}#sk-container-id-3 div.sk-parallel {display: flex;align-items: stretch;justify-content: center;background-color: white;position: relative;}#sk-container-id-3 div.sk-item::before, #sk-container-id-3 div.sk-parallel-item::before {content: \"\";position: absolute;border-left: 1px solid gray;box-sizing: border-box;top: 0;bottom: 0;left: 50%;z-index: -1;}#sk-container-id-3 div.sk-parallel-item {display: flex;flex-direction: column;z-index: 1;position: relative;background-color: white;}#sk-container-id-3 div.sk-parallel-item:first-child::after {align-self: flex-end;width: 50%;}#sk-container-id-3 div.sk-parallel-item:last-child::after {align-self: flex-start;width: 50%;}#sk-container-id-3 div.sk-parallel-item:only-child::after {width: 0;}#sk-container-id-3 div.sk-dashed-wrapped {border: 1px dashed gray;margin: 0 0.4em 0.5em 0.4em;box-sizing: border-box;padding-bottom: 0.4em;background-color: white;}#sk-container-id-3 div.sk-label label {font-family: monospace;font-weight: bold;display: inline-block;line-height: 1.2em;}#sk-container-id-3 div.sk-label-container {text-align: center;}#sk-container-id-3 div.sk-container {/* jupyter's `normalize.less` sets `[hidden] { display: none; }` but bootstrap.min.css set `[hidden] { display: none !important; }` so we also need the `!important` here to be able to override the default hidden behavior on the sphinx rendered scikit-learn.org. See: https://github.com/scikit-learn/scikit-learn/issues/21755 */display: inline-block !important;position: relative;}#sk-container-id-3 div.sk-text-repr-fallback {display: none;}</style><div id=\"sk-container-id-3\" class=\"sk-top-container\"><div class=\"sk-text-repr-fallback\"><pre>XGBClassifier(base_score=None, booster=None, callbacks=None,\n",
              "              colsample_bylevel=None, colsample_bynode=None,\n",
              "              colsample_bytree=None, device=None, early_stopping_rounds=None,\n",
              "              enable_categorical=False, eval_metric=None, feature_types=None,\n",
              "              gamma=None, grow_policy=None, importance_type=None,\n",
              "              interaction_constraints=None, learning_rate=0.1, max_bin=None,\n",
              "              max_cat_threshold=None, max_cat_to_onehot=None,\n",
              "              max_delta_step=None, max_depth=None, max_leaves=None,\n",
              "              min_child_weight=None, missing=nan, monotone_constraints=None,\n",
              "              multi_strategy=None, n_estimators=100, n_jobs=None,\n",
              "              num_parallel_tree=None, random_state=42, ...)</pre><b>In a Jupyter environment, please rerun this cell to show the HTML representation or trust the notebook. <br />On GitHub, the HTML representation is unable to render, please try loading this page with nbviewer.org.</b></div><div class=\"sk-container\" hidden><div class=\"sk-item\"><div class=\"sk-estimator sk-toggleable\"><input class=\"sk-toggleable__control sk-hidden--visually\" id=\"sk-estimator-id-3\" type=\"checkbox\" checked><label for=\"sk-estimator-id-3\" class=\"sk-toggleable__label sk-toggleable__label-arrow\">XGBClassifier</label><div class=\"sk-toggleable__content\"><pre>XGBClassifier(base_score=None, booster=None, callbacks=None,\n",
              "              colsample_bylevel=None, colsample_bynode=None,\n",
              "              colsample_bytree=None, device=None, early_stopping_rounds=None,\n",
              "              enable_categorical=False, eval_metric=None, feature_types=None,\n",
              "              gamma=None, grow_policy=None, importance_type=None,\n",
              "              interaction_constraints=None, learning_rate=0.1, max_bin=None,\n",
              "              max_cat_threshold=None, max_cat_to_onehot=None,\n",
              "              max_delta_step=None, max_depth=None, max_leaves=None,\n",
              "              min_child_weight=None, missing=nan, monotone_constraints=None,\n",
              "              multi_strategy=None, n_estimators=100, n_jobs=None,\n",
              "              num_parallel_tree=None, random_state=42, ...)</pre></div></div></div></div></div>"
            ],
            "text/plain": [
              "XGBClassifier(base_score=None, booster=None, callbacks=None,\n",
              "              colsample_bylevel=None, colsample_bynode=None,\n",
              "              colsample_bytree=None, device=None, early_stopping_rounds=None,\n",
              "              enable_categorical=False, eval_metric=None, feature_types=None,\n",
              "              gamma=None, grow_policy=None, importance_type=None,\n",
              "              interaction_constraints=None, learning_rate=0.1, max_bin=None,\n",
              "              max_cat_threshold=None, max_cat_to_onehot=None,\n",
              "              max_delta_step=None, max_depth=None, max_leaves=None,\n",
              "              min_child_weight=None, missing=nan, monotone_constraints=None,\n",
              "              multi_strategy=None, n_estimators=100, n_jobs=None,\n",
              "              num_parallel_tree=None, random_state=42, ...)"
            ]
          },
          "execution_count": 61,
          "metadata": {},
          "output_type": "execute_result"
        }
      ],
      "source": [
        "xgb_model =XGBClassifier(learning_rate=0.1, n_estimators=100, random_state=42)\n",
        "xgb_model.fit(X_train, y_train)"
      ]
    },
    {
      "cell_type": "code",
      "execution_count": 62,
      "metadata": {
        "colab": {
          "base_uri": "https://localhost:8080/"
        },
        "id": "flnNO2BR2ZIr",
        "outputId": "8a7b32be-8d63-454b-e14a-7db13dd46141"
      },
      "outputs": [
        {
          "name": "stdout",
          "output_type": "stream",
          "text": [
            "\n",
            "XGBoost Model:\n",
            "Accuracy: 0.933\n",
            "Classification Report:\n",
            "              precision    recall  f1-score   support\n",
            "\n",
            "           0       0.95      0.92      0.93        38\n",
            "           1       0.92      0.95      0.93        37\n",
            "\n",
            "    accuracy                           0.93        75\n",
            "   macro avg       0.93      0.93      0.93        75\n",
            "weighted avg       0.93      0.93      0.93        75\n",
            "\n"
          ]
        }
      ],
      "source": [
        "y_pred_xgb = xgb_model.predict(X_test)\n",
        "\n",
        "# Evaluate the XGBoost model\n",
        "print(\"\\nXGBoost Model:\")\n",
        "accuracy_xgb_smote = round(accuracy_score(y_test, y_pred_xgb),3)\n",
        "print(\"Accuracy:\",accuracy_xgb_smote)\n",
        "print(\"Classification Report:\")\n",
        "print(classification_report(y_test, y_pred_xgb))"
      ]
    },
    {
      "cell_type": "code",
      "execution_count": 63,
      "metadata": {
        "colab": {
          "base_uri": "https://localhost:8080/"
        },
        "id": "ySnluL3U2k7v",
        "outputId": "f71623aa-8aa9-44bd-9d6c-163633dab101"
      },
      "outputs": [
        {
          "name": "stdout",
          "output_type": "stream",
          "text": [
            "{'accuracy': 0.933, 'recall': 0.933, 'F1 score': 0.933, 'Precision score': 0.934}\n"
          ]
        }
      ],
      "source": [
        "evaluation(y_test,y_pred_xgb)"
      ]
    },
    {
      "cell_type": "code",
      "execution_count": 64,
      "metadata": {
        "colab": {
          "base_uri": "https://localhost:8080/",
          "height": 564
        },
        "id": "l88k1XEs2rc1",
        "outputId": "d64aea9c-0cad-42d0-80aa-cb965350a6fc"
      },
      "outputs": [
        {
          "data": {
            "image/png": "[encoded data removed]",
            "text/plain": [
              "<Figure size 800x600 with 2 Axes>"
            ]
          },
          "metadata": {},
          "output_type": "display_data"
        }
      ],
      "source": [
        "cm = confusion_matrix(y_test, y_pred_xgb)\n",
        "\n",
        "plt.figure(figsize=(8, 6))\n",
        "sns.heatmap(cm, annot=True, fmt=\"d\", cmap=\"Reds\")\n",
        "plt.title('Confusion Matrix')\n",
        "plt.xlabel('True')\n",
        "plt.ylabel('Predict')\n",
        "plt.show()"
      ]
    },
    {
      "cell_type": "markdown",
      "metadata": {
        "id": "dqMlz6gL83Uw"
      },
      "source": [
        "Berdasarkan pelatihan model menggunakan data yang sudah dioversample, algoritma XGBoost Classifier memperoleh akurasi sebesar 93.3% dengan evaluasi model yang dihasilkan pada Recall 93.3%, Precision 93.4%, dan F1 score 93.3%\n",
        "\n",
        "Pada Confusion Matrix dapat dilihat bahwa:\n",
        "\n",
        "True Positive:35\n",
        "\n",
        "True Negative:35\n",
        "\n",
        "False Positive:3\n",
        "\n",
        "False Negative:2"
      ]
    },
    {
      "cell_type": "markdown",
      "metadata": {
        "id": "6vYt5hdL3FLm"
      },
      "source": [
        "### Oversample + Normalisasi"
      ]
    },
    {
      "cell_type": "markdown",
      "metadata": {
        "id": "DdnvfNWp3Jlj"
      },
      "source": [
        "### KNN"
      ]
    },
    {
      "cell_type": "code",
      "execution_count": 65,
      "metadata": {
        "colab": {
          "base_uri": "https://localhost:8080/",
          "height": 74
        },
        "id": "7ece6eU23Lo9",
        "outputId": "7460cac6-8ebd-4e1c-cb31-f84abeb04ba7"
      },
      "outputs": [
        {
          "data": {
            "text/html": [
              "<style>#sk-container-id-4 {color: black;background-color: white;}#sk-container-id-4 pre{padding: 0;}#sk-container-id-4 div.sk-toggleable {background-color: white;}#sk-container-id-4 label.sk-toggleable__label {cursor: pointer;display: block;width: 100%;margin-bottom: 0;padding: 0.3em;box-sizing: border-box;text-align: center;}#sk-container-id-4 label.sk-toggleable__label-arrow:before {content: \"▸\";float: left;margin-right: 0.25em;color: #696969;}#sk-container-id-4 label.sk-toggleable__label-arrow:hover:before {color: black;}#sk-container-id-4 div.sk-estimator:hover label.sk-toggleable__label-arrow:before {color: black;}#sk-container-id-4 div.sk-toggleable__content {max-height: 0;max-width: 0;overflow: hidden;text-align: left;background-color: #f0f8ff;}#sk-container-id-4 div.sk-toggleable__content pre {margin: 0.2em;color: black;border-radius: 0.25em;background-color: #f0f8ff;}#sk-container-id-4 input.sk-toggleable__control:checked~div.sk-toggleable__content {max-height: 200px;max-width: 100%;overflow: auto;}#sk-container-id-4 input.sk-toggleable__control:checked~label.sk-toggleable__label-arrow:before {content: \"▾\";}#sk-container-id-4 div.sk-estimator input.sk-toggleable__control:checked~label.sk-toggleable__label {background-color: #d4ebff;}#sk-container-id-4 div.sk-label input.sk-toggleable__control:checked~label.sk-toggleable__label {background-color: #d4ebff;}#sk-container-id-4 input.sk-hidden--visually {border: 0;clip: rect(1px 1px 1px 1px);clip: rect(1px, 1px, 1px, 1px);height: 1px;margin: -1px;overflow: hidden;padding: 0;position: absolute;width: 1px;}#sk-container-id-4 div.sk-estimator {font-family: monospace;background-color: #f0f8ff;border: 1px dotted black;border-radius: 0.25em;box-sizing: border-box;margin-bottom: 0.5em;}#sk-container-id-4 div.sk-estimator:hover {background-color: #d4ebff;}#sk-container-id-4 div.sk-parallel-item::after {content: \"\";width: 100%;border-bottom: 1px solid gray;flex-grow: 1;}#sk-container-id-4 div.sk-label:hover label.sk-toggleable__label {background-color: #d4ebff;}#sk-container-id-4 div.sk-serial::before {content: \"\";position: absolute;border-left: 1px solid gray;box-sizing: border-box;top: 0;bottom: 0;left: 50%;z-index: 0;}#sk-container-id-4 div.sk-serial {display: flex;flex-direction: column;align-items: center;background-color: white;padding-right: 0.2em;padding-left: 0.2em;position: relative;}#sk-container-id-4 div.sk-item {position: relative;z-index: 1;}#sk-container-id-4 div.sk-parallel {display: flex;align-items: stretch;justify-content: center;background-color: white;position: relative;}#sk-container-id-4 div.sk-item::before, #sk-container-id-4 div.sk-parallel-item::before {content: \"\";position: absolute;border-left: 1px solid gray;box-sizing: border-box;top: 0;bottom: 0;left: 50%;z-index: -1;}#sk-container-id-4 div.sk-parallel-item {display: flex;flex-direction: column;z-index: 1;position: relative;background-color: white;}#sk-container-id-4 div.sk-parallel-item:first-child::after {align-self: flex-end;width: 50%;}#sk-container-id-4 div.sk-parallel-item:last-child::after {align-self: flex-start;width: 50%;}#sk-container-id-4 div.sk-parallel-item:only-child::after {width: 0;}#sk-container-id-4 div.sk-dashed-wrapped {border: 1px dashed gray;margin: 0 0.4em 0.5em 0.4em;box-sizing: border-box;padding-bottom: 0.4em;background-color: white;}#sk-container-id-4 div.sk-label label {font-family: monospace;font-weight: bold;display: inline-block;line-height: 1.2em;}#sk-container-id-4 div.sk-label-container {text-align: center;}#sk-container-id-4 div.sk-container {/* jupyter's `normalize.less` sets `[hidden] { display: none; }` but bootstrap.min.css set `[hidden] { display: none !important; }` so we also need the `!important` here to be able to override the default hidden behavior on the sphinx rendered scikit-learn.org. See: https://github.com/scikit-learn/scikit-learn/issues/21755 */display: inline-block !important;position: relative;}#sk-container-id-4 div.sk-text-repr-fallback {display: none;}</style><div id=\"sk-container-id-4\" class=\"sk-top-container\"><div class=\"sk-text-repr-fallback\"><pre>KNeighborsClassifier(n_neighbors=3)</pre><b>In a Jupyter environment, please rerun this cell to show the HTML representation or trust the notebook. <br />On GitHub, the HTML representation is unable to render, please try loading this page with nbviewer.org.</b></div><div class=\"sk-container\" hidden><div class=\"sk-item\"><div class=\"sk-estimator sk-toggleable\"><input class=\"sk-toggleable__control sk-hidden--visually\" id=\"sk-estimator-id-4\" type=\"checkbox\" checked><label for=\"sk-estimator-id-4\" class=\"sk-toggleable__label sk-toggleable__label-arrow\">KNeighborsClassifier</label><div class=\"sk-toggleable__content\"><pre>KNeighborsClassifier(n_neighbors=3)</pre></div></div></div></div></div>"
            ],
            "text/plain": [
              "KNeighborsClassifier(n_neighbors=3)"
            ]
          },
          "execution_count": 65,
          "metadata": {},
          "output_type": "execute_result"
        }
      ],
      "source": [
        "knn_model = KNeighborsClassifier(n_neighbors=3)\n",
        "knn_model.fit(X_train_normal, y_train_normal)"
      ]
    },
    {
      "cell_type": "code",
      "execution_count": 66,
      "metadata": {
        "colab": {
          "base_uri": "https://localhost:8080/"
        },
        "id": "_cf-uRKu34SH",
        "outputId": "a969ed5b-d049-485f-8d0b-4c07b6bdfc15"
      },
      "outputs": [
        {
          "name": "stdout",
          "output_type": "stream",
          "text": [
            "K-Nearest Neighbors (KNN) Model:\n",
            "Accuracy: 0.867\n",
            "Classification Report:\n",
            "              precision    recall  f1-score   support\n",
            "\n",
            "           0       0.83      0.92      0.88        38\n",
            "           1       0.91      0.81      0.86        37\n",
            "\n",
            "    accuracy                           0.87        75\n",
            "   macro avg       0.87      0.87      0.87        75\n",
            "weighted avg       0.87      0.87      0.87        75\n",
            "\n"
          ]
        }
      ],
      "source": [
        "y_pred_knn = knn_model.predict(X_test_normal)\n",
        "\n",
        "# Evaluate the KNN model\n",
        "print(\"K-Nearest Neighbors (KNN) Model:\")\n",
        "accuracy_knn_smote_normal = round(accuracy_score(y_test_normal,y_pred_knn),3)\n",
        "print(\"Accuracy:\", accuracy_knn_smote_normal)\n",
        "print(\"Classification Report:\")\n",
        "print(classification_report(y_test_normal, y_pred_knn))"
      ]
    },
    {
      "cell_type": "code",
      "execution_count": 67,
      "metadata": {
        "colab": {
          "base_uri": "https://localhost:8080/"
        },
        "id": "BAGmMGxN3-w_",
        "outputId": "f9d3fd73-55ce-4330-9c89-2a1cfb1803d1"
      },
      "outputs": [
        {
          "name": "stdout",
          "output_type": "stream",
          "text": [
            "{'accuracy': 0.867, 'recall': 0.867, 'F1 score': 0.866, 'Precision score': 0.871}\n"
          ]
        }
      ],
      "source": [
        "evaluation(y_test_normal,y_pred_knn)"
      ]
    },
    {
      "cell_type": "code",
      "execution_count": 68,
      "metadata": {
        "colab": {
          "base_uri": "https://localhost:8080/",
          "height": 564
        },
        "id": "3Wqe5iIN4AvJ",
        "outputId": "c0477c86-cb9b-4bc4-80f4-ea774ec83608"
      },
      "outputs": [
        {
          "data": {
            "image/png": "[encoded data removed]",
            "text/plain": [
              "<Figure size 800x600 with 2 Axes>"
            ]
          },
          "metadata": {},
          "output_type": "display_data"
        }
      ],
      "source": [
        "cm = confusion_matrix(y_test_normal, y_pred_knn)\n",
        "\n",
        "plt.figure(figsize=(8, 6))\n",
        "sns.heatmap(cm, annot=True, fmt=\"d\", cmap=\"Reds\")\n",
        "plt.title('Confusion Matrix')\n",
        "plt.xlabel('True')\n",
        "plt.ylabel('Predict')\n",
        "plt.show()"
      ]
    },
    {
      "cell_type": "markdown",
      "metadata": {
        "id": "5Zk514Qf9MVU"
      },
      "source": [
        "Berdasarkan pelatihan model menggunakan kombinasi hasil oversample + normalisasi, algoritma KNN memperoleh akurasi sebesar 86.7%% dengan evaluasi model yang dihasilkan pada Recall 86.7%, Precision 87.1%, dan F1 score 86.6%\n",
        "\n",
        "Pada Confusion Matrix dapat dilihat bahwa:\n",
        "\n",
        "True Positive:35\n",
        "\n",
        "True Negative:30\n",
        "\n",
        "False Positive:3\n",
        "\n",
        "False Negative:7"
      ]
    },
    {
      "cell_type": "markdown",
      "metadata": {
        "id": "ENn2EmsN4GiA"
      },
      "source": [
        "### Random Forest"
      ]
    },
    {
      "cell_type": "code",
      "execution_count": 69,
      "metadata": {
        "colab": {
          "base_uri": "https://localhost:8080/",
          "height": 74
        },
        "id": "et9uIzYX4JU5",
        "outputId": "a7dc617f-033b-41fa-b8a6-2f00385f3471"
      },
      "outputs": [
        {
          "data": {
            "text/html": [
              "<style>#sk-container-id-5 {color: black;background-color: white;}#sk-container-id-5 pre{padding: 0;}#sk-container-id-5 div.sk-toggleable {background-color: white;}#sk-container-id-5 label.sk-toggleable__label {cursor: pointer;display: block;width: 100%;margin-bottom: 0;padding: 0.3em;box-sizing: border-box;text-align: center;}#sk-container-id-5 label.sk-toggleable__label-arrow:before {content: \"▸\";float: left;margin-right: 0.25em;color: #696969;}#sk-container-id-5 label.sk-toggleable__label-arrow:hover:before {color: black;}#sk-container-id-5 div.sk-estimator:hover label.sk-toggleable__label-arrow:before {color: black;}#sk-container-id-5 div.sk-toggleable__content {max-height: 0;max-width: 0;overflow: hidden;text-align: left;background-color: #f0f8ff;}#sk-container-id-5 div.sk-toggleable__content pre {margin: 0.2em;color: black;border-radius: 0.25em;background-color: #f0f8ff;}#sk-container-id-5 input.sk-toggleable__control:checked~div.sk-toggleable__content {max-height: 200px;max-width: 100%;overflow: auto;}#sk-container-id-5 input.sk-toggleable__control:checked~label.sk-toggleable__label-arrow:before {content: \"▾\";}#sk-container-id-5 div.sk-estimator input.sk-toggleable__control:checked~label.sk-toggleable__label {background-color: #d4ebff;}#sk-container-id-5 div.sk-label input.sk-toggleable__control:checked~label.sk-toggleable__label {background-color: #d4ebff;}#sk-container-id-5 input.sk-hidden--visually {border: 0;clip: rect(1px 1px 1px 1px);clip: rect(1px, 1px, 1px, 1px);height: 1px;margin: -1px;overflow: hidden;padding: 0;position: absolute;width: 1px;}#sk-container-id-5 div.sk-estimator {font-family: monospace;background-color: #f0f8ff;border: 1px dotted black;border-radius: 0.25em;box-sizing: border-box;margin-bottom: 0.5em;}#sk-container-id-5 div.sk-estimator:hover {background-color: #d4ebff;}#sk-container-id-5 div.sk-parallel-item::after {content: \"\";width: 100%;border-bottom: 1px solid gray;flex-grow: 1;}#sk-container-id-5 div.sk-label:hover label.sk-toggleable__label {background-color: #d4ebff;}#sk-container-id-5 div.sk-serial::before {content: \"\";position: absolute;border-left: 1px solid gray;box-sizing: border-box;top: 0;bottom: 0;left: 50%;z-index: 0;}#sk-container-id-5 div.sk-serial {display: flex;flex-direction: column;align-items: center;background-color: white;padding-right: 0.2em;padding-left: 0.2em;position: relative;}#sk-container-id-5 div.sk-item {position: relative;z-index: 1;}#sk-container-id-5 div.sk-parallel {display: flex;align-items: stretch;justify-content: center;background-color: white;position: relative;}#sk-container-id-5 div.sk-item::before, #sk-container-id-5 div.sk-parallel-item::before {content: \"\";position: absolute;border-left: 1px solid gray;box-sizing: border-box;top: 0;bottom: 0;left: 50%;z-index: -1;}#sk-container-id-5 div.sk-parallel-item {display: flex;flex-direction: column;z-index: 1;position: relative;background-color: white;}#sk-container-id-5 div.sk-parallel-item:first-child::after {align-self: flex-end;width: 50%;}#sk-container-id-5 div.sk-parallel-item:last-child::after {align-self: flex-start;width: 50%;}#sk-container-id-5 div.sk-parallel-item:only-child::after {width: 0;}#sk-container-id-5 div.sk-dashed-wrapped {border: 1px dashed gray;margin: 0 0.4em 0.5em 0.4em;box-sizing: border-box;padding-bottom: 0.4em;background-color: white;}#sk-container-id-5 div.sk-label label {font-family: monospace;font-weight: bold;display: inline-block;line-height: 1.2em;}#sk-container-id-5 div.sk-label-container {text-align: center;}#sk-container-id-5 div.sk-container {/* jupyter's `normalize.less` sets `[hidden] { display: none; }` but bootstrap.min.css set `[hidden] { display: none !important; }` so we also need the `!important` here to be able to override the default hidden behavior on the sphinx rendered scikit-learn.org. See: https://github.com/scikit-learn/scikit-learn/issues/21755 */display: inline-block !important;position: relative;}#sk-container-id-5 div.sk-text-repr-fallback {display: none;}</style><div id=\"sk-container-id-5\" class=\"sk-top-container\"><div class=\"sk-text-repr-fallback\"><pre>RandomForestClassifier(random_state=42)</pre><b>In a Jupyter environment, please rerun this cell to show the HTML representation or trust the notebook. <br />On GitHub, the HTML representation is unable to render, please try loading this page with nbviewer.org.</b></div><div class=\"sk-container\" hidden><div class=\"sk-item\"><div class=\"sk-estimator sk-toggleable\"><input class=\"sk-toggleable__control sk-hidden--visually\" id=\"sk-estimator-id-5\" type=\"checkbox\" checked><label for=\"sk-estimator-id-5\" class=\"sk-toggleable__label sk-toggleable__label-arrow\">RandomForestClassifier</label><div class=\"sk-toggleable__content\"><pre>RandomForestClassifier(random_state=42)</pre></div></div></div></div></div>"
            ],
            "text/plain": [
              "RandomForestClassifier(random_state=42)"
            ]
          },
          "execution_count": 69,
          "metadata": {},
          "output_type": "execute_result"
        }
      ],
      "source": [
        "rf_model = RandomForestClassifier(n_estimators=100, random_state=42)\n",
        "rf_model.fit(X_train_normal, y_train_normal)"
      ]
    },
    {
      "cell_type": "code",
      "execution_count": 70,
      "metadata": {
        "colab": {
          "base_uri": "https://localhost:8080/"
        },
        "id": "pXWX2_HQ40Mw",
        "outputId": "64ce0e62-3d4c-4774-df92-1f6bb1a55f6b"
      },
      "outputs": [
        {
          "name": "stdout",
          "output_type": "stream",
          "text": [
            "\n",
            "Random Forest Model:\n",
            "Accuracy: 0.933\n",
            "Classification Report:\n",
            "              precision    recall  f1-score   support\n",
            "\n",
            "           0       0.92      0.95      0.94        38\n",
            "           1       0.94      0.92      0.93        37\n",
            "\n",
            "    accuracy                           0.93        75\n",
            "   macro avg       0.93      0.93      0.93        75\n",
            "weighted avg       0.93      0.93      0.93        75\n",
            "\n"
          ]
        }
      ],
      "source": [
        "y_pred_rf = rf_model.predict(X_test_normal)\n",
        "\n",
        "#Evaluate the Random Forest model\n",
        "print(\"\\nRandom Forest Model:\")\n",
        "accuracy_rf_smote_normal = round(accuracy_score(y_test_normal, y_pred_rf),3)\n",
        "print(\"Accuracy:\",accuracy_rf_smote_normal)\n",
        "print(\"Classification Report:\")\n",
        "print(classification_report(y_test_normal, y_pred_rf))"
      ]
    },
    {
      "cell_type": "code",
      "execution_count": 71,
      "metadata": {
        "colab": {
          "base_uri": "https://localhost:8080/"
        },
        "id": "cacCkdkw5s8V",
        "outputId": "1aa17a7c-2d5b-491b-e9d3-d06726401e21"
      },
      "outputs": [
        {
          "name": "stdout",
          "output_type": "stream",
          "text": [
            "{'accuracy': 0.933, 'recall': 0.933, 'F1 score': 0.933, 'Precision score': 0.934}\n"
          ]
        }
      ],
      "source": [
        "evaluation(y_test_normal,y_pred_rf)"
      ]
    },
    {
      "cell_type": "code",
      "execution_count": 72,
      "metadata": {
        "colab": {
          "base_uri": "https://localhost:8080/",
          "height": 564
        },
        "id": "o9Abr6ZJ51W_",
        "outputId": "dcec26aa-d50e-4be2-80ed-064ff8ad6a58"
      },
      "outputs": [
        {
          "data": {
            "image/png": "[encoded data removed]",
            "text/plain": [
              "<Figure size 800x600 with 2 Axes>"
            ]
          },
          "metadata": {},
          "output_type": "display_data"
        }
      ],
      "source": [
        "cm = confusion_matrix(y_test_normal, y_pred_rf)\n",
        "\n",
        "plt.figure(figsize=(8,6))\n",
        "sns.heatmap(cm, annot=True, fmt=\"d\", cmap=\"Reds\")\n",
        "plt.title('Confusion Matrix')\n",
        "plt.xlabel('True')\n",
        "plt.ylabel('Predict')\n",
        "plt.show()"
      ]
    },
    {
      "cell_type": "markdown",
      "metadata": {
        "id": "OnEvocC49kmb"
      },
      "source": [
        "Berdasarkan pelatihan model menggunakan kombinasi hasil oversample + normalisasi, algoritma Random Forest memperoleh akurasi sebesar 93.3% dengan evaluasi model yang dihasilkan pada Recall 93.3%, Precision 93.4%, dan F1 score 93.3%\n",
        "\n",
        "Pada Confusion Matrix dapat dilihat bahwa:\n",
        "\n",
        "True Positive:36\n",
        "\n",
        "True Negative:34\n",
        "\n",
        "False Positive:2\n",
        "\n",
        "False Negative:3"
      ]
    },
    {
      "cell_type": "markdown",
      "metadata": {
        "id": "XObOG4ca646R"
      },
      "source": [
        "### XGBoost"
      ]
    },
    {
      "cell_type": "code",
      "execution_count": 73,
      "metadata": {
        "colab": {
          "base_uri": "https://localhost:8080/",
          "height": 248
        },
        "id": "zj703lHS6-g7",
        "outputId": "8b2fcd93-2903-4f7f-d3a1-32a3828ef263"
      },
      "outputs": [
        {
          "data": {
            "text/html": [
              "<style>#sk-container-id-6 {color: black;background-color: white;}#sk-container-id-6 pre{padding: 0;}#sk-container-id-6 div.sk-toggleable {background-color: white;}#sk-container-id-6 label.sk-toggleable__label {cursor: pointer;display: block;width: 100%;margin-bottom: 0;padding: 0.3em;box-sizing: border-box;text-align: center;}#sk-container-id-6 label.sk-toggleable__label-arrow:before {content: \"▸\";float: left;margin-right: 0.25em;color: #696969;}#sk-container-id-6 label.sk-toggleable__label-arrow:hover:before {color: black;}#sk-container-id-6 div.sk-estimator:hover label.sk-toggleable__label-arrow:before {color: black;}#sk-container-id-6 div.sk-toggleable__content {max-height: 0;max-width: 0;overflow: hidden;text-align: left;background-color: #f0f8ff;}#sk-container-id-6 div.sk-toggleable__content pre {margin: 0.2em;color: black;border-radius: 0.25em;background-color: #f0f8ff;}#sk-container-id-6 input.sk-toggleable__control:checked~div.sk-toggleable__content {max-height: 200px;max-width: 100%;overflow: auto;}#sk-container-id-6 input.sk-toggleable__control:checked~label.sk-toggleable__label-arrow:before {content: \"▾\";}#sk-container-id-6 div.sk-estimator input.sk-toggleable__control:checked~label.sk-toggleable__label {background-color: #d4ebff;}#sk-container-id-6 div.sk-label input.sk-toggleable__control:checked~label.sk-toggleable__label {background-color: #d4ebff;}#sk-container-id-6 input.sk-hidden--visually {border: 0;clip: rect(1px 1px 1px 1px);clip: rect(1px, 1px, 1px, 1px);height: 1px;margin: -1px;overflow: hidden;padding: 0;position: absolute;width: 1px;}#sk-container-id-6 div.sk-estimator {font-family: monospace;background-color: #f0f8ff;border: 1px dotted black;border-radius: 0.25em;box-sizing: border-box;margin-bottom: 0.5em;}#sk-container-id-6 div.sk-estimator:hover {background-color: #d4ebff;}#sk-container-id-6 div.sk-parallel-item::after {content: \"\";width: 100%;border-bottom: 1px solid gray;flex-grow: 1;}#sk-container-id-6 div.sk-label:hover label.sk-toggleable__label {background-color: #d4ebff;}#sk-container-id-6 div.sk-serial::before {content: \"\";position: absolute;border-left: 1px solid gray;box-sizing: border-box;top: 0;bottom: 0;left: 50%;z-index: 0;}#sk-container-id-6 div.sk-serial {display: flex;flex-direction: column;align-items: center;background-color: white;padding-right: 0.2em;padding-left: 0.2em;position: relative;}#sk-container-id-6 div.sk-item {position: relative;z-index: 1;}#sk-container-id-6 div.sk-parallel {display: flex;align-items: stretch;justify-content: center;background-color: white;position: relative;}#sk-container-id-6 div.sk-item::before, #sk-container-id-6 div.sk-parallel-item::before {content: \"\";position: absolute;border-left: 1px solid gray;box-sizing: border-box;top: 0;bottom: 0;left: 50%;z-index: -1;}#sk-container-id-6 div.sk-parallel-item {display: flex;flex-direction: column;z-index: 1;position: relative;background-color: white;}#sk-container-id-6 div.sk-parallel-item:first-child::after {align-self: flex-end;width: 50%;}#sk-container-id-6 div.sk-parallel-item:last-child::after {align-self: flex-start;width: 50%;}#sk-container-id-6 div.sk-parallel-item:only-child::after {width: 0;}#sk-container-id-6 div.sk-dashed-wrapped {border: 1px dashed gray;margin: 0 0.4em 0.5em 0.4em;box-sizing: border-box;padding-bottom: 0.4em;background-color: white;}#sk-container-id-6 div.sk-label label {font-family: monospace;font-weight: bold;display: inline-block;line-height: 1.2em;}#sk-container-id-6 div.sk-label-container {text-align: center;}#sk-container-id-6 div.sk-container {/* jupyter's `normalize.less` sets `[hidden] { display: none; }` but bootstrap.min.css set `[hidden] { display: none !important; }` so we also need the `!important` here to be able to override the default hidden behavior on the sphinx rendered scikit-learn.org. See: https://github.com/scikit-learn/scikit-learn/issues/21755 */display: inline-block !important;position: relative;}#sk-container-id-6 div.sk-text-repr-fallback {display: none;}</style><div id=\"sk-container-id-6\" class=\"sk-top-container\"><div class=\"sk-text-repr-fallback\"><pre>XGBClassifier(base_score=None, booster=None, callbacks=None,\n",
              "              colsample_bylevel=None, colsample_bynode=None,\n",
              "              colsample_bytree=None, device=None, early_stopping_rounds=None,\n",
              "              enable_categorical=False, eval_metric=None, feature_types=None,\n",
              "              gamma=None, grow_policy=None, importance_type=None,\n",
              "              interaction_constraints=None, learning_rate=0.1, max_bin=None,\n",
              "              max_cat_threshold=None, max_cat_to_onehot=None,\n",
              "              max_delta_step=None, max_depth=None, max_leaves=None,\n",
              "              min_child_weight=None, missing=nan, monotone_constraints=None,\n",
              "              multi_strategy=None, n_estimators=100, n_jobs=None,\n",
              "              num_parallel_tree=None, random_state=42, ...)</pre><b>In a Jupyter environment, please rerun this cell to show the HTML representation or trust the notebook. <br />On GitHub, the HTML representation is unable to render, please try loading this page with nbviewer.org.</b></div><div class=\"sk-container\" hidden><div class=\"sk-item\"><div class=\"sk-estimator sk-toggleable\"><input class=\"sk-toggleable__control sk-hidden--visually\" id=\"sk-estimator-id-6\" type=\"checkbox\" checked><label for=\"sk-estimator-id-6\" class=\"sk-toggleable__label sk-toggleable__label-arrow\">XGBClassifier</label><div class=\"sk-toggleable__content\"><pre>XGBClassifier(base_score=None, booster=None, callbacks=None,\n",
              "              colsample_bylevel=None, colsample_bynode=None,\n",
              "              colsample_bytree=None, device=None, early_stopping_rounds=None,\n",
              "              enable_categorical=False, eval_metric=None, feature_types=None,\n",
              "              gamma=None, grow_policy=None, importance_type=None,\n",
              "              interaction_constraints=None, learning_rate=0.1, max_bin=None,\n",
              "              max_cat_threshold=None, max_cat_to_onehot=None,\n",
              "              max_delta_step=None, max_depth=None, max_leaves=None,\n",
              "              min_child_weight=None, missing=nan, monotone_constraints=None,\n",
              "              multi_strategy=None, n_estimators=100, n_jobs=None,\n",
              "              num_parallel_tree=None, random_state=42, ...)</pre></div></div></div></div></div>"
            ],
            "text/plain": [
              "XGBClassifier(base_score=None, booster=None, callbacks=None,\n",
              "              colsample_bylevel=None, colsample_bynode=None,\n",
              "              colsample_bytree=None, device=None, early_stopping_rounds=None,\n",
              "              enable_categorical=False, eval_metric=None, feature_types=None,\n",
              "              gamma=None, grow_policy=None, importance_type=None,\n",
              "              interaction_constraints=None, learning_rate=0.1, max_bin=None,\n",
              "              max_cat_threshold=None, max_cat_to_onehot=None,\n",
              "              max_delta_step=None, max_depth=None, max_leaves=None,\n",
              "              min_child_weight=None, missing=nan, monotone_constraints=None,\n",
              "              multi_strategy=None, n_estimators=100, n_jobs=None,\n",
              "              num_parallel_tree=None, random_state=42, ...)"
            ]
          },
          "execution_count": 73,
          "metadata": {},
          "output_type": "execute_result"
        }
      ],
      "source": [
        "xgb_model = XGBClassifier(learning_rate=0.1, n_estimators=100, random_state=42)\n",
        "xgb_model.fit(X_train_normal, y_train_normal)"
      ]
    },
    {
      "cell_type": "code",
      "execution_count": 74,
      "metadata": {
        "colab": {
          "base_uri": "https://localhost:8080/"
        },
        "id": "yNaF5VcO7ZXS",
        "outputId": "d2b8a11e-4c29-461d-a179-21a414388a60"
      },
      "outputs": [
        {
          "name": "stdout",
          "output_type": "stream",
          "text": [
            "\n",
            "XGBoost Model:\n",
            "Accuracy: 0.933\n",
            "Classification Report:\n",
            "              precision    recall  f1-score   support\n",
            "\n",
            "           0       0.95      0.92      0.93        38\n",
            "           1       0.92      0.95      0.93        37\n",
            "\n",
            "    accuracy                           0.93        75\n",
            "   macro avg       0.93      0.93      0.93        75\n",
            "weighted avg       0.93      0.93      0.93        75\n",
            "\n"
          ]
        }
      ],
      "source": [
        "y_pred_xgb = xgb_model.predict(X_test_normal)\n",
        "\n",
        "# Evaluate the XGBoost model\n",
        "print(\"\\nXGBoost Model:\")\n",
        "accuracy_xgb_smote_normal = round(accuracy_score(y_test_normal, y_pred_xgb),3)\n",
        "print(\"Accuracy:\",accuracy_xgb_smote_normal)\n",
        "print(\"Classification Report:\")\n",
        "print(classification_report(y_test_normal, y_pred_xgb))"
      ]
    },
    {
      "cell_type": "code",
      "execution_count": 75,
      "metadata": {
        "colab": {
          "base_uri": "https://localhost:8080/"
        },
        "id": "8kAhsMbI8svZ",
        "outputId": "f6c13157-edb1-4d9e-bc80-41f4bb01f73c"
      },
      "outputs": [
        {
          "name": "stdout",
          "output_type": "stream",
          "text": [
            "{'accuracy': 0.933, 'recall': 0.933, 'F1 score': 0.933, 'Precision score': 0.934}\n"
          ]
        }
      ],
      "source": [
        "evaluation(y_test_normal,y_pred_xgb)"
      ]
    },
    {
      "cell_type": "code",
      "execution_count": 76,
      "metadata": {
        "colab": {
          "base_uri": "https://localhost:8080/",
          "height": 564
        },
        "id": "TyHeJDjy9NHW",
        "outputId": "ce40abd4-04aa-43e9-f1ea-e08c31b08647"
      },
      "outputs": [
        {
          "data": {
            "image/png": "[encoded data removed]",
            "text/plain": [
              "<Figure size 800x600 with 2 Axes>"
            ]
          },
          "metadata": {},
          "output_type": "display_data"
        }
      ],
      "source": [
        "cm = confusion_matrix(y_test_normal, y_pred_xgb)\n",
        "\n",
        "plt.figure(figsize=(8, 6))\n",
        "sns.heatmap(cm, annot=True, fmt=\"d\", cmap=\"Reds\")\n",
        "plt.title('Confusion Matrix')\n",
        "plt.xlabel('True')\n",
        "plt.ylabel('Predict')\n",
        "plt.show()"
      ]
    },
    {
      "cell_type": "markdown",
      "metadata": {
        "id": "5_CXomxd-CUp"
      },
      "source": [
        "Berdasarkan pelatihan model menggunakan kombinasi hasil oversample + normalisasi, algoritma Random Forest memperoleh akurasi sebesar 93.3% dengan evaluasi model yang dihasilkan pada Recall 93.3%, Precision 93.4%, dan F1 score 93.3%\n",
        "\n",
        "Pada Confusion Matrix dapat dilihat bahwa:\n",
        "\n",
        "True Positive:35\n",
        "\n",
        "True Negative:35\n",
        "\n",
        "False Positive:3\n",
        "\n",
        "False Negative:2"
      ]
    },
    {
      "cell_type": "markdown",
      "metadata": {
        "id": "UhWOwvNL9TIP"
      },
      "source": [
        "### Tunning + Normalization + Oversample"
      ]
    },
    {
      "cell_type": "markdown",
      "metadata": {
        "id": "my7NDZhjB5rp"
      },
      "source": [
        "### Random Search"
      ]
    },
    {
      "cell_type": "markdown",
      "metadata": {
        "id": "O3JneyKl-KFj"
      },
      "source": [
        "Random search adalah salah satu metode optimisasi yang digunakan dalam pemilihan parameter (hyperparameter) untuk model machine learning. Metode ini digunakan untuk mencari kombinasi parameter yang optimal dengan cara menguji secara acak berbagai kombinasi dari rentang nilai parameter yang telah ditentukan sebelumnya."
      ]
    },
    {
      "cell_type": "markdown",
      "metadata": {
        "id": "-XI7X6tW9ZTR"
      },
      "source": [
        "### KNN"
      ]
    },
    {
      "cell_type": "code",
      "execution_count": 77,
      "metadata": {
        "id": "XRnTApus-yCv"
      },
      "outputs": [],
      "source": [
        "from sklearn.model_selection import RandomizedSearchCV"
      ]
    },
    {
      "cell_type": "code",
      "execution_count": 78,
      "metadata": {
        "colab": {
          "base_uri": "https://localhost:8080/"
        },
        "id": "HGKPSjos9bIn",
        "outputId": "a12d175d-f589-459f-e95f-1920105029f0"
      },
      "outputs": [
        {
          "name": "stdout",
          "output_type": "stream",
          "text": [
            "Best parameters: {'weights': 'distance', 'n_neighbors': 4, 'metric': 'manhattan', 'leaf_size': 24, 'algorithm': 'kd_tree'}\n"
          ]
        }
      ],
      "source": [
        "knn_model = KNeighborsClassifier()\n",
        "\n",
        "param_grid = {\n",
        "    \"n_neighbors\": range(3, 21),\n",
        "    \"metric\": [\"euclidean\", \"manhattan\", \"chebyshev\"],\n",
        "    \"weights\": [\"uniform\", \"distance\"],\n",
        "    \"algorithm\": [\"auto\", \"ball_tree\", \"kd_tree\"],\n",
        "    \"leaf_size\": range(10, 61),\n",
        "}\n",
        "\n",
        "knn_model = RandomizedSearchCV(estimator=knn_model, param_distributions=param_grid, n_iter=100, scoring=\"accuracy\", cv=5)\n",
        "\n",
        "\n",
        "knn_model.fit(X_train_normal, y_train_normal)\n",
        "\n",
        "best_params = knn_model.best_params_\n",
        "print(f\"Best parameters: {best_params}\")"
      ]
    },
    {
      "cell_type": "code",
      "execution_count": 79,
      "metadata": {
        "colab": {
          "base_uri": "https://localhost:8080/"
        },
        "id": "7HAaJelJ-7u3",
        "outputId": "37ca9ea6-cb9a-4ccf-80ae-e0cbe3675817"
      },
      "outputs": [
        {
          "name": "stdout",
          "output_type": "stream",
          "text": [
            "K-Nearest Neighbors (KNN) Model:\n",
            "Accuracy: 0.907\n",
            "Classification Report:\n",
            "              precision    recall  f1-score   support\n",
            "\n",
            "           0       0.88      0.95      0.91        38\n",
            "           1       0.94      0.86      0.90        37\n",
            "\n",
            "    accuracy                           0.91        75\n",
            "   macro avg       0.91      0.91      0.91        75\n",
            "weighted avg       0.91      0.91      0.91        75\n",
            "\n"
          ]
        }
      ],
      "source": [
        "y_pred_knn = knn_model.predict(X_test_normal)\n",
        "\n",
        "# Evaluate the KNN model\n",
        "print(\"K-Nearest Neighbors (KNN) Model:\")\n",
        "accuracy_knn_smote_normal_Tun = round(accuracy_score(y_test_normal,y_pred_knn),3)\n",
        "print(\"Accuracy:\", accuracy_knn_smote_normal_Tun)\n",
        "print(\"Classification Report:\")\n",
        "print(classification_report(y_test_normal, y_pred_knn))"
      ]
    },
    {
      "cell_type": "code",
      "execution_count": 80,
      "metadata": {
        "colab": {
          "base_uri": "https://localhost:8080/"
        },
        "id": "hkfx8wgdAiW_",
        "outputId": "79d0bbef-1fed-4789-f835-567e35d67749"
      },
      "outputs": [
        {
          "name": "stdout",
          "output_type": "stream",
          "text": [
            "{'accuracy': 0.907, 'recall': 0.907, 'F1 score': 0.906, 'Precision score': 0.909}\n"
          ]
        }
      ],
      "source": [
        "evaluation(y_test_normal,y_pred_knn)"
      ]
    },
    {
      "cell_type": "code",
      "execution_count": 81,
      "metadata": {
        "colab": {
          "base_uri": "https://localhost:8080/",
          "height": 564
        },
        "id": "0H4qQvJNAliK",
        "outputId": "c272f86a-387c-4a9a-9dfb-6f556abb9ef0"
      },
      "outputs": [
        {
          "data": {
            "image/png": "[encoded data removed]",
            "text/plain": [
              "<Figure size 800x600 with 2 Axes>"
            ]
          },
          "metadata": {},
          "output_type": "display_data"
        }
      ],
      "source": [
        "cm = confusion_matrix(y_test_normal, y_pred_knn)\n",
        "\n",
        "plt.figure(figsize=(8, 6))\n",
        "sns.heatmap(cm, annot=True, fmt=\"d\", cmap=\"Reds\")\n",
        "plt.title('Confusion Matrix')\n",
        "plt.xlabel('True')\n",
        "plt.ylabel('Predict')\n",
        "plt.show()"
      ]
    },
    {
      "cell_type": "markdown",
      "metadata": {
        "id": "x0bjiij_-q7Y"
      },
      "source": [
        "Berdasarkan pelatihan model menggunakan kombinasi hasil oversample + normalisasi + Tuning, algoritma KNN memperoleh akurasi sebesar 90.7% dengan evaluasi model yang dihasilkan pada Recall 90.7%, Precision 90.9%, dan F1 score 90.6%\n",
        "\n",
        "Pada Confusion Matrix dapat dilihat bahwa:\n",
        "\n",
        "True Positive:36\n",
        "\n",
        "True Negative:32\n",
        "\n",
        "False Positive:2\n",
        "\n",
        "False Negative:5"
      ]
    },
    {
      "cell_type": "markdown",
      "metadata": {
        "id": "ZV_PXS_bAr9z"
      },
      "source": [
        "### Random Forest"
      ]
    },
    {
      "cell_type": "code",
      "execution_count": 82,
      "metadata": {
        "colab": {
          "base_uri": "https://localhost:8080/"
        },
        "id": "fkHnSf-fAvYa",
        "outputId": "aaa366c1-0028-40ff-8b4f-256e3df1ede6"
      },
      "outputs": [
        {
          "name": "stderr",
          "output_type": "stream",
          "text": [
            "C:\\Users\\Lenovo\\AppData\\Local\\Packages\\PythonSoftwareFoundation.Python.3.11_qbz5n2kfra8p0\\LocalCache\\local-packages\\Python311\\site-packages\\sklearn\\model_selection\\_search.py:305: UserWarning: The total space of parameters 32 is smaller than n_iter=100. Running 32 iterations. For exhaustive searches, use GridSearchCV.\n",
            "  warnings.warn(\n"
          ]
        },
        {
          "name": "stdout",
          "output_type": "stream",
          "text": [
            "Best parameters: {'n_estimators': 100, 'min_samples_split': 5, 'min_samples_leaf': 1, 'max_features': 'sqrt', 'max_depth': 15}\n"
          ]
        }
      ],
      "source": [
        "rf_model = RandomForestClassifier()\n",
        "\n",
        "param_grid = {\n",
        "    \"n_estimators\": [100, 200],\n",
        "    \"max_depth\": [ 10, 15],\n",
        "    \"min_samples_leaf\": [1, 2],\n",
        "    \"min_samples_split\": [2, 5],\n",
        "    \"max_features\": [\"sqrt\", \"log2\"],\n",
        "    # \"random_state\": [42, 100, 200]\n",
        "}\n",
        "\n",
        "rf_model = RandomizedSearchCV(rf_model, param_grid, n_iter=100, cv=5, n_jobs=-1)\n",
        "\n",
        "rf_model.fit(X_train_normal, y_train_normal)\n",
        "\n",
        "best_params = rf_model.best_params_\n",
        "print(f\"Best parameters: {best_params}\")"
      ]
    },
    {
      "cell_type": "code",
      "execution_count": 83,
      "metadata": {
        "colab": {
          "base_uri": "https://localhost:8080/"
        },
        "id": "GNnVS___A1YY",
        "outputId": "83eea025-b463-4a88-d03b-96b5c8bcdc62"
      },
      "outputs": [
        {
          "name": "stdout",
          "output_type": "stream",
          "text": [
            "\n",
            "Random Forest Model:\n",
            "Accuracy: 0.947\n",
            "Classification Report:\n",
            "              precision    recall  f1-score   support\n",
            "\n",
            "           0       0.95      0.95      0.95        38\n",
            "           1       0.95      0.95      0.95        37\n",
            "\n",
            "    accuracy                           0.95        75\n",
            "   macro avg       0.95      0.95      0.95        75\n",
            "weighted avg       0.95      0.95      0.95        75\n",
            "\n"
          ]
        }
      ],
      "source": [
        "y_pred_rf = rf_model.predict(X_test_normal)\n",
        "\n",
        "# Evaluate the Random Forest model\n",
        "print(\"\\nRandom Forest Model:\")\n",
        "accuracy_rf_smote_normal_Tun = round(accuracy_score(y_test_normal, y_pred_rf),3)\n",
        "print(\"Accuracy:\",accuracy_rf_smote_normal_Tun)\n",
        "print(\"Classification Report:\")\n",
        "print(classification_report(y_test_normal, y_pred_rf))"
      ]
    },
    {
      "cell_type": "code",
      "execution_count": 84,
      "metadata": {
        "colab": {
          "base_uri": "https://localhost:8080/"
        },
        "id": "WzpiKeJIBDjV",
        "outputId": "169f0ae4-760b-4c9e-db61-ee7ce3d6264d"
      },
      "outputs": [
        {
          "name": "stdout",
          "output_type": "stream",
          "text": [
            "{'accuracy': 0.947, 'recall': 0.947, 'F1 score': 0.947, 'Precision score': 0.947}\n"
          ]
        }
      ],
      "source": [
        "evaluation(y_test_normal,y_pred_rf)"
      ]
    },
    {
      "cell_type": "code",
      "execution_count": 85,
      "metadata": {
        "colab": {
          "base_uri": "https://localhost:8080/",
          "height": 564
        },
        "id": "7yRLwsk1BHGB",
        "outputId": "da41d217-029a-40d3-b8b9-92501031f453"
      },
      "outputs": [
        {
          "data": {
            "image/png": "[encoded data removed]",
            "text/plain": [
              "<Figure size 800x600 with 2 Axes>"
            ]
          },
          "metadata": {},
          "output_type": "display_data"
        }
      ],
      "source": [
        "cm = confusion_matrix(y_test_normal, y_pred_knn)\n",
        "\n",
        "\n",
        "plt.figure(figsize=(8, 6))\n",
        "sns.heatmap(cm, annot=True, fmt=\"d\", cmap=\"Reds\")\n",
        "plt.title('Confusion Matrix')\n",
        "plt.xlabel('True')\n",
        "plt.ylabel('Predict')\n",
        "plt.show()"
      ]
    },
    {
      "cell_type": "markdown",
      "metadata": {
        "id": "3I145_QX_JOE"
      },
      "source": [
        "Berdasarkan pelatihan model menggunakan kombinasi hasil oversample + normalisasi + Tuning, algoritma Random Forest memperoleh akurasi sebesar 93.3% dengan evaluasi model yang dihasilkan pada Recall 93.3%, Precision 93.4%, dan F1 score 93.3%\n",
        "\n",
        "Pada Confusion Matrix dapat dilihat bahwa:\n",
        "\n",
        "True Positive:36\n",
        "\n",
        "True Negative:32\n",
        "\n",
        "False Positive:2\n",
        "\n",
        "False Negative:5"
      ]
    },
    {
      "cell_type": "markdown",
      "metadata": {
        "id": "xMj1KzA8BS7Y"
      },
      "source": [
        "### XGBoost"
      ]
    },
    {
      "cell_type": "code",
      "execution_count": 86,
      "metadata": {
        "colab": {
          "base_uri": "https://localhost:8080/"
        },
        "id": "qGt-9WP4BXxy",
        "outputId": "f4e1deeb-cd2b-4b66-833a-c4f708a2d20e"
      },
      "outputs": [
        {
          "name": "stdout",
          "output_type": "stream",
          "text": [
            "Best parameters: {'n_estimators': 100, 'max_depth': 7, 'learning_rate': 0.01, 'gamma': 0, 'colsample_bytree': 0.7}\n"
          ]
        }
      ],
      "source": [
        "xgb_model = XGBClassifier()\n",
        "\n",
        "param_grid = {\n",
        "    \"max_depth\": [3, 5, 7],\n",
        "    \"learning_rate\": [0.01, 0.1],\n",
        "    \"n_estimators\": [100, 200],\n",
        "    \"gamma\": [0, 0.1],\n",
        "    \"colsample_bytree\": [0.7, 0.8],\n",
        "}\n",
        "\n",
        "xgb_model = RandomizedSearchCV(xgb_model, param_grid, n_iter=10, cv=5, n_jobs=-1)\n",
        "\n",
        "\n",
        "xgb_model.fit(X_train_normal, y_train_normal)\n",
        "\n",
        "best_params = xgb_model.best_params_\n",
        "print(f\"Best parameters: {best_params}\")"
      ]
    },
    {
      "cell_type": "code",
      "execution_count": 87,
      "metadata": {
        "colab": {
          "base_uri": "https://localhost:8080/"
        },
        "id": "LwmQbJLqBuBO",
        "outputId": "cbc9f9da-9f3f-4488-dd4c-ce7635ff3e8f"
      },
      "outputs": [
        {
          "name": "stdout",
          "output_type": "stream",
          "text": [
            "\n",
            "XGBoost Model:\n",
            "Accuracy: 0.92\n",
            "Classification Report:\n",
            "              precision    recall  f1-score   support\n",
            "\n",
            "           0       0.90      0.95      0.92        38\n",
            "           1       0.94      0.89      0.92        37\n",
            "\n",
            "    accuracy                           0.92        75\n",
            "   macro avg       0.92      0.92      0.92        75\n",
            "weighted avg       0.92      0.92      0.92        75\n",
            "\n"
          ]
        }
      ],
      "source": [
        "y_pred_xgb = xgb_model.predict(X_test_normal)\n",
        "\n",
        "# Evaluate the XGBoost model\n",
        "print(\"\\nXGBoost Model:\")\n",
        "accuracy_xgb_smote_normal_Tun = round(accuracy_score(y_test_normal, y_pred_xgb),3)\n",
        "print(\"Accuracy:\",accuracy_xgb_smote_normal_Tun)\n",
        "print(\"Classification Report:\")\n",
        "print(classification_report(y_test_normal, y_pred_xgb))"
      ]
    },
    {
      "cell_type": "code",
      "execution_count": 88,
      "metadata": {
        "colab": {
          "base_uri": "https://localhost:8080/"
        },
        "id": "0c6uph71By8L",
        "outputId": "1c752a1e-5233-4ba3-fb47-16850987281a"
      },
      "outputs": [
        {
          "name": "stdout",
          "output_type": "stream",
          "text": [
            "{'accuracy': 0.92, 'recall': 0.92, 'F1 score': 0.92, 'Precision score': 0.921}\n"
          ]
        }
      ],
      "source": [
        "evaluation(y_test_normal,y_pred_xgb)"
      ]
    },
    {
      "cell_type": "code",
      "execution_count": 89,
      "metadata": {
        "colab": {
          "base_uri": "https://localhost:8080/",
          "height": 564
        },
        "id": "fRiwERPkB1aP",
        "outputId": "3f054e19-471c-488e-f351-be983acfe956"
      },
      "outputs": [
        {
          "data": {
            "image/png": "[encoded data removed]",
            "text/plain": [
              "<Figure size 800x600 with 2 Axes>"
            ]
          },
          "metadata": {},
          "output_type": "display_data"
        }
      ],
      "source": [
        "cm = confusion_matrix(y_test_normal, y_pred_xgb)\n",
        "\n",
        "plt.figure(figsize=(8, 6))\n",
        "sns.heatmap(cm, annot=True, fmt=\"d\", cmap=\"Reds\")\n",
        "plt.title('Confusion Matrix')\n",
        "plt.xlabel('True')\n",
        "plt.ylabel('Predict')\n",
        "plt.show()"
      ]
    },
    {
      "cell_type": "markdown",
      "metadata": {
        "id": "6UBFaFhZ_Tow"
      },
      "source": [
        "Berdasarkan pelatihan model menggunakan kombinasi hasil oversample + normalisasi + Tuning, algoritma XGBoost Classifier memperoleh akurasi sebesar 92% dengan evaluasi model yang dihasilkan pada Recall 92%, Precision 92.1%, dan F1 score 92%\n",
        "\n",
        "Pada Confusion Matrix dapat dilihat bahwa:\n",
        "\n",
        "True Positive:36\n",
        "\n",
        "True Negative:33\n",
        "\n",
        "False Positive:2\n",
        "\n",
        "False Negative:4"
      ]
    },
    {
      "cell_type": "markdown",
      "metadata": {
        "id": "k73U7QYzL9N9"
      },
      "source": [
        "### 9. Evaluasi & Kesimpulan"
      ]
    },
    {
      "cell_type": "code",
      "execution_count": 90,
      "metadata": {
        "colab": {
          "base_uri": "https://localhost:8080/",
          "height": 143
        },
        "id": "GIcTrdVEMA7h",
        "outputId": "09c4da8b-8b82-4dbb-d049-db9509d7ea2d"
      },
      "outputs": [
        {
          "data": {
            "text/html": [
              "<div>\n",
              "<style scoped>\n",
              "    .dataframe tbody tr th:only-of-type {\n",
              "        vertical-align: middle;\n",
              "    }\n",
              "\n",
              "    .dataframe tbody tr th {\n",
              "        vertical-align: top;\n",
              "    }\n",
              "\n",
              "    .dataframe thead th {\n",
              "        text-align: right;\n",
              "    }\n",
              "</style>\n",
              "<table border=\"1\" class=\"dataframe\">\n",
              "  <thead>\n",
              "    <tr style=\"text-align: right;\">\n",
              "      <th></th>\n",
              "      <th>Model</th>\n",
              "      <th>Accuracy</th>\n",
              "    </tr>\n",
              "  </thead>\n",
              "  <tbody>\n",
              "    <tr>\n",
              "      <th>0</th>\n",
              "      <td>K-Nearest Neighbour</td>\n",
              "      <td>76.0</td>\n",
              "    </tr>\n",
              "    <tr>\n",
              "      <th>1</th>\n",
              "      <td>Random Forest</td>\n",
              "      <td>93.3</td>\n",
              "    </tr>\n",
              "    <tr>\n",
              "      <th>2</th>\n",
              "      <td>XGBoost</td>\n",
              "      <td>93.3</td>\n",
              "    </tr>\n",
              "  </tbody>\n",
              "</table>\n",
              "</div>"
            ],
            "text/plain": [
              "                 Model  Accuracy\n",
              "0  K-Nearest Neighbour      76.0\n",
              "1        Random Forest      93.3\n",
              "2              XGBoost      93.3"
            ]
          },
          "execution_count": 90,
          "metadata": {},
          "output_type": "execute_result"
        }
      ],
      "source": [
        "model_comp1 = pd.DataFrame({'Model': ['K-Nearest Neighbour','Random Forest',\n",
        "                    'XGBoost'], 'Accuracy': [accuracy_knn_smote*100,\n",
        "                    accuracy_rf_smote*100,accuracy_xgb_smote*100]})\n",
        "model_comp1.head()"
      ]
    },
    {
      "cell_type": "code",
      "execution_count": 91,
      "metadata": {
        "colab": {
          "base_uri": "https://localhost:8080/",
          "height": 569
        },
        "id": "IcxCEDwxMK95",
        "outputId": "13991af7-1e14-4515-a4bf-0247e0cdf5b7"
      },
      "outputs": [
        {
          "data": {
            "image/png": "[encoded data removed]",
            "text/plain": [
              "<Figure size 640x480 with 1 Axes>"
            ]
          },
          "metadata": {},
          "output_type": "display_data"
        }
      ],
      "source": [
        "# Membuat bar plot dengan keterangan jumlah\n",
        "fig, ax = plt.subplots()\n",
        "bars = plt.bar(model_comp1['Model'], model_comp1['Accuracy'], color=['pink', 'lightblue', 'yellow'])\n",
        "plt.xlabel('Model')\n",
        "plt.ylabel('Accuracy (%)')\n",
        "plt.title('Oversample')\n",
        "plt.xticks(rotation=45, ha='right')  # Untuk memutar label sumbu x agar lebih mudah dibaca\n",
        "\n",
        "# Menambahkan keterangan jumlah di atas setiap bar\n",
        "for bar in bars:\n",
        "    yval = bar.get_height()\n",
        "    plt.text(bar.get_x() + bar.get_width()/2, yval, round(yval, 2), ha='center', va='bottom')\n",
        "\n",
        "plt.show()"
      ]
    },
    {
      "cell_type": "code",
      "execution_count": 92,
      "metadata": {
        "colab": {
          "base_uri": "https://localhost:8080/",
          "height": 143
        },
        "id": "T8Wofk1bMR-7",
        "outputId": "5d4ec57a-d6c3-4d32-b323-4853c15e266e"
      },
      "outputs": [
        {
          "data": {
            "text/html": [
              "<div>\n",
              "<style scoped>\n",
              "    .dataframe tbody tr th:only-of-type {\n",
              "        vertical-align: middle;\n",
              "    }\n",
              "\n",
              "    .dataframe tbody tr th {\n",
              "        vertical-align: top;\n",
              "    }\n",
              "\n",
              "    .dataframe thead th {\n",
              "        text-align: right;\n",
              "    }\n",
              "</style>\n",
              "<table border=\"1\" class=\"dataframe\">\n",
              "  <thead>\n",
              "    <tr style=\"text-align: right;\">\n",
              "      <th></th>\n",
              "      <th>Model</th>\n",
              "      <th>Accuracy</th>\n",
              "    </tr>\n",
              "  </thead>\n",
              "  <tbody>\n",
              "    <tr>\n",
              "      <th>0</th>\n",
              "      <td>K-Nearest Neighbour</td>\n",
              "      <td>86.7</td>\n",
              "    </tr>\n",
              "    <tr>\n",
              "      <th>1</th>\n",
              "      <td>Random Forest</td>\n",
              "      <td>93.3</td>\n",
              "    </tr>\n",
              "    <tr>\n",
              "      <th>2</th>\n",
              "      <td>XGBoost</td>\n",
              "      <td>93.3</td>\n",
              "    </tr>\n",
              "  </tbody>\n",
              "</table>\n",
              "</div>"
            ],
            "text/plain": [
              "                 Model  Accuracy\n",
              "0  K-Nearest Neighbour      86.7\n",
              "1        Random Forest      93.3\n",
              "2              XGBoost      93.3"
            ]
          },
          "execution_count": 92,
          "metadata": {},
          "output_type": "execute_result"
        }
      ],
      "source": [
        "model_comp2 = pd.DataFrame({'Model': ['K-Nearest Neighbour','Random Forest',\n",
        "                    'XGBoost'], 'Accuracy': [accuracy_knn_smote_normal*100,\n",
        "                    accuracy_rf_smote_normal*100,accuracy_xgb_smote_normal*100]})\n",
        "model_comp2.head()"
      ]
    },
    {
      "cell_type": "code",
      "execution_count": 93,
      "metadata": {
        "colab": {
          "base_uri": "https://localhost:8080/",
          "height": 569
        },
        "id": "sMM2cgElMcCe",
        "outputId": "05f649aa-f7e9-44b8-cd24-cbeea7d7da20"
      },
      "outputs": [
        {
          "data": {
            "image/png": "[encoded data removed]",
            "text/plain": [
              "<Figure size 640x480 with 1 Axes>"
            ]
          },
          "metadata": {},
          "output_type": "display_data"
        }
      ],
      "source": [
        "# Membuat bar plot dengan keterangan jumlah\n",
        "fig, ax = plt.subplots()\n",
        "bars = plt.bar(model_comp2['Model'], model_comp2['Accuracy'], color=['pink', 'lightblue', 'yellow'])\n",
        "plt.xlabel('Model')\n",
        "plt.ylabel('Accuracy (%)')\n",
        "plt.title('Normalization + Oversampling')\n",
        "plt.xticks(rotation=45, ha='right')  # Untuk memutar label sumbu x agar lebih mudah dibaca\n",
        "\n",
        "# Menambahkan keterangan jumlah di atas setiap bar\n",
        "for bar in bars:\n",
        "    yval = bar.get_height()\n",
        "    plt.text(bar.get_x() + bar.get_width()/2, yval, round(yval, 2), ha='center', va='bottom')\n",
        "\n",
        "plt.show()"
      ]
    },
    {
      "cell_type": "code",
      "execution_count": 94,
      "metadata": {
        "colab": {
          "base_uri": "https://localhost:8080/",
          "height": 143
        },
        "id": "9cSOnMceMgqo",
        "outputId": "4a21e09b-4354-43e2-da76-2864ff06736f"
      },
      "outputs": [
        {
          "data": {
            "text/html": [
              "<div>\n",
              "<style scoped>\n",
              "    .dataframe tbody tr th:only-of-type {\n",
              "        vertical-align: middle;\n",
              "    }\n",
              "\n",
              "    .dataframe tbody tr th {\n",
              "        vertical-align: top;\n",
              "    }\n",
              "\n",
              "    .dataframe thead th {\n",
              "        text-align: right;\n",
              "    }\n",
              "</style>\n",
              "<table border=\"1\" class=\"dataframe\">\n",
              "  <thead>\n",
              "    <tr style=\"text-align: right;\">\n",
              "      <th></th>\n",
              "      <th>Model</th>\n",
              "      <th>Accuracy</th>\n",
              "    </tr>\n",
              "  </thead>\n",
              "  <tbody>\n",
              "    <tr>\n",
              "      <th>0</th>\n",
              "      <td>K-Nearest Neighbour</td>\n",
              "      <td>90.7</td>\n",
              "    </tr>\n",
              "    <tr>\n",
              "      <th>1</th>\n",
              "      <td>Random Forest</td>\n",
              "      <td>94.7</td>\n",
              "    </tr>\n",
              "    <tr>\n",
              "      <th>2</th>\n",
              "      <td>XGBoost</td>\n",
              "      <td>92.0</td>\n",
              "    </tr>\n",
              "  </tbody>\n",
              "</table>\n",
              "</div>"
            ],
            "text/plain": [
              "                 Model  Accuracy\n",
              "0  K-Nearest Neighbour      90.7\n",
              "1        Random Forest      94.7\n",
              "2              XGBoost      92.0"
            ]
          },
          "execution_count": 94,
          "metadata": {},
          "output_type": "execute_result"
        }
      ],
      "source": [
        "model_comp3 = pd.DataFrame({'Model': ['K-Nearest Neighbour','Random Forest',\n",
        "                    'XGBoost'], 'Accuracy': [accuracy_knn_smote_normal_Tun*100,\n",
        "                    accuracy_rf_smote_normal_Tun*100,accuracy_xgb_smote_normal_Tun*100]})\n",
        "model_comp3.head()"
      ]
    },
    {
      "cell_type": "code",
      "execution_count": 95,
      "metadata": {
        "colab": {
          "base_uri": "https://localhost:8080/",
          "height": 569
        },
        "id": "YQJL6mM5MmtV",
        "outputId": "4c02e74d-b6db-45fc-9032-4feb0f1b94cd"
      },
      "outputs": [
        {
          "data": {
            "image/png": "[encoded data removed]",
            "text/plain": [
              "<Figure size 640x480 with 1 Axes>"
            ]
          },
          "metadata": {},
          "output_type": "display_data"
        }
      ],
      "source": [
        "# Membuat bar plot dengan keterangan jumlah\n",
        "fig, ax = plt.subplots()\n",
        "bars = plt.bar(model_comp3['Model'], model_comp3['Accuracy'], color=['pink', 'lightblue', 'yellow'])\n",
        "plt.xlabel('Model')\n",
        "plt.ylabel('Accuracy (%)')\n",
        "plt.title('Normalization + Oversampling + Tunning')\n",
        "plt.xticks(rotation=45, ha='right')  # Untuk memutar label sumbu x agar lebih mudah dibaca\n",
        "\n",
        "# Menambahkan keterangan jumlah di atas setiap bar\n",
        "for bar in bars:\n",
        "    yval = bar.get_height()\n",
        "    plt.text(bar.get_x() + bar.get_width()/2, yval, round(yval, 2), ha='center', va='bottom')"
      ]
    },
    {
      "cell_type": "code",
      "execution_count": 96,
      "metadata": {
        "id": "yTrE3PU2Mu8f"
      },
      "outputs": [],
      "source": [
        "# Data frame\n",
        "model_compBest = pd.DataFrame({\n",
        "    'Model': ['K-Nearest Neighbour OverSample Tunning', 'Random Forest OverSample',\n",
        "              'XGB OverSample Standarization Tunning'],\n",
        "    'Accuracy': [accuracy_knn_smote_normal_Tun*100, accuracy_rf_smote_normal*100,\n",
        "                 accuracy_xgb_smote_normal_Tun*100]\n",
        "})"
      ]
    },
    {
      "cell_type": "code",
      "execution_count": 97,
      "metadata": {
        "colab": {
          "base_uri": "https://localhost:8080/",
          "height": 674
        },
        "id": "moZhRyd3Mzfd",
        "outputId": "8bb8a6c2-ec44-4d22-c4de-0c5a6daa265c"
      },
      "outputs": [
        {
          "data": {
            "image/png": "[encoded data removed]",
            "text/plain": [
              "<Figure size 640x480 with 1 Axes>"
            ]
          },
          "metadata": {},
          "output_type": "display_data"
        }
      ],
      "source": [
        "# Membuat bar plot dengan keterangan jumlah\n",
        "fig, ax = plt.subplots()\n",
        "bars = plt.bar(model_compBest['Model'], model_compBest['Accuracy'], color=['pink', 'lightblue', 'yellow'])\n",
        "plt.xlabel('Model')\n",
        "plt.ylabel('Accuracy (%)')\n",
        "plt.title('Best Model Comparison')\n",
        "plt.xticks(rotation=45, ha='right')  # Untuk memutar label sumbu x agar lebih mudah dibaca\n",
        "\n",
        "# Menambahkan keterangan jumlah di atas setiap bar\n",
        "for bar in bars:\n",
        "    yval = bar.get_height()\n",
        "    plt.text(bar.get_x() + bar.get_width()/2, yval, round(yval, 2), ha='center', va='bottom')\n",
        "\n",
        "plt.show()"
      ]
    },
    {
      "cell_type": "markdown",
      "metadata": {
        "id": "XIOhcV5QAJmG"
      },
      "source": [
        "### Kesimpulan"
      ]
    },
    {
      "cell_type": "markdown",
      "metadata": {
        "id": "SYttcLxzA6GN"
      },
      "source": [
        "Dari penelitian di atas dapat disimpulkan bahwa, algoritma terbaik dihasilkan oleh Random Forest dengan akurasi sebesar 93.3%, kemudian disusul dengan XGBoost dengan akurasi 92% dan KNN 90.7%. Penggunaan Hyperparameter tuning seperti Random Search ternyata mampu untuk meningkatkan akurasi pada model terutama pada algoritma KNN. Sebelumnya algoritma KNN memiliki akurasi model di rentang 76 - 87% bisa naik menjadi 90.7%, kenaikan akurasi pada model tersebut kurang lebih mencapai 3%. Karena penelitian ini berbasis kesehatan, akurasi saja tidak cukup untuk melihat apakah model yang kita gunakan sudah efektif dalam kasus klasifikasi penyakit jantung.\n",
        "\n",
        "Kita perlu melihat nilai recall pada masing masing model. Nilai recall terbaik pada kasus ini dicapai oleh algoritma Random Forest yakni sebesar 93.3% disusul dengan XGBoost sebesar 92% dan KNN sebesar 90.7%. Dilihat dari evaluasi menggunakan confusion matrix, ketiga model memiliki tingkat predictable yang sama, yang artinya ketiga tiganya dapat memprediksi berapa banyak pasien yang mengidap penyakit jantung. **Dari keseluruhan yang telah dijelaskan di atas, algoritma terbaik untuk kasus klasifikasi penyakit jantung pada dataset Hungarian.data adalah Random Forest**"
      ]
    },
    {
      "cell_type": "markdown",
      "metadata": {
        "id": "xy9dHONmEQ13"
      },
      "source": [
        "### 10. Deploy Streamlit"
      ]
    },
    {
      "cell_type": "code",
      "execution_count": 98,
      "metadata": {
        "id": "ATQgum479Gmc"
      },
      "outputs": [],
      "source": [
        "import pickle"
      ]
    },
    {
      "cell_type": "code",
      "execution_count": 99,
      "metadata": {
        "id": "7el2ZoSlcRcx"
      },
      "outputs": [],
      "source": [
        "with open('rf_model.pkl', 'wb') as f:\n",
        "    pickle.dump(rf_model, f)\n",
        "\n",
        "# Simpan akurasi KNN dalam pickle\n",
        "model_info = {'df4MinMax':df_cleaned, 'accuracy':accuracy_rf_smote_normal_Tun*100}\n",
        "with open('model_info.pkl', 'wb') as f:\n",
        "    pickle.dump(model_info, f)"
      ]
    },
    {
      "cell_type": "code",
      "execution_count": 100,
      "metadata": {
        "id": "DHmAZxArxQIz"
      },
      "outputs": [],
      "source": [
        "# Menyimpan scaler ke dalam file pickle\n",
        "filename = \"scaler.pkl\"  # Nama file pickle yang akan disimpan\n",
        "with open(filename, \"wb\") as file:\n",
        "    pickle.dump(scaler, file)"
      ]
    }
  ],
  "metadata": {
    "colab": {
      "provenance": []
    },
    "kernelspec": {
      "display_name": "Python 3",
      "name": "python3"
    },
    "language_info": {
      "codemirror_mode": {
        "name": "ipython",
        "version": 3
      },
      "file_extension": ".py",
      "mimetype": "text/x-python",
      "name": "python",
      "nbconvert_exporter": "python",
      "pygments_lexer": "ipython3",
      "version": "3.11.7"
    }
  },
  "nbformat": 4,
  "nbformat_minor": 0
}
